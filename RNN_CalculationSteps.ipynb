{
 "cells": [
  {
   "cell_type": "code",
   "execution_count": 425,
   "metadata": {},
   "outputs": [],
   "source": [
    "import numpy as np"
   ]
  },
  {
   "cell_type": "code",
   "execution_count": 426,
   "metadata": {},
   "outputs": [],
   "source": [
    "def softmax(x):\n",
    "    exp_x = np.exp(x)\n",
    "    return exp_x / np.sum(exp_x)"
   ]
  },
  {
   "cell_type": "code",
   "execution_count": 427,
   "metadata": {},
   "outputs": [],
   "source": [
    "# GRADED FUNCTION: rnn_cell_forward\n",
    "\n",
    "def rnn_cell_forward(xt, a_prev, parameters):\n",
    "    \"\"\"\n",
    "    Implements a single forward step of the RNN-cell as described in Figure (2)\n",
    "\n",
    "    Arguments:\n",
    "    xt -- your input data at timestep \"t\", numpy array of shape (n_x, m).\n",
    "    a_prev -- Hidden state at timestep \"t-1\", numpy array of shape (n_a, m)\n",
    "    parameters -- python dictionary containing:\n",
    "                        Wax -- Weight matrix multiplying the input, numpy array of shape (n_a, n_x)\n",
    "                        Waa -- Weight matrix multiplying the hidden state, numpy array of shape (n_a, n_a)\n",
    "                        Wya -- Weight matrix relating the hidden-state to the output, numpy array of shape (n_y, n_a)\n",
    "                        ba --  Bias, numpy array of shape (n_a, 1)\n",
    "                        by -- Bias relating the hidden-state to the output, numpy array of shape (n_y, 1)\n",
    "    Returns:\n",
    "    a_next -- next hidden state, of shape (n_a, m)\n",
    "    yt_pred -- prediction at timestep \"t\", numpy array of shape (n_y, m)\n",
    "    cache -- tuple of values needed for the backward pass, contains (a_next, a_prev, xt, parameters)\n",
    "    \"\"\"\n",
    "    \n",
    "    # Retrieve parameters from \"parameters\"\n",
    "    Wax = parameters[\"Wax\"]\n",
    "    Waa = parameters[\"Waa\"]\n",
    "    Wya = parameters[\"Wya\"]\n",
    "    ba = parameters[\"ba\"]\n",
    "    by = parameters[\"by\"]\n",
    "    \n",
    "    ### START CODE HERE ### (≈2 lines)\n",
    "    # compute next activation state using the formula given above\n",
    "    a_next = np.tanh(np.dot(Wax, xt) + np.dot(Waa, a_prev) + ba)\n",
    "\n",
    "    # compute output of the current cell using the formula given above\n",
    "    yt_pred = softmax(np.dot(Wya, a_next) + by)\n",
    "    ### END CODE HERE ###\n",
    "    \n",
    "    # store values you need for backward propagation in cache\n",
    "    cache = (a_next, a_prev, xt, parameters)\n",
    "    \n",
    "    return a_next, yt_pred, cache"
   ]
  },
  {
   "cell_type": "code",
   "execution_count": 428,
   "metadata": {},
   "outputs": [
    {
     "name": "stdout",
     "output_type": "stream",
     "text": [
      "a_next[4] =  [ 0.59584544  0.18141802  0.61311866  0.99808218  0.85016201  0.99980978\n",
      " -0.18887155  0.99815551  0.6531151   0.82872037]\n",
      "a_next.shape =  (5, 10)\n",
      "yt_pred[1] = [0.17867403 0.00059564 0.00192797 0.00231747 0.0396566  0.00828257\n",
      " 0.00990921 0.21155864 0.43903066 0.00713304]\n",
      "yt_pred.shape =  (2, 10)\n"
     ]
    }
   ],
   "source": [
    "np.random.seed(1)\n",
    "xt = np.random.randn(3,10)\n",
    "a_prev = np.random.randn(5,10)\n",
    "Waa = np.random.randn(5,5)\n",
    "Wax = np.random.randn(5,3)\n",
    "Wya = np.random.randn(2,5)\n",
    "ba = np.random.randn(5,1)\n",
    "by = np.random.randn(2,1)\n",
    "parameters = {\"Waa\": Waa, \"Wax\": Wax, \"Wya\": Wya, \"ba\": ba, \"by\": by}\n",
    "\n",
    "a_next, yt_pred, cache = rnn_cell_forward(xt, a_prev, parameters)\n",
    "print(\"a_next[4] = \", a_next[4])\n",
    "print(\"a_next.shape = \", a_next.shape)\n",
    "print(\"yt_pred[1] =\", yt_pred[1])\n",
    "print(\"yt_pred.shape = \", yt_pred.shape)"
   ]
  },
  {
   "cell_type": "code",
   "execution_count": 429,
   "metadata": {},
   "outputs": [],
   "source": [
    "# GRADED FUNCTION: rnn_forward\n",
    "\n",
    "def rnn_forward(x, a0, parameters):\n",
    "    \"\"\"\n",
    "    Implement the forward propagation of the recurrent neural network described in Figure (3).\n",
    "\n",
    "    Arguments:\n",
    "    x -- Input data for every time-step, of shape (n_x, m, T_x).\n",
    "    a0 -- Initial hidden state, of shape (n_a, m)\n",
    "    parameters -- python dictionary containing:\n",
    "                        Waa -- Weight matrix multiplying the hidden state, numpy array of shape (n_a, n_a)\n",
    "                        Wax -- Weight matrix multiplying the input, numpy array of shape (n_a, n_x)\n",
    "                        Wya -- Weight matrix relating the hidden-state to the output, numpy array of shape (n_y, n_a)\n",
    "                        ba --  Bias numpy array of shape (n_a, 1)\n",
    "                        by -- Bias relating the hidden-state to the output, numpy array of shape (n_y, 1)\n",
    "\n",
    "    Returns:\n",
    "    a -- Hidden states for every time-step, numpy array of shape (n_a, m, T_x)\n",
    "    y_pred -- Predictions for every time-step, numpy array of shape (n_y, m, T_x)\n",
    "    caches -- tuple of values needed for the backward pass, contains (list of caches, x)\n",
    "    \"\"\"\n",
    "    \n",
    "    # Initialize \"caches\" which will contain the list of all caches\n",
    "    caches = []\n",
    "    \n",
    "    # Retrieve dimensions from shapes of x and Wy\n",
    "    n_x, m, T_x = x.shape\n",
    "    n_y, n_a = parameters[\"Wya\"].shape\n",
    "    \n",
    "    ### START CODE HERE ###\n",
    "    \n",
    "    # initialize \"a\" and \"y\" with zeros (≈2 lines)\n",
    "    a = np.zeros((n_a, m, T_x))\n",
    "    y_pred = np.zeros((n_y, m, T_x))\n",
    "    \n",
    "    # Initialize a_next (≈1 line)\n",
    "    a_next = a0\n",
    "    \n",
    "    # loop over all time-steps\n",
    "    for t in range(T_x):\n",
    "        # Update next hidden state, compute the prediction, get the cache (≈1 line)\n",
    "        a_next, yt_pred, cache = rnn_cell_forward(x[:,:,t], a_next, parameters)\n",
    "        # Save the value of the new \"next\" hidden state in a (≈1 line)\n",
    "        a[:,:,t] = a_next\n",
    "        # Save the value of the prediction in y (≈1 line)\n",
    "        y_pred[:,:,t] = yt_pred\n",
    "        # Append \"cache\" to \"caches\" (≈1 line)\n",
    "        caches.append(cache)\n",
    "        \n",
    "        print(\"a = \", a)\n",
    "        print(\"y_pred =\", y_pred)\n",
    "        \n",
    "    ### END CODE HERE ###\n",
    "    \n",
    "    # store values needed for backward propagation in cache\n",
    "    caches = (caches, x)\n",
    "    \n",
    "    return a, y_pred, caches"
   ]
  },
  {
   "cell_type": "code",
   "execution_count": 430,
   "metadata": {},
   "outputs": [
    {
     "name": "stdout",
     "output_type": "stream",
     "text": [
      "(4, 2, 1)\n"
     ]
    }
   ],
   "source": [
    "x = np.array([\n",
    " [ [0], [0.475429975]],\n",
    " [[0.475429975], [1]],\n",
    " [[1], [0.427518428]],\n",
    " [[0.427518428], [0.771498771]],\n",
    " ])\n",
    "\n",
    "hidden_unit = 5\n",
    "time_step = 2\n",
    "\n",
    "print(x.shape)"
   ]
  },
  {
   "cell_type": "code",
   "execution_count": 431,
   "metadata": {},
   "outputs": [
    {
     "name": "stdout",
     "output_type": "stream",
     "text": [
      "(4, 1, 2)\n",
      "a =  [[[-0.99999817  0.        ]]\n",
      "\n",
      " [[ 0.99996147  0.        ]]\n",
      "\n",
      " [[-0.43331753  0.        ]]\n",
      "\n",
      " [[-0.9848844   0.        ]]\n",
      "\n",
      " [[ 0.96903934  0.        ]]]\n",
      "y_pred = [[[0.16134821 0.        ]]\n",
      "\n",
      " [[0.83865179 0.        ]]]\n",
      "a =  [[[-0.99999817  0.88413849]]\n",
      "\n",
      " [[ 0.99996147 -0.85682758]]\n",
      "\n",
      " [[-0.43331753  0.99601615]]\n",
      "\n",
      " [[-0.9848844   0.99266241]]\n",
      "\n",
      " [[ 0.96903934  0.99989989]]]\n",
      "y_pred = [[[0.16134821 0.01435299]]\n",
      "\n",
      " [[0.83865179 0.98564701]]]\n"
     ]
    }
   ],
   "source": [
    "from sklearn.preprocessing import MinMaxScaler\n",
    "\n",
    "np.random.seed(1)\n",
    "# x = np.random.randn(5,1,2) # rows | col | time_steps\n",
    "# x = np.array([[[0]],\n",
    "#  [[0.475429975]],\n",
    "#  [[1]],\n",
    "#  [[0.427518428]],\n",
    "#  [[0.771498771]],\n",
    "#  ])\n",
    "\n",
    "x = np.array([\n",
    " [[0, 0.475429975]],\n",
    " [[0.475429975, 1]],\n",
    " [[1, 0.427518428]],\n",
    " [[0.427518428, 0.771498771]],\n",
    " ])\n",
    "\n",
    "# x = np.array([\n",
    "#  [ [0], [0.475429975]],\n",
    "#  [[0.475429975], [1]],\n",
    "#  [[1], [0.427518428]],\n",
    "#  [[0.427518428], [0.771498771]],\n",
    "#  ])\n",
    "\n",
    "hidden_unit = 5\n",
    "time_step = 2\n",
    "\n",
    "print(x.shape)\n",
    "\n",
    "a0 = np.random.randn(hidden_unit,1) # hidden_unit | col\n",
    "Waa = np.random.randn(hidden_unit,hidden_unit) # hidden units | hidden units\n",
    "Wax = np.random.randn(hidden_unit,4) # hidden units | rows\n",
    "Wya = np.random.randn(2,hidden_unit) # n_predict | hidden units\n",
    "ba = np.random.randn(hidden_unit,1) # hidden units | 1\n",
    "by = np.random.randn(2,1) # n_predict | 1\n",
    "parameters = {\"Waa\": Waa, \"Wax\": Wax, \"Wya\": Wya, \"ba\": ba, \"by\": by}\n",
    "\n",
    "a, y_pred, caches = rnn_forward(x, a0, parameters)\n",
    "# print(\"a.shape = \", a.shape)\n",
    "# print(\"y_pred.shape = \", y_pred.shape)\n",
    "# print(\"caches[1][1][0] =\", caches[1][1][0])\n",
    "# print(\"len(caches) = \", len(caches))\n",
    "\n",
    "# print(a)"
   ]
  },
  {
   "cell_type": "code",
   "execution_count": 432,
   "metadata": {},
   "outputs": [
    {
     "name": "stdout",
     "output_type": "stream",
     "text": [
      "[0.         0.47542998]\n",
      "[0.47542998 1.        ]\n",
      "[1.         0.42751843]\n",
      "[0.42751843 0.77149877]\n"
     ]
    }
   ],
   "source": [
    "for arr in x:\n",
    "    print(\", \".join(str(x) for x in arr))"
   ]
  },
  {
   "cell_type": "code",
   "execution_count": 433,
   "metadata": {},
   "outputs": [
    {
     "name": "stdout",
     "output_type": "stream",
     "text": [
      "1.6243453636632417\n",
      "-0.6117564136500754\n",
      "-0.5281717522634557\n",
      "-1.0729686221561705\n",
      "0.8654076293246785\n"
     ]
    }
   ],
   "source": [
    "for arr in a0:\n",
    "    print(\", \".join(str(x) for x in arr))"
   ]
  },
  {
   "cell_type": "code",
   "execution_count": 434,
   "metadata": {},
   "outputs": [
    {
     "name": "stdout",
     "output_type": "stream",
     "text": [
      "-2.3015386968802827, 1.74481176421648, -0.7612069008951028, 0.31903909605709857, -0.2493703754774101\n",
      "1.462107937044974, -2.060140709497654, -0.3224172040135075, -0.38405435466841564, 1.1337694423354374\n",
      "-1.0998912673140309, -0.17242820755043575, -0.8778584179213718, 0.04221374671559283, 0.5828152137158222\n",
      "-1.1006191772129212, 1.1447237098396141, 0.9015907205927955, 0.5024943389018682, 0.9008559492644118\n",
      "-0.6837278591743331, -0.12289022551864817, -0.9357694342590688, -0.2678880796260159, 0.530355466738186\n"
     ]
    }
   ],
   "source": [
    "for arr in Waa:\n",
    "    print(\", \".join(str(x) for x in arr))"
   ]
  },
  {
   "cell_type": "code",
   "execution_count": 435,
   "metadata": {},
   "outputs": [
    {
     "name": "stdout",
     "output_type": "stream",
     "text": [
      "-0.691660751725309, -0.39675352685597737, -0.6871727001195994, -0.8452056414987196\n",
      "-0.671246130836819, -0.01266459891890136, -1.1173103486352778, 0.23441569781709215\n",
      "1.6598021771098705, 0.7420441605773356, -0.19183555236161492, -0.8876289640848363\n",
      "-0.7471582937508376, 1.6924546010277466, 0.05080775477602897, -0.6369956465693534\n",
      "0.19091548466746602, 2.100255136478842, 0.12015895248162915, 0.6172031097074192\n"
     ]
    }
   ],
   "source": [
    "for arr in Wax:\n",
    "    print(\", \".join(str(x) for x in arr))"
   ]
  },
  {
   "cell_type": "code",
   "execution_count": 436,
   "metadata": {},
   "outputs": [
    {
     "name": "stdout",
     "output_type": "stream",
     "text": [
      "0.3001703199558275, -0.35224984649351865, -1.1425181980221402, -0.3493427224128775, -0.2088942333747781\n",
      "0.5866231911821976, 0.8389834138745049, 0.9311020813035573, 0.2855873252542588, 0.8851411642707281\n"
     ]
    }
   ],
   "source": [
    "for arr in Wya:\n",
    "    print(\", \".join(str(x) for x in arr))"
   ]
  },
  {
   "cell_type": "code",
   "execution_count": 437,
   "metadata": {},
   "outputs": [
    {
     "name": "stdout",
     "output_type": "stream",
     "text": [
      "-0.7543979409966528\n",
      "1.2528681552332879\n",
      "0.5129298204180088\n",
      "-0.29809283510271567\n",
      "0.48851814653749703\n"
     ]
    }
   ],
   "source": [
    "for arr in ba:\n",
    "    print(\", \".join(str(x) for x in arr))"
   ]
  },
  {
   "cell_type": "code",
   "execution_count": 438,
   "metadata": {},
   "outputs": [
    {
     "name": "stdout",
     "output_type": "stream",
     "text": [
      "-0.07557171302105573\n",
      "1.131629387451427\n"
     ]
    }
   ],
   "source": [
    "for arr in by:\n",
    "    print(\", \".join(str(x) for x in arr))"
   ]
  }
 ],
 "metadata": {
  "kernelspec": {
   "display_name": "Python 3",
   "language": "python",
   "name": "python3"
  },
  "language_info": {
   "codemirror_mode": {
    "name": "ipython",
    "version": 3
   },
   "file_extension": ".py",
   "mimetype": "text/x-python",
   "name": "python",
   "nbconvert_exporter": "python",
   "pygments_lexer": "ipython3",
   "version": "3.10.10"
  },
  "orig_nbformat": 4
 },
 "nbformat": 4,
 "nbformat_minor": 2
}
