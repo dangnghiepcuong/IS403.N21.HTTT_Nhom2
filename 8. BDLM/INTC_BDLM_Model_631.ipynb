{
 "cells": [
  {
   "cell_type": "code",
   "execution_count": 25,
   "metadata": {},
   "outputs": [
    {
     "name": "stdout",
     "output_type": "stream",
     "text": [
      "Requirement already satisfied: numpy in c:\\users\\dell\\appdata\\local\\packages\\pythonsoftwarefoundation.python.3.9_qbz5n2kfra8p0\\localcache\\local-packages\\python39\\site-packages (1.24.3)\n",
      "Note: you may need to restart the kernel to use updated packages.\n"
     ]
    },
    {
     "name": "stderr",
     "output_type": "stream",
     "text": [
      "WARNING: You are using pip version 22.0.4; however, version 23.1.2 is available.\n",
      "You should consider upgrading via the 'C:\\Users\\Dell\\AppData\\Local\\Microsoft\\WindowsApps\\PythonSoftwareFoundation.Python.3.9_qbz5n2kfra8p0\\python.exe -m pip install --upgrade pip' command.\n"
     ]
    }
   ],
   "source": [
    "%pip install numpy"
   ]
  },
  {
   "cell_type": "code",
   "execution_count": 26,
   "metadata": {},
   "outputs": [
    {
     "name": "stdout",
     "output_type": "stream",
     "text": [
      "Requirement already satisfied: pydlm in c:\\users\\dell\\appdata\\local\\packages\\pythonsoftwarefoundation.python.3.9_qbz5n2kfra8p0\\localcache\\local-packages\\python39\\site-packages (0.1.1.12)Note: you may need to restart the kernel to use updated packages.\n",
      "\n",
      "Requirement already satisfied: numpy in c:\\users\\dell\\appdata\\local\\packages\\pythonsoftwarefoundation.python.3.9_qbz5n2kfra8p0\\localcache\\local-packages\\python39\\site-packages (from pydlm) (1.24.3)\n",
      "Requirement already satisfied: matplotlib in c:\\users\\dell\\appdata\\local\\packages\\pythonsoftwarefoundation.python.3.9_qbz5n2kfra8p0\\localcache\\local-packages\\python39\\site-packages (from pydlm) (3.7.1)\n",
      "Requirement already satisfied: packaging>=20.0 in c:\\users\\dell\\appdata\\local\\packages\\pythonsoftwarefoundation.python.3.9_qbz5n2kfra8p0\\localcache\\local-packages\\python39\\site-packages (from matplotlib->pydlm) (23.1)\n",
      "Requirement already satisfied: importlib-resources>=3.2.0 in c:\\users\\dell\\appdata\\local\\packages\\pythonsoftwarefoundation.python.3.9_qbz5n2kfra8p0\\localcache\\local-packages\\python39\\site-packages (from matplotlib->pydlm) (5.12.0)\n",
      "Requirement already satisfied: fonttools>=4.22.0 in c:\\users\\dell\\appdata\\local\\packages\\pythonsoftwarefoundation.python.3.9_qbz5n2kfra8p0\\localcache\\local-packages\\python39\\site-packages (from matplotlib->pydlm) (4.39.3)\n",
      "Requirement already satisfied: contourpy>=1.0.1 in c:\\users\\dell\\appdata\\local\\packages\\pythonsoftwarefoundation.python.3.9_qbz5n2kfra8p0\\localcache\\local-packages\\python39\\site-packages (from matplotlib->pydlm) (1.0.7)\n",
      "Requirement already satisfied: pyparsing>=2.3.1 in c:\\users\\dell\\appdata\\local\\packages\\pythonsoftwarefoundation.python.3.9_qbz5n2kfra8p0\\localcache\\local-packages\\python39\\site-packages (from matplotlib->pydlm) (3.0.9)\n",
      "Requirement already satisfied: python-dateutil>=2.7 in c:\\users\\dell\\appdata\\local\\packages\\pythonsoftwarefoundation.python.3.9_qbz5n2kfra8p0\\localcache\\local-packages\\python39\\site-packages (from matplotlib->pydlm) (2.8.2)\n",
      "Requirement already satisfied: pillow>=6.2.0 in c:\\users\\dell\\appdata\\local\\packages\\pythonsoftwarefoundation.python.3.9_qbz5n2kfra8p0\\localcache\\local-packages\\python39\\site-packages (from matplotlib->pydlm) (9.5.0)\n",
      "Requirement already satisfied: cycler>=0.10 in c:\\users\\dell\\appdata\\local\\packages\\pythonsoftwarefoundation.python.3.9_qbz5n2kfra8p0\\localcache\\local-packages\\python39\\site-packages (from matplotlib->pydlm) (0.11.0)\n",
      "Requirement already satisfied: kiwisolver>=1.0.1 in c:\\users\\dell\\appdata\\local\\packages\\pythonsoftwarefoundation.python.3.9_qbz5n2kfra8p0\\localcache\\local-packages\\python39\\site-packages (from matplotlib->pydlm) (1.4.4)\n",
      "Requirement already satisfied: zipp>=3.1.0 in c:\\users\\dell\\appdata\\local\\packages\\pythonsoftwarefoundation.python.3.9_qbz5n2kfra8p0\\localcache\\local-packages\\python39\\site-packages (from importlib-resources>=3.2.0->matplotlib->pydlm) (3.15.0)\n",
      "Requirement already satisfied: six>=1.5 in c:\\users\\dell\\appdata\\local\\packages\\pythonsoftwarefoundation.python.3.9_qbz5n2kfra8p0\\localcache\\local-packages\\python39\\site-packages (from python-dateutil>=2.7->matplotlib->pydlm) (1.16.0)\n"
     ]
    },
    {
     "name": "stderr",
     "output_type": "stream",
     "text": [
      "WARNING: You are using pip version 22.0.4; however, version 23.1.2 is available.\n",
      "You should consider upgrading via the 'C:\\Users\\Dell\\AppData\\Local\\Microsoft\\WindowsApps\\PythonSoftwareFoundation.Python.3.9_qbz5n2kfra8p0\\python.exe -m pip install --upgrade pip' command.\n"
     ]
    }
   ],
   "source": [
    "%pip install pydlm"
   ]
  },
  {
   "cell_type": "code",
   "execution_count": 27,
   "metadata": {},
   "outputs": [
    {
     "name": "stdout",
     "output_type": "stream",
     "text": [
      "Requirement already satisfied: pandas in c:\\users\\dell\\appdata\\local\\packages\\pythonsoftwarefoundation.python.3.9_qbz5n2kfra8p0\\localcache\\local-packages\\python39\\site-packages (2.0.1)\n",
      "Requirement already satisfied: tzdata>=2022.1 in c:\\users\\dell\\appdata\\local\\packages\\pythonsoftwarefoundation.python.3.9_qbz5n2kfra8p0\\localcache\\local-packages\\python39\\site-packages (from pandas) (2023.3)\n",
      "Requirement already satisfied: numpy>=1.20.3 in c:\\users\\dell\\appdata\\local\\packages\\pythonsoftwarefoundation.python.3.9_qbz5n2kfra8p0\\localcache\\local-packages\\python39\\site-packages (from pandas) (1.24.3)\n",
      "Requirement already satisfied: python-dateutil>=2.8.2 in c:\\users\\dell\\appdata\\local\\packages\\pythonsoftwarefoundation.python.3.9_qbz5n2kfra8p0\\localcache\\local-packages\\python39\\site-packages (from pandas) (2.8.2)\n",
      "Requirement already satisfied: pytz>=2020.1 in c:\\users\\dell\\appdata\\local\\packages\\pythonsoftwarefoundation.python.3.9_qbz5n2kfra8p0\\localcache\\local-packages\\python39\\site-packages (from pandas) (2023.3)\n",
      "Requirement already satisfied: six>=1.5 in c:\\users\\dell\\appdata\\local\\packages\\pythonsoftwarefoundation.python.3.9_qbz5n2kfra8p0\\localcache\\local-packages\\python39\\site-packages (from python-dateutil>=2.8.2->pandas) (1.16.0)\n",
      "Note: you may need to restart the kernel to use updated packages.\n"
     ]
    },
    {
     "name": "stderr",
     "output_type": "stream",
     "text": [
      "WARNING: You are using pip version 22.0.4; however, version 23.1.2 is available.\n",
      "You should consider upgrading via the 'C:\\Users\\Dell\\AppData\\Local\\Microsoft\\WindowsApps\\PythonSoftwareFoundation.Python.3.9_qbz5n2kfra8p0\\python.exe -m pip install --upgrade pip' command.\n"
     ]
    }
   ],
   "source": [
    "%pip install pandas"
   ]
  },
  {
   "cell_type": "code",
   "execution_count": 28,
   "metadata": {},
   "outputs": [
    {
     "name": "stdout",
     "output_type": "stream",
     "text": [
      "Requirement already satisfied: openpyxl in c:\\users\\dell\\appdata\\local\\packages\\pythonsoftwarefoundation.python.3.9_qbz5n2kfra8p0\\localcache\\local-packages\\python39\\site-packages (3.1.2)\n",
      "Requirement already satisfied: et-xmlfile in c:\\users\\dell\\appdata\\local\\packages\\pythonsoftwarefoundation.python.3.9_qbz5n2kfra8p0\\localcache\\local-packages\\python39\\site-packages (from openpyxl) (1.1.0)\n",
      "Note: you may need to restart the kernel to use updated packages.\n"
     ]
    },
    {
     "name": "stderr",
     "output_type": "stream",
     "text": [
      "WARNING: You are using pip version 22.0.4; however, version 23.1.2 is available.\n",
      "You should consider upgrading via the 'C:\\Users\\Dell\\AppData\\Local\\Microsoft\\WindowsApps\\PythonSoftwareFoundation.Python.3.9_qbz5n2kfra8p0\\python.exe -m pip install --upgrade pip' command.\n"
     ]
    }
   ],
   "source": [
    "%pip install openpyxl\n"
   ]
  },
  {
   "cell_type": "code",
   "execution_count": 29,
   "metadata": {},
   "outputs": [
    {
     "name": "stdout",
     "output_type": "stream",
     "text": [
      "Requirement already satisfied: scikit-learn in c:\\users\\dell\\appdata\\local\\packages\\pythonsoftwarefoundation.python.3.9_qbz5n2kfra8p0\\localcache\\local-packages\\python39\\site-packages (1.2.2)\n",
      "Requirement already satisfied: joblib>=1.1.1 in c:\\users\\dell\\appdata\\local\\packages\\pythonsoftwarefoundation.python.3.9_qbz5n2kfra8p0\\localcache\\local-packages\\python39\\site-packages (from scikit-learn) (1.2.0)\n",
      "Requirement already satisfied: numpy>=1.17.3 in c:\\users\\dell\\appdata\\local\\packages\\pythonsoftwarefoundation.python.3.9_qbz5n2kfra8p0\\localcache\\local-packages\\python39\\site-packages (from scikit-learn) (1.24.3)\n",
      "Requirement already satisfied: threadpoolctl>=2.0.0 in c:\\users\\dell\\appdata\\local\\packages\\pythonsoftwarefoundation.python.3.9_qbz5n2kfra8p0\\localcache\\local-packages\\python39\\site-packages (from scikit-learn) (3.1.0)\n",
      "Requirement already satisfied: scipy>=1.3.2 in c:\\users\\dell\\appdata\\local\\packages\\pythonsoftwarefoundation.python.3.9_qbz5n2kfra8p0\\localcache\\local-packages\\python39\\site-packages (from scikit-learn) (1.10.1)\n",
      "Note: you may need to restart the kernel to use updated packages.\n"
     ]
    },
    {
     "name": "stderr",
     "output_type": "stream",
     "text": [
      "WARNING: You are using pip version 22.0.4; however, version 23.1.2 is available.\n",
      "You should consider upgrading via the 'C:\\Users\\Dell\\AppData\\Local\\Microsoft\\WindowsApps\\PythonSoftwareFoundation.Python.3.9_qbz5n2kfra8p0\\python.exe -m pip install --upgrade pip' command.\n"
     ]
    }
   ],
   "source": [
    "%pip install scikit-learn\n"
   ]
  },
  {
   "cell_type": "code",
   "execution_count": 30,
   "metadata": {},
   "outputs": [],
   "source": [
    "import numpy as np\n",
    "import pandas as pd\n",
    "import matplotlib.pyplot as plt"
   ]
  },
  {
   "cell_type": "code",
   "execution_count": 31,
   "metadata": {},
   "outputs": [
    {
     "data": {
      "text/html": [
       "<div>\n",
       "<style scoped>\n",
       "    .dataframe tbody tr th:only-of-type {\n",
       "        vertical-align: middle;\n",
       "    }\n",
       "\n",
       "    .dataframe tbody tr th {\n",
       "        vertical-align: top;\n",
       "    }\n",
       "\n",
       "    .dataframe thead th {\n",
       "        text-align: right;\n",
       "    }\n",
       "</style>\n",
       "<table border=\"1\" class=\"dataframe\">\n",
       "  <thead>\n",
       "    <tr style=\"text-align: right;\">\n",
       "      <th></th>\n",
       "      <th>Date</th>\n",
       "      <th>Price</th>\n",
       "      <th>Open</th>\n",
       "      <th>High</th>\n",
       "      <th>Low</th>\n",
       "      <th>Vol.</th>\n",
       "      <th>Change %</th>\n",
       "    </tr>\n",
       "  </thead>\n",
       "  <tbody>\n",
       "    <tr>\n",
       "      <th>0</th>\n",
       "      <td>1/3/2017</td>\n",
       "      <td>36.60</td>\n",
       "      <td>36.61</td>\n",
       "      <td>36.93</td>\n",
       "      <td>36.27</td>\n",
       "      <td>20.20M</td>\n",
       "      <td>0.91%</td>\n",
       "    </tr>\n",
       "    <tr>\n",
       "      <th>1</th>\n",
       "      <td>1/4/2017</td>\n",
       "      <td>36.41</td>\n",
       "      <td>36.71</td>\n",
       "      <td>36.77</td>\n",
       "      <td>36.34</td>\n",
       "      <td>15.92M</td>\n",
       "      <td>-0.52%</td>\n",
       "    </tr>\n",
       "    <tr>\n",
       "      <th>2</th>\n",
       "      <td>1/5/2017</td>\n",
       "      <td>36.35</td>\n",
       "      <td>36.45</td>\n",
       "      <td>36.72</td>\n",
       "      <td>36.30</td>\n",
       "      <td>13.99M</td>\n",
       "      <td>-0.16%</td>\n",
       "    </tr>\n",
       "    <tr>\n",
       "      <th>3</th>\n",
       "      <td>1/6/2017</td>\n",
       "      <td>36.48</td>\n",
       "      <td>36.46</td>\n",
       "      <td>36.68</td>\n",
       "      <td>36.19</td>\n",
       "      <td>15.11M</td>\n",
       "      <td>0.36%</td>\n",
       "    </tr>\n",
       "    <tr>\n",
       "      <th>4</th>\n",
       "      <td>1/9/2017</td>\n",
       "      <td>36.61</td>\n",
       "      <td>36.48</td>\n",
       "      <td>36.88</td>\n",
       "      <td>36.48</td>\n",
       "      <td>19.46M</td>\n",
       "      <td>0.36%</td>\n",
       "    </tr>\n",
       "  </tbody>\n",
       "</table>\n",
       "</div>"
      ],
      "text/plain": [
       "       Date  Price   Open   High    Low    Vol. Change %\n",
       "0  1/3/2017  36.60  36.61  36.93  36.27  20.20M    0.91%\n",
       "1  1/4/2017  36.41  36.71  36.77  36.34  15.92M   -0.52%\n",
       "2  1/5/2017  36.35  36.45  36.72  36.30  13.99M   -0.16%\n",
       "3  1/6/2017  36.48  36.46  36.68  36.19  15.11M    0.36%\n",
       "4  1/9/2017  36.61  36.48  36.88  36.48  19.46M    0.36%"
      ]
     },
     "execution_count": 31,
     "metadata": {},
     "output_type": "execute_result"
    }
   ],
   "source": [
    "#import data\n",
    "df = pd.read_csv('../Datasets/INTC Historical Data.csv')\n",
    "\n",
    "#print data \n",
    "df.head()"
   ]
  },
  {
   "cell_type": "code",
   "execution_count": 32,
   "metadata": {},
   "outputs": [],
   "source": [
    "#Bỏ dòng bị trống dự liệu\n",
    "df = df.dropna()\n",
    "#Chuyển đổi dữ liệu cột Vol. sang số\n",
    "df['Vol.'] = df['Vol.'].str.replace('M', '').astype(float) * 1000000\n",
    "#Chuyển đổi cột 'Change %' từ kiểu dữ liệu object sang kiểu dữ liệu float64\n",
    "df['Change %'] = df['Change %'].str.rstrip('%').astype(float)\n",
    "\n"
   ]
  },
  {
   "cell_type": "code",
   "execution_count": 33,
   "metadata": {},
   "outputs": [
    {
     "data": {
      "text/html": [
       "<div>\n",
       "<style scoped>\n",
       "    .dataframe tbody tr th:only-of-type {\n",
       "        vertical-align: middle;\n",
       "    }\n",
       "\n",
       "    .dataframe tbody tr th {\n",
       "        vertical-align: top;\n",
       "    }\n",
       "\n",
       "    .dataframe thead th {\n",
       "        text-align: right;\n",
       "    }\n",
       "</style>\n",
       "<table border=\"1\" class=\"dataframe\">\n",
       "  <thead>\n",
       "    <tr style=\"text-align: right;\">\n",
       "      <th></th>\n",
       "      <th>Date</th>\n",
       "      <th>Price</th>\n",
       "      <th>Open</th>\n",
       "      <th>High</th>\n",
       "      <th>Low</th>\n",
       "      <th>Vol.</th>\n",
       "      <th>Change %</th>\n",
       "    </tr>\n",
       "  </thead>\n",
       "  <tbody>\n",
       "    <tr>\n",
       "      <th>0</th>\n",
       "      <td>1/3/2017</td>\n",
       "      <td>36.60</td>\n",
       "      <td>36.61</td>\n",
       "      <td>36.93</td>\n",
       "      <td>36.27</td>\n",
       "      <td>20200000.0</td>\n",
       "      <td>0.91</td>\n",
       "    </tr>\n",
       "    <tr>\n",
       "      <th>1</th>\n",
       "      <td>1/4/2017</td>\n",
       "      <td>36.41</td>\n",
       "      <td>36.71</td>\n",
       "      <td>36.77</td>\n",
       "      <td>36.34</td>\n",
       "      <td>15920000.0</td>\n",
       "      <td>-0.52</td>\n",
       "    </tr>\n",
       "    <tr>\n",
       "      <th>2</th>\n",
       "      <td>1/5/2017</td>\n",
       "      <td>36.35</td>\n",
       "      <td>36.45</td>\n",
       "      <td>36.72</td>\n",
       "      <td>36.30</td>\n",
       "      <td>13990000.0</td>\n",
       "      <td>-0.16</td>\n",
       "    </tr>\n",
       "    <tr>\n",
       "      <th>3</th>\n",
       "      <td>1/6/2017</td>\n",
       "      <td>36.48</td>\n",
       "      <td>36.46</td>\n",
       "      <td>36.68</td>\n",
       "      <td>36.19</td>\n",
       "      <td>15110000.0</td>\n",
       "      <td>0.36</td>\n",
       "    </tr>\n",
       "    <tr>\n",
       "      <th>4</th>\n",
       "      <td>1/9/2017</td>\n",
       "      <td>36.61</td>\n",
       "      <td>36.48</td>\n",
       "      <td>36.88</td>\n",
       "      <td>36.48</td>\n",
       "      <td>19460000.0</td>\n",
       "      <td>0.36</td>\n",
       "    </tr>\n",
       "    <tr>\n",
       "      <th>...</th>\n",
       "      <td>...</td>\n",
       "      <td>...</td>\n",
       "      <td>...</td>\n",
       "      <td>...</td>\n",
       "      <td>...</td>\n",
       "      <td>...</td>\n",
       "      <td>...</td>\n",
       "    </tr>\n",
       "    <tr>\n",
       "      <th>1619</th>\n",
       "      <td>6/9/2023</td>\n",
       "      <td>31.34</td>\n",
       "      <td>31.93</td>\n",
       "      <td>31.99</td>\n",
       "      <td>30.68</td>\n",
       "      <td>40230000.0</td>\n",
       "      <td>-1.51</td>\n",
       "    </tr>\n",
       "    <tr>\n",
       "      <th>1620</th>\n",
       "      <td>6/12/2023</td>\n",
       "      <td>33.07</td>\n",
       "      <td>31.40</td>\n",
       "      <td>33.30</td>\n",
       "      <td>31.36</td>\n",
       "      <td>59670000.0</td>\n",
       "      <td>5.52</td>\n",
       "    </tr>\n",
       "    <tr>\n",
       "      <th>1621</th>\n",
       "      <td>6/13/2023</td>\n",
       "      <td>33.91</td>\n",
       "      <td>33.77</td>\n",
       "      <td>33.95</td>\n",
       "      <td>33.07</td>\n",
       "      <td>51820000.0</td>\n",
       "      <td>2.54</td>\n",
       "    </tr>\n",
       "    <tr>\n",
       "      <th>1622</th>\n",
       "      <td>6/14/2023</td>\n",
       "      <td>35.58</td>\n",
       "      <td>33.87</td>\n",
       "      <td>35.60</td>\n",
       "      <td>33.80</td>\n",
       "      <td>74050000.0</td>\n",
       "      <td>4.92</td>\n",
       "    </tr>\n",
       "    <tr>\n",
       "      <th>1623</th>\n",
       "      <td>6/15/2023</td>\n",
       "      <td>35.82</td>\n",
       "      <td>35.28</td>\n",
       "      <td>36.42</td>\n",
       "      <td>35.22</td>\n",
       "      <td>67430000.0</td>\n",
       "      <td>0.67</td>\n",
       "    </tr>\n",
       "  </tbody>\n",
       "</table>\n",
       "<p>1624 rows × 7 columns</p>\n",
       "</div>"
      ],
      "text/plain": [
       "           Date  Price   Open   High    Low        Vol.  Change %\n",
       "0      1/3/2017  36.60  36.61  36.93  36.27  20200000.0      0.91\n",
       "1      1/4/2017  36.41  36.71  36.77  36.34  15920000.0     -0.52\n",
       "2      1/5/2017  36.35  36.45  36.72  36.30  13990000.0     -0.16\n",
       "3      1/6/2017  36.48  36.46  36.68  36.19  15110000.0      0.36\n",
       "4      1/9/2017  36.61  36.48  36.88  36.48  19460000.0      0.36\n",
       "...         ...    ...    ...    ...    ...         ...       ...\n",
       "1619   6/9/2023  31.34  31.93  31.99  30.68  40230000.0     -1.51\n",
       "1620  6/12/2023  33.07  31.40  33.30  31.36  59670000.0      5.52\n",
       "1621  6/13/2023  33.91  33.77  33.95  33.07  51820000.0      2.54\n",
       "1622  6/14/2023  35.58  33.87  35.60  33.80  74050000.0      4.92\n",
       "1623  6/15/2023  35.82  35.28  36.42  35.22  67430000.0      0.67\n",
       "\n",
       "[1624 rows x 7 columns]"
      ]
     },
     "execution_count": 33,
     "metadata": {},
     "output_type": "execute_result"
    }
   ],
   "source": [
    "df"
   ]
  },
  {
   "cell_type": "code",
   "execution_count": 34,
   "metadata": {},
   "outputs": [
    {
     "data": {
      "image/png": "[encoded data removed]",
      "text/plain": [
       "<Figure size 1000x600 with 1 Axes>"
      ]
     },
     "metadata": {},
     "output_type": "display_data"
    }
   ],
   "source": [
    "figure=df['Price'].values\n",
    "plt.figure(figsize=(10,6))\n",
    "plt.plot(figure)\n",
    "plt.xlabel('Date')\n",
    "plt.ylabel('Price') \n",
    "plt.show()"
   ]
  },
  {
   "cell_type": "code",
   "execution_count": 35,
   "metadata": {},
   "outputs": [],
   "source": [
    "#Xây dựng mô hỉnh với Bayesian Dynamic Linear Model\n",
    "from pydlm import dlm, trend, seasonality, dynamic, autoReg, longSeason\n"
   ]
  },
  {
   "cell_type": "code",
   "execution_count": 36,
   "metadata": {},
   "outputs": [],
   "source": [
    "df = df.reset_index(drop=True)\n",
    " # Reset the index\n",
    "\n",
    "# Split the data into training, testing, and validation sets\n",
    "train_size = int(0.6 * len(df))\n",
    "test_size = int(0.3 * len(df))\n",
    "val_size = len(df) - train_size - test_size\n",
    "\n",
    "train_data = df[:train_size]\n",
    "test_data = df[train_size:train_size+test_size]\n",
    "val_data = df[train_size+test_size:]"
   ]
  },
  {
   "cell_type": "code",
   "execution_count": 37,
   "metadata": {},
   "outputs": [
    {
     "data": {
      "text/plain": [
       "['Low', 'High', 'Open']"
      ]
     },
     "execution_count": 37,
     "metadata": {},
     "output_type": "execute_result"
    }
   ],
   "source": [
    "#Tính toán độ tương quan để biết cột nào có ảnh hưởng tới cột Price nhất\n",
    "correlations = df.drop('Date', axis=1).corr()['Price']\n",
    "most_influential_columns = correlations.drop('Price').nlargest(3).index.tolist()\n",
    "most_influential_columns"
   ]
  },
  {
   "cell_type": "code",
   "execution_count": 61,
   "metadata": {},
   "outputs": [],
   "source": [
    "from pydlm import dlm, trend, seasonality\n",
    "\n",
    "# Tạo model DLM\n",
    "my_dlm = dlm(train_data['Price'])\n",
    "\n",
    "# Thêm trend component\n",
    "my_dlm = my_dlm + trend(degree=2, name='trend', w=1e7)\n",
    "\n",
    "# # Thêm seasonality component với chu kỳ 52 ngày\n",
    "my_dlm = my_dlm + seasonality(period=30, name='season', w=1e7)\n",
    "\n",
    "\n",
    "#Tạo một danh sách các danh sách, trong đó mỗi phần tử là một giá trị của cột 'Open' trong DataFrame\n",
    "dynamic_features_Open = [[value] for value in df['Open'].values]\n",
    "#Lấy đúng size theo train_data\n",
    "train_dynamic_Open = dynamic_features_Open[:train_size]\n",
    "my_dlm = my_dlm + dynamic(features=train_dynamic_Open, name='dynamicOpen', discount=0.99, w=1e7)\n",
    "\n",
    "#Tạo một danh sách các danh sách, trong đó mỗi phần tử là một giá trị của cột 'High' trong DataFrame\n",
    "dynamic_features_High = [[value] for value in df['High'].values]\n",
    "#Lấy đúng size theo train_data\n",
    "train_dynamic_High = dynamic_features_High[:train_size]\n",
    "my_dlm = my_dlm + dynamic(features=train_dynamic_High, name='dynamicHigh', discount=0.99, w=1e7)\n",
    "\n",
    "#Tạo một danh sách các danh sách, trong đó mỗi phần tử là một giá trị của cột 'Low' trong DataFrame\n",
    "dynamic_features_Low = [[value] for value in df['Low'].values]\n",
    "#Lấy đúng size theo train_data\n",
    "train_dynamic_Low = dynamic_features_Low[:train_size]\n",
    "my_dlm = my_dlm + dynamic(features=train_dynamic_Low, name='dynamicLow', discount=0.99, w=1e7)\n",
    "\n",
    "# Thêm autoregressive component với độ lệch (degree) là 3\n",
    "my_dlm = my_dlm + autoReg(degree=3, discount=0.99, name='ar3', w=1e7)\n",
    "\n",
    "\n",
    "# #Tạo một danh sách các danh sách, trong đó mỗi phần tử là một giá trị của cột 'Vol.' trong DataFrame\n",
    "# dynamic_features_Vol = [[value] for value in df['Vol.'].values]\n",
    "# #Lấy đúng size theo train_data\n",
    "# train_dynamic_Vol = dynamic_features_Vol[:train_size]\n",
    "# my_dlm = my_dlm + dynamic(features=train_dynamic_Vol, name='dynamicVol', discount=0.95)\n",
    "\n",
    "# #Tạo một danh sách các danh sách, trong đó mỗi phần tử là một giá trị của cột 'Change' trong DataFrame\n",
    "# dynamic_features_Change = [[value] for value in df['Change %'].values]\n",
    "# #Lấy đúng size theo train_data\n",
    "# train_dynamic_Change = dynamic_features_Change[:train_size]\n",
    "# my_dlm = my_dlm + dynamic(features=train_dynamic_Change, name='dynamicChange', discount=0.95)\n",
    "\n",
    "\n",
    "# #Tạo một danh sách các danh sách, trong đó mỗi phần tử là một giá trị của cột 'High' trong DataFrame\n",
    "# dynamic_features_Price = [[value] for value in df['Price'].values]\n",
    "# #Lấy đúng size theo train_data\n",
    "# train_dynamic_Price = dynamic_features_Price[:train_size]\n",
    "# my_dlm = my_dlm + dynamic(features=train_dynamic_Price, name='dynamicPrice', discount=0.95)\n"
   ]
  },
  {
   "cell_type": "code",
   "execution_count": 62,
   "metadata": {},
   "outputs": [
    {
     "name": "stdout",
     "output_type": "stream",
     "text": [
      "Initializing models...\n",
      "Initialization finished.\n",
      "Starting forward filtering...\n"
     ]
    },
    {
     "name": "stdout",
     "output_type": "stream",
     "text": [
      "Forward filtering completed.\n",
      "Starting backward smoothing...\n",
      "Backward smoothing completed.\n"
     ]
    }
   ],
   "source": [
    "\n",
    "# Fit the DLM to the training data\n",
    "my_dlm.fit()\n"
   ]
  },
  {
   "cell_type": "code",
   "execution_count": 63,
   "metadata": {},
   "outputs": [],
   "source": [
    "# Tạo featureDict cho dự đoán\n",
    "featureDict = {\n",
    "    'dynamicOpen': train_dynamic_Open,\n",
    "    'dynamicHigh': train_dynamic_High,\n",
    "    'dynamicLow': train_dynamic_Low,\n",
    "    # 'dynamicVol': train_dynamic_Vol,\n",
    "    # 'dynamicChange': train_dynamic_Change\n",
    "}\n",
    "\n",
    "# featureDict = {\n",
    "#     'dynamicPrice': train_dynamic_Price,\n",
    "# }"
   ]
  },
  {
   "cell_type": "code",
   "execution_count": 64,
   "metadata": {},
   "outputs": [],
   "source": [
    "\n",
    "# Predict on test data\n",
    "test_preds, test_vars = my_dlm.predictN(N=test_size, featureDict=featureDict)\n"
   ]
  },
  {
   "cell_type": "code",
   "execution_count": 65,
   "metadata": {},
   "outputs": [
    {
     "name": "stdout",
     "output_type": "stream",
     "text": [
      "Remember to append the new features for the dynamic components as well\n"
     ]
    }
   ],
   "source": [
    "my_dlm.append(test_preds, component='main')\n",
    "test_dynamic_features_Open = dynamic_features_Open[:test_size]\n",
    "\n",
    "\n",
    "test_dynamic_features_High = dynamic_features_Open[:test_size]\n",
    "\n",
    "test_dynamic_features_Low = dynamic_features_Open[:test_size]\n"
   ]
  },
  {
   "cell_type": "code",
   "execution_count": 66,
   "metadata": {},
   "outputs": [],
   "source": [
    "# Cập nhật dynamic component nếu có\n",
    "my_dlm.append(data=test_dynamic_features_Open, component='dynamicOpen')\n",
    "my_dlm.append(data=test_dynamic_features_High, component='dynamicHigh')\n",
    "my_dlm.append(data=test_dynamic_features_Low, component='dynamicLow')"
   ]
  },
  {
   "cell_type": "code",
   "execution_count": 67,
   "metadata": {},
   "outputs": [
    {
     "name": "stdout",
     "output_type": "stream",
     "text": [
      "Starting forward filtering...\n",
      "Forward filtering completed.\n",
      "Starting backward smoothing...\n"
     ]
    },
    {
     "name": "stdout",
     "output_type": "stream",
     "text": [
      "Backward smoothing completed.\n"
     ]
    }
   ],
   "source": [
    "my_dlm.fit()\n"
   ]
  },
  {
   "cell_type": "code",
   "execution_count": 68,
   "metadata": {},
   "outputs": [],
   "source": [
    "# Predict on validation data\n",
    "val_preds, val_vars = my_dlm.predictN(N=val_size, featureDict=featureDict)"
   ]
  },
  {
   "cell_type": "code",
   "execution_count": 69,
   "metadata": {},
   "outputs": [
    {
     "name": "stdout",
     "output_type": "stream",
     "text": [
      "Remember to append the new features for the dynamic components as well\n",
      "Starting forward filtering...\n",
      "Forward filtering completed.\n",
      "Starting backward smoothing...\n",
      "Backward smoothing completed.\n"
     ]
    }
   ],
   "source": [
    "my_dlm.append(val_preds, component='main')\n",
    "val_dynamic_features_Open = dynamic_features_Open[:val_size]\n",
    "\n",
    "val_dynamic_features_High = dynamic_features_Open[:val_size]\n",
    "\n",
    "val_dynamic_features_Low = dynamic_features_Open[:val_size]\n",
    "# Cập nhật dynamic component nếu có\n",
    "my_dlm.append(data=val_dynamic_features_Open, component='dynamicOpen')\n",
    "my_dlm.append(data=val_dynamic_features_High, component='dynamicHigh')\n",
    "my_dlm.append(data=val_dynamic_features_Low, component='dynamicLow')\n",
    "my_dlm.fit()"
   ]
  },
  {
   "cell_type": "code",
   "execution_count": 70,
   "metadata": {},
   "outputs": [],
   "source": [
    "# Các giá trị thực tế cho validation, test và train data\n",
    "val_actual = val_data['Price'].values\n",
    "test_actual = test_data['Price'].values\n",
    "train_actual = train_data['Price'].values"
   ]
  },
  {
   "cell_type": "code",
   "execution_count": 71,
   "metadata": {},
   "outputs": [
    {
     "name": "stdout",
     "output_type": "stream",
     "text": [
      "Testing RMSE: 15.57510673345163\n",
      "Testing MSE: 242.5839497584103\n",
      "Testing MAE: 12.650338927433534\n",
      "Validation RMSE: 3.3312560291625837\n",
      "Validation MSE: 11.097266731832065\n",
      "Validation MAE: 2.8027408792673967\n"
     ]
    }
   ],
   "source": [
    "from sklearn.metrics import accuracy_score, precision_score, recall_score, f1_score, mean_squared_error, mean_absolute_error\n",
    "\n",
    "# Regression metrics\n",
    "test_rmse = np.sqrt(np.mean((test_preds - test_actual)**2))\n",
    "test_mse = mean_squared_error(test_actual, test_preds)\n",
    "test_mae = mean_absolute_error(test_actual, test_preds)\n",
    "\n",
    "valid_rmse = np.sqrt(np.mean((val_preds - val_actual)**2))\n",
    "valid_mse = mean_squared_error(val_actual, val_preds)\n",
    "valid_mae = mean_absolute_error(val_actual, val_preds)\n",
    "\n",
    "print('Testing RMSE:', test_rmse)\n",
    "print('Testing MSE:', test_mse)\n",
    "print('Testing MAE:', test_mae)\n",
    "\n",
    "print('Validation RMSE:', valid_rmse)\n",
    "print('Validation MSE:', valid_mse)\n",
    "print('Validation MAE:', valid_mae)"
   ]
  },
  {
   "cell_type": "code",
   "execution_count": 72,
   "metadata": {},
   "outputs": [],
   "source": [
    "# 6. Quá trình tạo index predict 30 ngày tiếp theo\n",
    "last_index =  df.index[-1]\n",
    "last_data = pd.RangeIndex(start=last_index, stop=last_index+30, step=1)"
   ]
  },
  {
   "cell_type": "code",
   "execution_count": 73,
   "metadata": {},
   "outputs": [
    {
     "name": "stdout",
     "output_type": "stream",
     "text": [
      "Predictions for the next 30 days:\n",
      "[34.80058562252166, 34.48954388259628, 34.67206525292628, 34.73630294317485, 35.105875839953384, 34.98523538008699, 34.76052398767713, 34.66465481092649, 35.04178129503458, 35.04673050073539, 35.194737752143226, 35.266413980404245, 35.16489635158321, 35.05900614821404, 35.744443273965, 34.9946572547056, 35.25052657536975, 35.524124624727705, 35.301423037601374, 35.33988257735834, 35.03721443152898, 35.80349570577216, 35.18684733547494, 35.385064919550295, 35.51298353752421, 35.533507065664615, 34.93278456270825, 35.33825218214765, 35.61044063072915, 35.31103158056423]\n"
     ]
    }
   ],
   "source": [
    "# Dự đoán 30 ngày tiếp theo sau tập validation\n",
    "future_preds, future_vars = my_dlm.predictN(N=30, featureDict=featureDict)\n",
    "\n",
    "# In ra dự đoán cho 30 ngày tiếp theo\n",
    "print(\"Predictions for the next 30 days:\")\n",
    "print(future_preds)"
   ]
  },
  {
   "cell_type": "code",
   "execution_count": 74,
   "metadata": {},
   "outputs": [],
   "source": [
    "#Tạo một mảng chứa toàn bộ dữ liệu của tập train, validation và test\n",
    "allPreds = np.concatenate([train_preds,test_preds, val_preds])\n"
   ]
  },
  {
   "cell_type": "code",
   "execution_count": 75,
   "metadata": {},
   "outputs": [],
   "source": [
    "#Tạo mảng index tương ứng với tập allPreds\n",
    "days = np.arange(0, len(allPreds))\n"
   ]
  },
  {
   "cell_type": "code",
   "execution_count": 76,
   "metadata": {},
   "outputs": [
    {
     "data": {
      "image/png": "[encoded data removed]",
      "text/plain": [
       "<Figure size 1000x600 with 1 Axes>"
      ]
     },
     "metadata": {},
     "output_type": "display_data"
    }
   ],
   "source": [
    "#Vẽ hình\n",
    "plt.figure(figsize=(10, 6))\n",
    "plt.plot(train_data.index, train_data['Price'])\n",
    "plt.plot(test_data.index, test_data['Price'])\n",
    "plt.plot(days[len(train_data.index):len(train_data.index)+len(test_preds)], test_preds, label='Prediction')\n",
    "\n",
    "plt.plot(val_data.index, val_data['Price'])\n",
    "plt.plot(days[len(train_data.index)+len(test_preds):], val_preds, label='Validate')\n",
    "plt.plot(last_data,future_preds, label='Next30Day')\n",
    "\n",
    "#plt.plot(pred_df.index, pred_df['Price'], label='Predicted')\n",
    "plt.legend(['Train', 'Test', 'TestPred', 'Validate', 'ValidatePred', 'Next30Day'])\n",
    "plt.show()"
   ]
  }
 ],
 "metadata": {
  "kernelspec": {
   "display_name": "Python 3",
   "language": "python",
   "name": "python3"
  },
  "language_info": {
   "codemirror_mode": {
    "name": "ipython",
    "version": 3
   },
   "file_extension": ".py",
   "mimetype": "text/x-python",
   "name": "python",
   "nbconvert_exporter": "python",
   "pygments_lexer": "ipython3",
   "version": "3.9.13"
  },
  "orig_nbformat": 4
 },
 "nbformat": 4,
 "nbformat_minor": 2
}
