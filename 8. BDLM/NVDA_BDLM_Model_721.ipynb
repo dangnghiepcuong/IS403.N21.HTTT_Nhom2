{
 "cells": [
  {
   "cell_type": "code",
   "execution_count": 117,
   "metadata": {},
   "outputs": [
    {
     "name": "stdout",
     "output_type": "stream",
     "text": [
      "Requirement already satisfied: numpy in c:\\users\\dell\\appdata\\local\\packages\\pythonsoftwarefoundation.python.3.9_qbz5n2kfra8p0\\localcache\\local-packages\\python39\\site-packages (1.24.3)\n",
      "Note: you may need to restart the kernel to use updated packages.\n"
     ]
    },
    {
     "name": "stderr",
     "output_type": "stream",
     "text": [
      "WARNING: You are using pip version 22.0.4; however, version 23.1.2 is available.\n",
      "You should consider upgrading via the 'C:\\Users\\Dell\\AppData\\Local\\Microsoft\\WindowsApps\\PythonSoftwareFoundation.Python.3.9_qbz5n2kfra8p0\\python.exe -m pip install --upgrade pip' command.\n"
     ]
    }
   ],
   "source": [
    "%pip install numpy"
   ]
  },
  {
   "cell_type": "code",
   "execution_count": 118,
   "metadata": {},
   "outputs": [
    {
     "name": "stdout",
     "output_type": "stream",
     "text": [
      "Requirement already satisfied: pydlm in c:\\users\\dell\\appdata\\local\\packages\\pythonsoftwarefoundation.python.3.9_qbz5n2kfra8p0\\localcache\\local-packages\\python39\\site-packages (0.1.1.12)\n",
      "Requirement already satisfied: matplotlib in c:\\users\\dell\\appdata\\local\\packages\\pythonsoftwarefoundation.python.3.9_qbz5n2kfra8p0\\localcache\\local-packages\\python39\\site-packages (from pydlm) (3.7.1)\n",
      "Requirement already satisfied: numpy in c:\\users\\dell\\appdata\\local\\packages\\pythonsoftwarefoundation.python.3.9_qbz5n2kfra8p0\\localcache\\local-packages\\python39\\site-packages (from pydlm) (1.24.3)\n",
      "Requirement already satisfied: kiwisolver>=1.0.1 in c:\\users\\dell\\appdata\\local\\packages\\pythonsoftwarefoundation.python.3.9_qbz5n2kfra8p0\\localcache\\local-packages\\python39\\site-packages (from matplotlib->pydlm) (1.4.4)\n",
      "Requirement already satisfied: python-dateutil>=2.7 in c:\\users\\dell\\appdata\\local\\packages\\pythonsoftwarefoundation.python.3.9_qbz5n2kfra8p0\\localcache\\local-packages\\python39\\site-packages (from matplotlib->pydlm) (2.8.2)\n",
      "Requirement already satisfied: contourpy>=1.0.1 in c:\\users\\dell\\appdata\\local\\packages\\pythonsoftwarefoundation.python.3.9_qbz5n2kfra8p0\\localcache\\local-packages\\python39\\site-packages (from matplotlib->pydlm) (1.0.7)\n",
      "Requirement already satisfied: pillow>=6.2.0 in c:\\users\\dell\\appdata\\local\\packages\\pythonsoftwarefoundation.python.3.9_qbz5n2kfra8p0\\localcache\\local-packages\\python39\\site-packages (from matplotlib->pydlm) (9.5.0)\n",
      "Requirement already satisfied: pyparsing>=2.3.1 in c:\\users\\dell\\appdata\\local\\packages\\pythonsoftwarefoundation.python.3.9_qbz5n2kfra8p0\\localcache\\local-packages\\python39\\site-packages (from matplotlib->pydlm) (3.0.9)\n",
      "Requirement already satisfied: cycler>=0.10 in c:\\users\\dell\\appdata\\local\\packages\\pythonsoftwarefoundation.python.3.9_qbz5n2kfra8p0\\localcache\\local-packages\\python39\\site-packages (from matplotlib->pydlm) (0.11.0)\n",
      "Requirement already satisfied: importlib-resources>=3.2.0 in c:\\users\\dell\\appdata\\local\\packages\\pythonsoftwarefoundation.python.3.9_qbz5n2kfra8p0\\localcache\\local-packages\\python39\\site-packages (from matplotlib->pydlm) (5.12.0)\n",
      "Requirement already satisfied: packaging>=20.0 in c:\\users\\dell\\appdata\\local\\packages\\pythonsoftwarefoundation.python.3.9_qbz5n2kfra8p0\\localcache\\local-packages\\python39\\site-packages (from matplotlib->pydlm) (23.1)\n",
      "Requirement already satisfied: fonttools>=4.22.0 in c:\\users\\dell\\appdata\\local\\packages\\pythonsoftwarefoundation.python.3.9_qbz5n2kfra8p0\\localcache\\local-packages\\python39\\site-packages (from matplotlib->pydlm) (4.39.3)\n",
      "Requirement already satisfied: zipp>=3.1.0 in c:\\users\\dell\\appdata\\local\\packages\\pythonsoftwarefoundation.python.3.9_qbz5n2kfra8p0\\localcache\\local-packages\\python39\\site-packages (from importlib-resources>=3.2.0->matplotlib->pydlm) (3.15.0)\n",
      "Requirement already satisfied: six>=1.5 in c:\\users\\dell\\appdata\\local\\packages\\pythonsoftwarefoundation.python.3.9_qbz5n2kfra8p0\\localcache\\local-packages\\python39\\site-packages (from python-dateutil>=2.7->matplotlib->pydlm) (1.16.0)\n",
      "Note: you may need to restart the kernel to use updated packages.\n"
     ]
    },
    {
     "name": "stderr",
     "output_type": "stream",
     "text": [
      "WARNING: You are using pip version 22.0.4; however, version 23.1.2 is available.\n",
      "You should consider upgrading via the 'C:\\Users\\Dell\\AppData\\Local\\Microsoft\\WindowsApps\\PythonSoftwareFoundation.Python.3.9_qbz5n2kfra8p0\\python.exe -m pip install --upgrade pip' command.\n"
     ]
    }
   ],
   "source": [
    "%pip install pydlm"
   ]
  },
  {
   "cell_type": "code",
   "execution_count": 119,
   "metadata": {},
   "outputs": [
    {
     "name": "stdout",
     "output_type": "stream",
     "text": [
      "Requirement already satisfied: pandas in c:\\users\\dell\\appdata\\local\\packages\\pythonsoftwarefoundation.python.3.9_qbz5n2kfra8p0\\localcache\\local-packages\\python39\\site-packages (2.0.1)\n",
      "Requirement already satisfied: tzdata>=2022.1 in c:\\users\\dell\\appdata\\local\\packages\\pythonsoftwarefoundation.python.3.9_qbz5n2kfra8p0\\localcache\\local-packages\\python39\\site-packages (from pandas) (2023.3)\n",
      "Requirement already satisfied: pytz>=2020.1 in c:\\users\\dell\\appdata\\local\\packages\\pythonsoftwarefoundation.python.3.9_qbz5n2kfra8p0\\localcache\\local-packages\\python39\\site-packages (from pandas) (2023.3)\n",
      "Requirement already satisfied: numpy>=1.20.3 in c:\\users\\dell\\appdata\\local\\packages\\pythonsoftwarefoundation.python.3.9_qbz5n2kfra8p0\\localcache\\local-packages\\python39\\site-packages (from pandas) (1.24.3)\n",
      "Requirement already satisfied: python-dateutil>=2.8.2 in c:\\users\\dell\\appdata\\local\\packages\\pythonsoftwarefoundation.python.3.9_qbz5n2kfra8p0\\localcache\\local-packages\\python39\\site-packages (from pandas) (2.8.2)\n",
      "Requirement already satisfied: six>=1.5 in c:\\users\\dell\\appdata\\local\\packages\\pythonsoftwarefoundation.python.3.9_qbz5n2kfra8p0\\localcache\\local-packages\\python39\\site-packages (from python-dateutil>=2.8.2->pandas) (1.16.0)\n",
      "Note: you may need to restart the kernel to use updated packages.\n"
     ]
    },
    {
     "name": "stderr",
     "output_type": "stream",
     "text": [
      "WARNING: You are using pip version 22.0.4; however, version 23.1.2 is available.\n",
      "You should consider upgrading via the 'C:\\Users\\Dell\\AppData\\Local\\Microsoft\\WindowsApps\\PythonSoftwareFoundation.Python.3.9_qbz5n2kfra8p0\\python.exe -m pip install --upgrade pip' command.\n"
     ]
    }
   ],
   "source": [
    "%pip install pandas"
   ]
  },
  {
   "cell_type": "code",
   "execution_count": 120,
   "metadata": {},
   "outputs": [
    {
     "name": "stdout",
     "output_type": "stream",
     "text": [
      "Requirement already satisfied: openpyxl in c:\\users\\dell\\appdata\\local\\packages\\pythonsoftwarefoundation.python.3.9_qbz5n2kfra8p0\\localcache\\local-packages\\python39\\site-packages (3.1.2)\n",
      "Requirement already satisfied: et-xmlfile in c:\\users\\dell\\appdata\\local\\packages\\pythonsoftwarefoundation.python.3.9_qbz5n2kfra8p0\\localcache\\local-packages\\python39\\site-packages (from openpyxl) (1.1.0)\n",
      "Note: you may need to restart the kernel to use updated packages.\n"
     ]
    },
    {
     "name": "stderr",
     "output_type": "stream",
     "text": [
      "WARNING: You are using pip version 22.0.4; however, version 23.1.2 is available.\n",
      "You should consider upgrading via the 'C:\\Users\\Dell\\AppData\\Local\\Microsoft\\WindowsApps\\PythonSoftwareFoundation.Python.3.9_qbz5n2kfra8p0\\python.exe -m pip install --upgrade pip' command.\n"
     ]
    }
   ],
   "source": [
    "%pip install openpyxl\n"
   ]
  },
  {
   "cell_type": "code",
   "execution_count": 121,
   "metadata": {},
   "outputs": [
    {
     "name": "stdout",
     "output_type": "stream",
     "text": [
      "Requirement already satisfied: scikit-learn in c:\\users\\dell\\appdata\\local\\packages\\pythonsoftwarefoundation.python.3.9_qbz5n2kfra8p0\\localcache\\local-packages\\python39\\site-packages (1.2.2)\n",
      "Requirement already satisfied: joblib>=1.1.1 in c:\\users\\dell\\appdata\\local\\packages\\pythonsoftwarefoundation.python.3.9_qbz5n2kfra8p0\\localcache\\local-packages\\python39\\site-packages (from scikit-learn) (1.2.0)\n",
      "Requirement already satisfied: numpy>=1.17.3 in c:\\users\\dell\\appdata\\local\\packages\\pythonsoftwarefoundation.python.3.9_qbz5n2kfra8p0\\localcache\\local-packages\\python39\\site-packages (from scikit-learn) (1.24.3)\n",
      "Requirement already satisfied: scipy>=1.3.2 in c:\\users\\dell\\appdata\\local\\packages\\pythonsoftwarefoundation.python.3.9_qbz5n2kfra8p0\\localcache\\local-packages\\python39\\site-packages (from scikit-learn) (1.10.1)\n",
      "Requirement already satisfied: threadpoolctl>=2.0.0 in c:\\users\\dell\\appdata\\local\\packages\\pythonsoftwarefoundation.python.3.9_qbz5n2kfra8p0\\localcache\\local-packages\\python39\\site-packages (from scikit-learn) (3.1.0)\n",
      "Note: you may need to restart the kernel to use updated packages.\n"
     ]
    },
    {
     "name": "stderr",
     "output_type": "stream",
     "text": [
      "WARNING: You are using pip version 22.0.4; however, version 23.1.2 is available.\n",
      "You should consider upgrading via the 'C:\\Users\\Dell\\AppData\\Local\\Microsoft\\WindowsApps\\PythonSoftwareFoundation.Python.3.9_qbz5n2kfra8p0\\python.exe -m pip install --upgrade pip' command.\n"
     ]
    }
   ],
   "source": [
    "%pip install scikit-learn\n"
   ]
  },
  {
   "cell_type": "code",
   "execution_count": 122,
   "metadata": {},
   "outputs": [],
   "source": [
    "import numpy as np\n",
    "import pandas as pd\n",
    "import matplotlib.pyplot as plt"
   ]
  },
  {
   "cell_type": "code",
   "execution_count": 123,
   "metadata": {},
   "outputs": [
    {
     "data": {
      "text/html": [
       "<div>\n",
       "<style scoped>\n",
       "    .dataframe tbody tr th:only-of-type {\n",
       "        vertical-align: middle;\n",
       "    }\n",
       "\n",
       "    .dataframe tbody tr th {\n",
       "        vertical-align: top;\n",
       "    }\n",
       "\n",
       "    .dataframe thead th {\n",
       "        text-align: right;\n",
       "    }\n",
       "</style>\n",
       "<table border=\"1\" class=\"dataframe\">\n",
       "  <thead>\n",
       "    <tr style=\"text-align: right;\">\n",
       "      <th></th>\n",
       "      <th>Date</th>\n",
       "      <th>Price</th>\n",
       "      <th>Open</th>\n",
       "      <th>High</th>\n",
       "      <th>Low</th>\n",
       "      <th>Vol.</th>\n",
       "      <th>Change %</th>\n",
       "    </tr>\n",
       "  </thead>\n",
       "  <tbody>\n",
       "    <tr>\n",
       "      <th>0</th>\n",
       "      <td>1/3/2017</td>\n",
       "      <td>25.50</td>\n",
       "      <td>26.10</td>\n",
       "      <td>26.59</td>\n",
       "      <td>24.84</td>\n",
       "      <td>150.20M</td>\n",
       "      <td>-4.42%</td>\n",
       "    </tr>\n",
       "    <tr>\n",
       "      <th>1</th>\n",
       "      <td>1/4/2017</td>\n",
       "      <td>26.10</td>\n",
       "      <td>25.85</td>\n",
       "      <td>26.38</td>\n",
       "      <td>25.38</td>\n",
       "      <td>119.92M</td>\n",
       "      <td>2.35%</td>\n",
       "    </tr>\n",
       "    <tr>\n",
       "      <th>2</th>\n",
       "      <td>1/5/2017</td>\n",
       "      <td>25.43</td>\n",
       "      <td>26.13</td>\n",
       "      <td>26.45</td>\n",
       "      <td>25.26</td>\n",
       "      <td>98.43M</td>\n",
       "      <td>-2.57%</td>\n",
       "    </tr>\n",
       "    <tr>\n",
       "      <th>3</th>\n",
       "      <td>1/6/2017</td>\n",
       "      <td>25.77</td>\n",
       "      <td>25.71</td>\n",
       "      <td>26.06</td>\n",
       "      <td>25.30</td>\n",
       "      <td>82.29M</td>\n",
       "      <td>1.34%</td>\n",
       "    </tr>\n",
       "    <tr>\n",
       "      <th>4</th>\n",
       "      <td>1/9/2017</td>\n",
       "      <td>26.82</td>\n",
       "      <td>25.88</td>\n",
       "      <td>27.00</td>\n",
       "      <td>25.88</td>\n",
       "      <td>91.62M</td>\n",
       "      <td>4.07%</td>\n",
       "    </tr>\n",
       "  </tbody>\n",
       "</table>\n",
       "</div>"
      ],
      "text/plain": [
       "       Date  Price   Open   High    Low     Vol. Change %\n",
       "0  1/3/2017  25.50  26.10  26.59  24.84  150.20M   -4.42%\n",
       "1  1/4/2017  26.10  25.85  26.38  25.38  119.92M    2.35%\n",
       "2  1/5/2017  25.43  26.13  26.45  25.26   98.43M   -2.57%\n",
       "3  1/6/2017  25.77  25.71  26.06  25.30   82.29M    1.34%\n",
       "4  1/9/2017  26.82  25.88  27.00  25.88   91.62M    4.07%"
      ]
     },
     "execution_count": 123,
     "metadata": {},
     "output_type": "execute_result"
    }
   ],
   "source": [
    "#import data\n",
    "df = pd.read_csv('../Datasets/NVDA Historical Data.csv')\n",
    "\n",
    "#print data \n",
    "df.head()"
   ]
  },
  {
   "cell_type": "code",
   "execution_count": 124,
   "metadata": {},
   "outputs": [],
   "source": [
    "#Bỏ dòng bị trống dự liệu\n",
    "df = df.dropna()\n",
    "#Chuyển đổi dữ liệu cột Vol. sang số\n",
    "df['Vol.'] = df['Vol.'].str.replace('M', '').astype(float) * 1000000\n",
    "#Chuyển đổi cột 'Change %' từ kiểu dữ liệu object sang kiểu dữ liệu float64\n",
    "df['Change %'] = df['Change %'].str.rstrip('%').astype(float)\n",
    "\n"
   ]
  },
  {
   "cell_type": "code",
   "execution_count": 125,
   "metadata": {},
   "outputs": [
    {
     "data": {
      "image/png": "[encoded data removed]",
      "text/plain": [
       "<Figure size 1000x600 with 1 Axes>"
      ]
     },
     "metadata": {},
     "output_type": "display_data"
    }
   ],
   "source": [
    "figure=df['Price'].values\n",
    "\n",
    "plt.figure(figsize=(10,6))\n",
    "plt.plot(figure)\n",
    "plt.xlabel('Date')\n",
    "plt.ylabel('Price') \n",
    "plt.show()"
   ]
  },
  {
   "cell_type": "code",
   "execution_count": 126,
   "metadata": {},
   "outputs": [],
   "source": [
    "#Xây dựng mô hỉnh với Bayesian Dynamic Linear Model\n",
    "from pydlm import dlm, trend, seasonality, dynamic, autoReg, longSeason\n"
   ]
  },
  {
   "cell_type": "code",
   "execution_count": 127,
   "metadata": {},
   "outputs": [],
   "source": [
    "df = df.reset_index(drop=True)\n",
    " # Reset the index\n",
    "\n",
    "# Split the data into training, testing, and validation sets\n",
    "train_size = int(0.7 * len(df))\n",
    "test_size = int(0.2 * len(df))\n",
    "val_size = len(df) - train_size - test_size\n",
    "\n",
    "train_data = df[:train_size]\n",
    "test_data = df[train_size:train_size+test_size]\n",
    "val_data = df[train_size+test_size:]"
   ]
  },
  {
   "cell_type": "code",
   "execution_count": 128,
   "metadata": {},
   "outputs": [
    {
     "data": {
      "text/plain": [
       "['Low', 'High', 'Open']"
      ]
     },
     "execution_count": 128,
     "metadata": {},
     "output_type": "execute_result"
    }
   ],
   "source": [
    "#Tính toán độ tương quan để biết cột nào có ảnh hưởng tới cột Price nhất\n",
    "correlations = df.drop('Date', axis=1).corr()['Price']\n",
    "most_influential_columns = correlations.drop('Price').nlargest(3).index.tolist()\n",
    "most_influential_columns"
   ]
  },
  {
   "cell_type": "code",
   "execution_count": 152,
   "metadata": {},
   "outputs": [],
   "source": [
    "from pydlm import dlm, trend, seasonality\n",
    "\n",
    "# Tạo model DLM\n",
    "my_dlm = dlm(train_data['Price'])\n",
    "\n",
    "# # Thêm trend component\n",
    "my_dlm = my_dlm + trend(degree=2, name='trend', w=1e7)\n",
    "\n",
    "# # Thêm seasonality component với chu kỳ 52 tuần\n",
    "my_dlm = my_dlm + seasonality(period=30, name='season', w=1e7)\n",
    "\n",
    "\n",
    "#Tạo một danh sách các danh sách, trong đó mỗi phần tử là một giá trị của cột 'Open' trong DataFrame\n",
    "dynamic_features_Open = [[value] for value in df['Open'].values]\n",
    "#Lấy đúng size theo train_data\n",
    "train_dynamic_Open = dynamic_features_Open[:train_size]\n",
    "my_dlm = my_dlm + dynamic(features=train_dynamic_Open, name='dynamicOpen', discount=0.99, w=1e7)\n",
    "\n",
    "#Tạo một danh sách các danh sách, trong đó mỗi phần tử là một giá trị của cột 'High' trong DataFrame\n",
    "dynamic_features_High = [[value] for value in df['High'].values]\n",
    "#Lấy đúng size theo train_data\n",
    "train_dynamic_High = dynamic_features_High[:train_size]\n",
    "my_dlm = my_dlm + dynamic(features=train_dynamic_High, name='dynamicHigh', discount=0.99, w=1e7)\n",
    "\n",
    "#Tạo một danh sách các danh sách, trong đó mỗi phần tử là một giá trị của cột 'Low' trong DataFrame\n",
    "dynamic_features_Low = [[value] for value in df['Low'].values]\n",
    "#Lấy đúng size theo train_data\n",
    "train_dynamic_Low = dynamic_features_Low[:train_size]\n",
    "my_dlm = my_dlm + dynamic(features=train_dynamic_Low, name='dynamicLow', discount=0.99, w=1e7)\n",
    "\n",
    "# Thêm autoregressive component với độ lệch (degree) là 3\n",
    "my_dlm = my_dlm + autoReg(degree=3, discount=0.99, name='ar3', w=1e7)\n",
    "\n",
    "\n",
    "# #Tạo một danh sách các danh sách, trong đó mỗi phần tử là một giá trị của cột 'Vol.' trong DataFrame\n",
    "# dynamic_features_Vol = [[value] for value in df['Vol.'].values]\n",
    "# #Lấy đúng size theo train_data\n",
    "# train_dynamic_Vol = dynamic_features_Vol[:train_size]\n",
    "# my_dlm = my_dlm + dynamic(features=train_dynamic_Vol, name='dynamicVol', discount=0.95)\n",
    "\n",
    "# #Tạo một danh sách các danh sách, trong đó mỗi phần tử là một giá trị của cột 'Change' trong DataFrame\n",
    "# dynamic_features_Change = [[value] for value in df['Change %'].values]\n",
    "# #Lấy đúng size theo train_data\n",
    "# train_dynamic_Change = dynamic_features_Change[:train_size]\n",
    "# my_dlm = my_dlm + dynamic(features=train_dynamic_Change, name='dynamicChange', discount=0.95)\n",
    "\n",
    "\n",
    "# #Tạo một danh sách các danh sách, trong đó mỗi phần tử là một giá trị của cột 'High' trong DataFrame\n",
    "# dynamic_features_Price = [[value] for value in df['Price'].values]\n",
    "# #Lấy đúng size theo train_data\n",
    "# train_dynamic_Price = dynamic_features_Price[:train_size]\n",
    "# my_dlm = my_dlm + dynamic(features=train_dynamic_Price, name='dynamicPrice', discount=0.95)\n"
   ]
  },
  {
   "cell_type": "code",
   "execution_count": 153,
   "metadata": {},
   "outputs": [
    {
     "name": "stdout",
     "output_type": "stream",
     "text": [
      "Initializing models...\n",
      "Initialization finished.\n",
      "Starting forward filtering...\n",
      "Forward filtering completed.\n",
      "Starting backward smoothing...\n",
      "Backward smoothing completed.\n"
     ]
    }
   ],
   "source": [
    "\n",
    "# Fit the DLM to the training data\n",
    "my_dlm.fit()\n"
   ]
  },
  {
   "cell_type": "code",
   "execution_count": 154,
   "metadata": {},
   "outputs": [],
   "source": [
    "# Tạo featureDict cho dự đoán\n",
    "featureDict = {\n",
    "    'dynamicOpen': train_dynamic_Open,\n",
    "    'dynamicHigh': train_dynamic_High,\n",
    "    'dynamicLow': train_dynamic_Low,\n",
    "    # 'dynamicVol': train_dynamic_Vol,\n",
    "    # 'dynamicChange': train_dynamic_Change\n",
    "}\n",
    "\n",
    "# featureDict = {\n",
    "#     'dynamicPrice': train_dynamic_Price,\n",
    "# }"
   ]
  },
  {
   "cell_type": "code",
   "execution_count": 155,
   "metadata": {},
   "outputs": [],
   "source": [
    "# Predict on test data\n",
    "test_preds, test_vars = my_dlm.predictN(N=test_size, featureDict=featureDict)\n"
   ]
  },
  {
   "cell_type": "code",
   "execution_count": 156,
   "metadata": {},
   "outputs": [
    {
     "name": "stdout",
     "output_type": "stream",
     "text": [
      "Remember to append the new features for the dynamic components as well\n"
     ]
    }
   ],
   "source": [
    "my_dlm.append(test_preds, component='main')\n",
    "test_dynamic_features_Open = dynamic_features_Open[:test_size]\n",
    "\n",
    "\n",
    "test_dynamic_features_High = dynamic_features_Open[:test_size]\n",
    "\n",
    "test_dynamic_features_Low = dynamic_features_Open[:test_size]\n"
   ]
  },
  {
   "cell_type": "code",
   "execution_count": 157,
   "metadata": {},
   "outputs": [],
   "source": [
    "# Cập nhật dynamic component nếu có\n",
    "my_dlm.append(data=test_dynamic_features_Open, component='dynamicOpen')\n",
    "my_dlm.append(data=test_dynamic_features_High, component='dynamicHigh')\n",
    "my_dlm.append(data=test_dynamic_features_Low, component='dynamicLow')"
   ]
  },
  {
   "cell_type": "code",
   "execution_count": 158,
   "metadata": {},
   "outputs": [
    {
     "name": "stdout",
     "output_type": "stream",
     "text": [
      "Starting forward filtering...\n"
     ]
    },
    {
     "name": "stdout",
     "output_type": "stream",
     "text": [
      "Forward filtering completed.\n",
      "Starting backward smoothing...\n",
      "Backward smoothing completed.\n"
     ]
    }
   ],
   "source": [
    "my_dlm.fit()\n"
   ]
  },
  {
   "cell_type": "code",
   "execution_count": 159,
   "metadata": {},
   "outputs": [],
   "source": [
    "# Predict on validation data\n",
    "val_preds, val_vars = my_dlm.predictN(N=val_size, featureDict=featureDict)"
   ]
  },
  {
   "cell_type": "code",
   "execution_count": 160,
   "metadata": {},
   "outputs": [
    {
     "name": "stdout",
     "output_type": "stream",
     "text": [
      "Remember to append the new features for the dynamic components as well\n",
      "Starting forward filtering...\n",
      "Forward filtering completed.\n",
      "Starting backward smoothing...\n",
      "Backward smoothing completed.\n"
     ]
    }
   ],
   "source": [
    "my_dlm.append(val_preds, component='main')\n",
    "val_dynamic_features_Open = dynamic_features_Open[:val_size]\n",
    "\n",
    "val_dynamic_features_High = dynamic_features_Open[:val_size]\n",
    "\n",
    "val_dynamic_features_Low = dynamic_features_Open[:val_size]\n",
    "# Cập nhật dynamic component nếu có\n",
    "my_dlm.append(data=val_dynamic_features_Open, component='dynamicOpen')\n",
    "my_dlm.append(data=val_dynamic_features_High, component='dynamicHigh')\n",
    "my_dlm.append(data=val_dynamic_features_Low, component='dynamicLow')\n",
    "my_dlm.fit()"
   ]
  },
  {
   "cell_type": "code",
   "execution_count": 161,
   "metadata": {},
   "outputs": [],
   "source": [
    "# Các giá trị thực tế cho validation, test và train data\n",
    "val_actual = val_data['Price'].values\n",
    "test_actual = test_data['Price'].values\n",
    "train_actual = train_data['Price'].values"
   ]
  },
  {
   "cell_type": "code",
   "execution_count": 162,
   "metadata": {},
   "outputs": [
    {
     "name": "stdout",
     "output_type": "stream",
     "text": [
      "Testing RMSE: 142.41303588373825\n",
      "Testing MSE: 20281.47278962292\n",
      "Testing MAE: 126.2153105950831\n",
      "Validation RMSE: 116.15893119259859\n",
      "Validation MSE: 13492.897295806852\n",
      "Validation MAE: 98.01206130467828\n"
     ]
    }
   ],
   "source": [
    "from sklearn.metrics import accuracy_score, precision_score, recall_score, f1_score, mean_squared_error, mean_absolute_error\n",
    "\n",
    "# Regression metrics\n",
    "test_rmse = np.sqrt(np.mean((test_preds - test_actual)**2))\n",
    "test_mse = mean_squared_error(test_actual, test_preds)\n",
    "test_mae = mean_absolute_error(test_actual, test_preds)\n",
    "\n",
    "valid_rmse = np.sqrt(np.mean((val_preds - val_actual)**2))\n",
    "valid_mse = mean_squared_error(val_actual, val_preds)\n",
    "valid_mae = mean_absolute_error(val_actual, val_preds)\n",
    "\n",
    "print('Testing RMSE:', test_rmse)\n",
    "print('Testing MSE:', test_mse)\n",
    "print('Testing MAE:', test_mae)\n",
    "\n",
    "print('Validation RMSE:', valid_rmse)\n",
    "print('Validation MSE:', valid_mse)\n",
    "print('Validation MAE:', valid_mae)"
   ]
  },
  {
   "cell_type": "code",
   "execution_count": 163,
   "metadata": {},
   "outputs": [],
   "source": [
    "# 6. Quá trình tạo index predict 30 ngày tiếp theo\n",
    "last_index =  df.index[-1]\n",
    "last_data = pd.RangeIndex(start=last_index, stop=last_index+30, step=1)"
   ]
  },
  {
   "cell_type": "code",
   "execution_count": 164,
   "metadata": {},
   "outputs": [
    {
     "name": "stdout",
     "output_type": "stream",
     "text": [
      "Predictions for the next 30 days:\n",
      "[152.58792016394648, 153.37284424308757, 153.51127937870427, 154.73937821537754, 154.52730685039873, 155.06381671915204, 155.05108119800832, 155.26520269544596, 155.76081949019027, 156.32449144679595, 156.93758394549212, 156.6110737971451, 156.65254032125029, 157.2487141362643, 157.56187991940416, 157.88140685004848, 157.9413865298946, 159.03198409162763, 157.92582650408795, 159.32803366234316, 160.0937085225852, 160.21602753717653, 159.98207239279463, 160.55186692145307, 160.6167654115632, 160.61961369346153, 160.6373136747698, 160.58080937808484, 161.14500180855418, 161.9181240952065]\n"
     ]
    }
   ],
   "source": [
    "# Dự đoán 30 ngày tiếp theo sau tập validation\n",
    "future_preds, future_vars = my_dlm.predictN(N=30, featureDict=featureDict)\n",
    "\n",
    "# In ra dự đoán cho 30 ngày tiếp theo\n",
    "print(\"Predictions for the next 30 days:\")\n",
    "print(future_preds)"
   ]
  },
  {
   "cell_type": "code",
   "execution_count": 165,
   "metadata": {},
   "outputs": [],
   "source": [
    "#Tạo một mảng chứa toàn bộ dữ liệu của tập train, validation và test\n",
    "allPreds = np.concatenate([train_preds,test_preds, val_preds])\n"
   ]
  },
  {
   "cell_type": "code",
   "execution_count": 166,
   "metadata": {},
   "outputs": [],
   "source": [
    "#Tạo mảng index tương ứng với tập allPreds\n",
    "days = np.arange(0, len(allPreds))\n"
   ]
  },
  {
   "cell_type": "code",
   "execution_count": 167,
   "metadata": {},
   "outputs": [
    {
     "data": {
      "image/png": "[encoded data removed]",
      "text/plain": [
       "<Figure size 1000x600 with 1 Axes>"
      ]
     },
     "metadata": {},
     "output_type": "display_data"
    }
   ],
   "source": [
    "#Vẽ hình\n",
    "plt.figure(figsize=(10, 6))\n",
    "plt.plot(train_data.index, train_data['Price'])\n",
    "plt.plot(test_data.index, test_data['Price'])\n",
    "plt.plot(days[len(train_data.index):len(train_data.index)+len(test_preds)], test_preds, label='Prediction')\n",
    "plt.plot(val_data.index, val_data['Price'])\n",
    "plt.plot(days[len(train_data.index)+len(test_preds):], val_preds, label='Validate')\n",
    "plt.plot(last_data,future_preds, label='Next30Day')\n",
    "\n",
    "#plt.plot(pred_df.index, pred_df['Price'], label='Predicted')\n",
    "plt.legend(['Train', 'Test', 'TestPred', 'Validate', 'ValidatePred', 'Next30Day'])\n",
    "plt.show()"
   ]
  }
 ],
 "metadata": {
  "kernelspec": {
   "display_name": "Python 3",
   "language": "python",
   "name": "python3"
  },
  "language_info": {
   "codemirror_mode": {
    "name": "ipython",
    "version": 3
   },
   "file_extension": ".py",
   "mimetype": "text/x-python",
   "name": "python",
   "nbconvert_exporter": "python",
   "pygments_lexer": "ipython3",
   "version": "3.9.13"
  },
  "orig_nbformat": 4
 },
 "nbformat": 4,
 "nbformat_minor": 2
}
