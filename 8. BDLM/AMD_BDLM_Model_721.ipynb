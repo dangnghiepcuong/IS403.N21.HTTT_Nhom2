{
 "cells": [
  {
   "cell_type": "code",
   "execution_count": 41,
   "metadata": {},
   "outputs": [
    {
     "name": "stdout",
     "output_type": "stream",
     "text": [
      "Requirement already satisfied: numpy in c:\\users\\dell\\appdata\\local\\packages\\pythonsoftwarefoundation.python.3.9_qbz5n2kfra8p0\\localcache\\local-packages\\python39\\site-packages (1.24.3)\n",
      "Note: you may need to restart the kernel to use updated packages.\n"
     ]
    },
    {
     "name": "stderr",
     "output_type": "stream",
     "text": [
      "WARNING: You are using pip version 22.0.4; however, version 23.1.2 is available.\n",
      "You should consider upgrading via the 'C:\\Users\\Dell\\AppData\\Local\\Microsoft\\WindowsApps\\PythonSoftwareFoundation.Python.3.9_qbz5n2kfra8p0\\python.exe -m pip install --upgrade pip' command.\n"
     ]
    }
   ],
   "source": [
    "%pip install numpy"
   ]
  },
  {
   "cell_type": "code",
   "execution_count": 42,
   "metadata": {},
   "outputs": [
    {
     "name": "stdout",
     "output_type": "stream",
     "text": [
      "Requirement already satisfied: pydlm in c:\\users\\dell\\appdata\\local\\packages\\pythonsoftwarefoundation.python.3.9_qbz5n2kfra8p0\\localcache\\local-packages\\python39\\site-packages (0.1.1.12)Note: you may need to restart the kernel to use updated packages.\n",
      "\n",
      "Requirement already satisfied: numpy in c:\\users\\dell\\appdata\\local\\packages\\pythonsoftwarefoundation.python.3.9_qbz5n2kfra8p0\\localcache\\local-packages\\python39\\site-packages (from pydlm) (1.24.3)\n",
      "Requirement already satisfied: matplotlib in c:\\users\\dell\\appdata\\local\\packages\\pythonsoftwarefoundation.python.3.9_qbz5n2kfra8p0\\localcache\\local-packages\\python39\\site-packages (from pydlm) (3.7.1)\n",
      "Requirement already satisfied: pillow>=6.2.0 in c:\\users\\dell\\appdata\\local\\packages\\pythonsoftwarefoundation.python.3.9_qbz5n2kfra8p0\\localcache\\local-packages\\python39\\site-packages (from matplotlib->pydlm) (9.5.0)\n",
      "Requirement already satisfied: kiwisolver>=1.0.1 in c:\\users\\dell\\appdata\\local\\packages\\pythonsoftwarefoundation.python.3.9_qbz5n2kfra8p0\\localcache\\local-packages\\python39\\site-packages (from matplotlib->pydlm) (1.4.4)\n",
      "Requirement already satisfied: cycler>=0.10 in c:\\users\\dell\\appdata\\local\\packages\\pythonsoftwarefoundation.python.3.9_qbz5n2kfra8p0\\localcache\\local-packages\\python39\\site-packages (from matplotlib->pydlm) (0.11.0)\n",
      "Requirement already satisfied: importlib-resources>=3.2.0 in c:\\users\\dell\\appdata\\local\\packages\\pythonsoftwarefoundation.python.3.9_qbz5n2kfra8p0\\localcache\\local-packages\\python39\\site-packages (from matplotlib->pydlm) (5.12.0)\n",
      "Requirement already satisfied: contourpy>=1.0.1 in c:\\users\\dell\\appdata\\local\\packages\\pythonsoftwarefoundation.python.3.9_qbz5n2kfra8p0\\localcache\\local-packages\\python39\\site-packages (from matplotlib->pydlm) (1.0.7)\n",
      "Requirement already satisfied: python-dateutil>=2.7 in c:\\users\\dell\\appdata\\local\\packages\\pythonsoftwarefoundation.python.3.9_qbz5n2kfra8p0\\localcache\\local-packages\\python39\\site-packages (from matplotlib->pydlm) (2.8.2)\n",
      "Requirement already satisfied: packaging>=20.0 in c:\\users\\dell\\appdata\\local\\packages\\pythonsoftwarefoundation.python.3.9_qbz5n2kfra8p0\\localcache\\local-packages\\python39\\site-packages (from matplotlib->pydlm) (23.1)\n",
      "Requirement already satisfied: fonttools>=4.22.0 in c:\\users\\dell\\appdata\\local\\packages\\pythonsoftwarefoundation.python.3.9_qbz5n2kfra8p0\\localcache\\local-packages\\python39\\site-packages (from matplotlib->pydlm) (4.39.3)\n",
      "Requirement already satisfied: pyparsing>=2.3.1 in c:\\users\\dell\\appdata\\local\\packages\\pythonsoftwarefoundation.python.3.9_qbz5n2kfra8p0\\localcache\\local-packages\\python39\\site-packages (from matplotlib->pydlm) (3.0.9)\n",
      "Requirement already satisfied: zipp>=3.1.0 in c:\\users\\dell\\appdata\\local\\packages\\pythonsoftwarefoundation.python.3.9_qbz5n2kfra8p0\\localcache\\local-packages\\python39\\site-packages (from importlib-resources>=3.2.0->matplotlib->pydlm) (3.15.0)\n",
      "Requirement already satisfied: six>=1.5 in c:\\users\\dell\\appdata\\local\\packages\\pythonsoftwarefoundation.python.3.9_qbz5n2kfra8p0\\localcache\\local-packages\\python39\\site-packages (from python-dateutil>=2.7->matplotlib->pydlm) (1.16.0)\n"
     ]
    },
    {
     "name": "stderr",
     "output_type": "stream",
     "text": [
      "WARNING: You are using pip version 22.0.4; however, version 23.1.2 is available.\n",
      "You should consider upgrading via the 'C:\\Users\\Dell\\AppData\\Local\\Microsoft\\WindowsApps\\PythonSoftwareFoundation.Python.3.9_qbz5n2kfra8p0\\python.exe -m pip install --upgrade pip' command.\n"
     ]
    }
   ],
   "source": [
    "%pip install pydlm"
   ]
  },
  {
   "cell_type": "code",
   "execution_count": 43,
   "metadata": {},
   "outputs": [
    {
     "name": "stdout",
     "output_type": "stream",
     "text": [
      "Requirement already satisfied: pandas in c:\\users\\dell\\appdata\\local\\packages\\pythonsoftwarefoundation.python.3.9_qbz5n2kfra8p0\\localcache\\local-packages\\python39\\site-packages (2.0.1)\n",
      "Requirement already satisfied: numpy>=1.20.3 in c:\\users\\dell\\appdata\\local\\packages\\pythonsoftwarefoundation.python.3.9_qbz5n2kfra8p0\\localcache\\local-packages\\python39\\site-packages (from pandas) (1.24.3)\n",
      "Requirement already satisfied: python-dateutil>=2.8.2 in c:\\users\\dell\\appdata\\local\\packages\\pythonsoftwarefoundation.python.3.9_qbz5n2kfra8p0\\localcache\\local-packages\\python39\\site-packages (from pandas) (2.8.2)\n",
      "Requirement already satisfied: tzdata>=2022.1 in c:\\users\\dell\\appdata\\local\\packages\\pythonsoftwarefoundation.python.3.9_qbz5n2kfra8p0\\localcache\\local-packages\\python39\\site-packages (from pandas) (2023.3)\n",
      "Requirement already satisfied: pytz>=2020.1 in c:\\users\\dell\\appdata\\local\\packages\\pythonsoftwarefoundation.python.3.9_qbz5n2kfra8p0\\localcache\\local-packages\\python39\\site-packages (from pandas) (2023.3)\n",
      "Requirement already satisfied: six>=1.5 in c:\\users\\dell\\appdata\\local\\packages\\pythonsoftwarefoundation.python.3.9_qbz5n2kfra8p0\\localcache\\local-packages\\python39\\site-packages (from python-dateutil>=2.8.2->pandas) (1.16.0)\n",
      "Note: you may need to restart the kernel to use updated packages.\n"
     ]
    },
    {
     "name": "stderr",
     "output_type": "stream",
     "text": [
      "WARNING: You are using pip version 22.0.4; however, version 23.1.2 is available.\n",
      "You should consider upgrading via the 'C:\\Users\\Dell\\AppData\\Local\\Microsoft\\WindowsApps\\PythonSoftwareFoundation.Python.3.9_qbz5n2kfra8p0\\python.exe -m pip install --upgrade pip' command.\n"
     ]
    }
   ],
   "source": [
    "%pip install pandas"
   ]
  },
  {
   "cell_type": "code",
   "execution_count": 44,
   "metadata": {},
   "outputs": [
    {
     "name": "stdout",
     "output_type": "stream",
     "text": [
      "Requirement already satisfied: openpyxl in c:\\users\\dell\\appdata\\local\\packages\\pythonsoftwarefoundation.python.3.9_qbz5n2kfra8p0\\localcache\\local-packages\\python39\\site-packages (3.1.2)\n",
      "Requirement already satisfied: et-xmlfile in c:\\users\\dell\\appdata\\local\\packages\\pythonsoftwarefoundation.python.3.9_qbz5n2kfra8p0\\localcache\\local-packages\\python39\\site-packages (from openpyxl) (1.1.0)\n",
      "Note: you may need to restart the kernel to use updated packages.\n"
     ]
    },
    {
     "name": "stderr",
     "output_type": "stream",
     "text": [
      "WARNING: You are using pip version 22.0.4; however, version 23.1.2 is available.\n",
      "You should consider upgrading via the 'C:\\Users\\Dell\\AppData\\Local\\Microsoft\\WindowsApps\\PythonSoftwareFoundation.Python.3.9_qbz5n2kfra8p0\\python.exe -m pip install --upgrade pip' command.\n"
     ]
    }
   ],
   "source": [
    "%pip install openpyxl\n"
   ]
  },
  {
   "cell_type": "code",
   "execution_count": 113,
   "metadata": {},
   "outputs": [
    {
     "name": "stdout",
     "output_type": "stream",
     "text": [
      "Requirement already satisfied: scikit-learn in c:\\users\\dell\\appdata\\local\\packages\\pythonsoftwarefoundation.python.3.9_qbz5n2kfra8p0\\localcache\\local-packages\\python39\\site-packages (1.2.2)\n",
      "Requirement already satisfied: threadpoolctl>=2.0.0 in c:\\users\\dell\\appdata\\local\\packages\\pythonsoftwarefoundation.python.3.9_qbz5n2kfra8p0\\localcache\\local-packages\\python39\\site-packages (from scikit-learn) (3.1.0)\n",
      "Requirement already satisfied: scipy>=1.3.2 in c:\\users\\dell\\appdata\\local\\packages\\pythonsoftwarefoundation.python.3.9_qbz5n2kfra8p0\\localcache\\local-packages\\python39\\site-packages (from scikit-learn) (1.10.1)\n",
      "Requirement already satisfied: joblib>=1.1.1 in c:\\users\\dell\\appdata\\local\\packages\\pythonsoftwarefoundation.python.3.9_qbz5n2kfra8p0\\localcache\\local-packages\\python39\\site-packages (from scikit-learn) (1.2.0)\n",
      "Requirement already satisfied: numpy>=1.17.3 in c:\\users\\dell\\appdata\\local\\packages\\pythonsoftwarefoundation.python.3.9_qbz5n2kfra8p0\\localcache\\local-packages\\python39\\site-packages (from scikit-learn) (1.24.3)\n",
      "Note: you may need to restart the kernel to use updated packages.\n"
     ]
    },
    {
     "name": "stderr",
     "output_type": "stream",
     "text": [
      "WARNING: You are using pip version 22.0.4; however, version 23.1.2 is available.\n",
      "You should consider upgrading via the 'C:\\Users\\Dell\\AppData\\Local\\Microsoft\\WindowsApps\\PythonSoftwareFoundation.Python.3.9_qbz5n2kfra8p0\\python.exe -m pip install --upgrade pip' command.\n"
     ]
    }
   ],
   "source": [
    "%pip install scikit-learn\n"
   ]
  },
  {
   "cell_type": "code",
   "execution_count": 45,
   "metadata": {},
   "outputs": [],
   "source": [
    "import numpy as np\n",
    "import pandas as pd\n",
    "import matplotlib.pyplot as plt"
   ]
  },
  {
   "cell_type": "code",
   "execution_count": 46,
   "metadata": {},
   "outputs": [
    {
     "data": {
      "text/html": [
       "<div>\n",
       "<style scoped>\n",
       "    .dataframe tbody tr th:only-of-type {\n",
       "        vertical-align: middle;\n",
       "    }\n",
       "\n",
       "    .dataframe tbody tr th {\n",
       "        vertical-align: top;\n",
       "    }\n",
       "\n",
       "    .dataframe thead th {\n",
       "        text-align: right;\n",
       "    }\n",
       "</style>\n",
       "<table border=\"1\" class=\"dataframe\">\n",
       "  <thead>\n",
       "    <tr style=\"text-align: right;\">\n",
       "      <th></th>\n",
       "      <th>Date</th>\n",
       "      <th>Price</th>\n",
       "      <th>Open</th>\n",
       "      <th>High</th>\n",
       "      <th>Low</th>\n",
       "      <th>Vol.</th>\n",
       "      <th>Change %</th>\n",
       "    </tr>\n",
       "  </thead>\n",
       "  <tbody>\n",
       "    <tr>\n",
       "      <th>0</th>\n",
       "      <td>1/3/2017</td>\n",
       "      <td>11.43</td>\n",
       "      <td>11.42</td>\n",
       "      <td>11.65</td>\n",
       "      <td>11.02</td>\n",
       "      <td>55.18M</td>\n",
       "      <td>0.79%</td>\n",
       "    </tr>\n",
       "    <tr>\n",
       "      <th>1</th>\n",
       "      <td>1/4/2017</td>\n",
       "      <td>11.43</td>\n",
       "      <td>11.45</td>\n",
       "      <td>11.52</td>\n",
       "      <td>11.23</td>\n",
       "      <td>40.78M</td>\n",
       "      <td>0.00%</td>\n",
       "    </tr>\n",
       "    <tr>\n",
       "      <th>2</th>\n",
       "      <td>1/5/2017</td>\n",
       "      <td>11.24</td>\n",
       "      <td>11.43</td>\n",
       "      <td>11.69</td>\n",
       "      <td>11.23</td>\n",
       "      <td>38.86M</td>\n",
       "      <td>-1.66%</td>\n",
       "    </tr>\n",
       "    <tr>\n",
       "      <th>3</th>\n",
       "      <td>1/6/2017</td>\n",
       "      <td>11.32</td>\n",
       "      <td>11.29</td>\n",
       "      <td>11.49</td>\n",
       "      <td>11.11</td>\n",
       "      <td>34.45M</td>\n",
       "      <td>0.71%</td>\n",
       "    </tr>\n",
       "    <tr>\n",
       "      <th>4</th>\n",
       "      <td>1/9/2017</td>\n",
       "      <td>11.49</td>\n",
       "      <td>11.37</td>\n",
       "      <td>11.64</td>\n",
       "      <td>11.31</td>\n",
       "      <td>37.30M</td>\n",
       "      <td>1.50%</td>\n",
       "    </tr>\n",
       "  </tbody>\n",
       "</table>\n",
       "</div>"
      ],
      "text/plain": [
       "       Date  Price   Open   High    Low    Vol. Change %\n",
       "0  1/3/2017  11.43  11.42  11.65  11.02  55.18M    0.79%\n",
       "1  1/4/2017  11.43  11.45  11.52  11.23  40.78M    0.00%\n",
       "2  1/5/2017  11.24  11.43  11.69  11.23  38.86M   -1.66%\n",
       "3  1/6/2017  11.32  11.29  11.49  11.11  34.45M    0.71%\n",
       "4  1/9/2017  11.49  11.37  11.64  11.31  37.30M    1.50%"
      ]
     },
     "execution_count": 46,
     "metadata": {},
     "output_type": "execute_result"
    }
   ],
   "source": [
    "#import data\n",
    "df = pd.read_csv('../Datasets/AMD Historical Data.csv')\n",
    "\n",
    "#print data \n",
    "df.head()"
   ]
  },
  {
   "cell_type": "code",
   "execution_count": 47,
   "metadata": {},
   "outputs": [],
   "source": [
    "#Bỏ dòng bị trống dự liệu\n",
    "df = df.dropna()\n",
    "#Chuyển đổi dữ liệu cột Vol. sang số\n",
    "df['Vol.'] = df['Vol.'].str.replace('M', '').astype(float) * 1000000\n"
   ]
  },
  {
   "cell_type": "code",
   "execution_count": 48,
   "metadata": {},
   "outputs": [],
   "source": [
    "#Chuyển đổi cột 'Change %' từ kiểu dữ liệu object sang kiểu dữ liệu float64\n",
    "df['Change %'] = df['Change %'].str.rstrip('%').astype(float)\n"
   ]
  },
  {
   "cell_type": "code",
   "execution_count": 49,
   "metadata": {},
   "outputs": [
    {
     "data": {
      "text/html": [
       "<div>\n",
       "<style scoped>\n",
       "    .dataframe tbody tr th:only-of-type {\n",
       "        vertical-align: middle;\n",
       "    }\n",
       "\n",
       "    .dataframe tbody tr th {\n",
       "        vertical-align: top;\n",
       "    }\n",
       "\n",
       "    .dataframe thead th {\n",
       "        text-align: right;\n",
       "    }\n",
       "</style>\n",
       "<table border=\"1\" class=\"dataframe\">\n",
       "  <thead>\n",
       "    <tr style=\"text-align: right;\">\n",
       "      <th></th>\n",
       "      <th>Date</th>\n",
       "      <th>Price</th>\n",
       "      <th>Open</th>\n",
       "      <th>High</th>\n",
       "      <th>Low</th>\n",
       "      <th>Vol.</th>\n",
       "      <th>Change %</th>\n",
       "    </tr>\n",
       "  </thead>\n",
       "  <tbody>\n",
       "    <tr>\n",
       "      <th>0</th>\n",
       "      <td>1/3/2017</td>\n",
       "      <td>11.43</td>\n",
       "      <td>11.42</td>\n",
       "      <td>11.65</td>\n",
       "      <td>11.02</td>\n",
       "      <td>55180000.0</td>\n",
       "      <td>0.79</td>\n",
       "    </tr>\n",
       "    <tr>\n",
       "      <th>1</th>\n",
       "      <td>1/4/2017</td>\n",
       "      <td>11.43</td>\n",
       "      <td>11.45</td>\n",
       "      <td>11.52</td>\n",
       "      <td>11.23</td>\n",
       "      <td>40780000.0</td>\n",
       "      <td>0.00</td>\n",
       "    </tr>\n",
       "    <tr>\n",
       "      <th>2</th>\n",
       "      <td>1/5/2017</td>\n",
       "      <td>11.24</td>\n",
       "      <td>11.43</td>\n",
       "      <td>11.69</td>\n",
       "      <td>11.23</td>\n",
       "      <td>38860000.0</td>\n",
       "      <td>-1.66</td>\n",
       "    </tr>\n",
       "    <tr>\n",
       "      <th>3</th>\n",
       "      <td>1/6/2017</td>\n",
       "      <td>11.32</td>\n",
       "      <td>11.29</td>\n",
       "      <td>11.49</td>\n",
       "      <td>11.11</td>\n",
       "      <td>34450000.0</td>\n",
       "      <td>0.71</td>\n",
       "    </tr>\n",
       "    <tr>\n",
       "      <th>4</th>\n",
       "      <td>1/9/2017</td>\n",
       "      <td>11.49</td>\n",
       "      <td>11.37</td>\n",
       "      <td>11.64</td>\n",
       "      <td>11.31</td>\n",
       "      <td>37300000.0</td>\n",
       "      <td>1.50</td>\n",
       "    </tr>\n",
       "    <tr>\n",
       "      <th>...</th>\n",
       "      <td>...</td>\n",
       "      <td>...</td>\n",
       "      <td>...</td>\n",
       "      <td>...</td>\n",
       "      <td>...</td>\n",
       "      <td>...</td>\n",
       "      <td>...</td>\n",
       "    </tr>\n",
       "    <tr>\n",
       "      <th>1619</th>\n",
       "      <td>6/9/2023</td>\n",
       "      <td>124.92</td>\n",
       "      <td>123.57</td>\n",
       "      <td>127.25</td>\n",
       "      <td>123.55</td>\n",
       "      <td>75110000.0</td>\n",
       "      <td>3.20</td>\n",
       "    </tr>\n",
       "    <tr>\n",
       "      <th>1620</th>\n",
       "      <td>6/12/2023</td>\n",
       "      <td>129.19</td>\n",
       "      <td>128.52</td>\n",
       "      <td>130.48</td>\n",
       "      <td>126.40</td>\n",
       "      <td>85220000.0</td>\n",
       "      <td>3.42</td>\n",
       "    </tr>\n",
       "    <tr>\n",
       "      <th>1621</th>\n",
       "      <td>6/13/2023</td>\n",
       "      <td>124.53</td>\n",
       "      <td>132.32</td>\n",
       "      <td>132.83</td>\n",
       "      <td>122.45</td>\n",
       "      <td>131670000.0</td>\n",
       "      <td>-3.61</td>\n",
       "    </tr>\n",
       "    <tr>\n",
       "      <th>1622</th>\n",
       "      <td>6/14/2023</td>\n",
       "      <td>127.33</td>\n",
       "      <td>126.53</td>\n",
       "      <td>127.72</td>\n",
       "      <td>123.81</td>\n",
       "      <td>95240000.0</td>\n",
       "      <td>2.25</td>\n",
       "    </tr>\n",
       "    <tr>\n",
       "      <th>1623</th>\n",
       "      <td>6/15/2023</td>\n",
       "      <td>124.24</td>\n",
       "      <td>125.39</td>\n",
       "      <td>125.70</td>\n",
       "      <td>122.26</td>\n",
       "      <td>85130000.0</td>\n",
       "      <td>-2.43</td>\n",
       "    </tr>\n",
       "  </tbody>\n",
       "</table>\n",
       "<p>1624 rows × 7 columns</p>\n",
       "</div>"
      ],
      "text/plain": [
       "           Date   Price    Open    High     Low         Vol.  Change %\n",
       "0      1/3/2017   11.43   11.42   11.65   11.02   55180000.0      0.79\n",
       "1      1/4/2017   11.43   11.45   11.52   11.23   40780000.0      0.00\n",
       "2      1/5/2017   11.24   11.43   11.69   11.23   38860000.0     -1.66\n",
       "3      1/6/2017   11.32   11.29   11.49   11.11   34450000.0      0.71\n",
       "4      1/9/2017   11.49   11.37   11.64   11.31   37300000.0      1.50\n",
       "...         ...     ...     ...     ...     ...          ...       ...\n",
       "1619   6/9/2023  124.92  123.57  127.25  123.55   75110000.0      3.20\n",
       "1620  6/12/2023  129.19  128.52  130.48  126.40   85220000.0      3.42\n",
       "1621  6/13/2023  124.53  132.32  132.83  122.45  131670000.0     -3.61\n",
       "1622  6/14/2023  127.33  126.53  127.72  123.81   95240000.0      2.25\n",
       "1623  6/15/2023  124.24  125.39  125.70  122.26   85130000.0     -2.43\n",
       "\n",
       "[1624 rows x 7 columns]"
      ]
     },
     "execution_count": 49,
     "metadata": {},
     "output_type": "execute_result"
    }
   ],
   "source": [
    "df"
   ]
  },
  {
   "cell_type": "code",
   "execution_count": 50,
   "metadata": {},
   "outputs": [
    {
     "name": "stdout",
     "output_type": "stream",
     "text": [
      "float64\n"
     ]
    }
   ],
   "source": [
    "# Kiểm tra kiểu dữ liệu của cột 'Vol.'\n",
    "print(df['Vol.'].dtype)"
   ]
  },
  {
   "cell_type": "code",
   "execution_count": 51,
   "metadata": {},
   "outputs": [
    {
     "name": "stdout",
     "output_type": "stream",
     "text": [
      "float64\n"
     ]
    }
   ],
   "source": [
    "print(df['Change %'].dtype)"
   ]
  },
  {
   "cell_type": "code",
   "execution_count": 52,
   "metadata": {},
   "outputs": [
    {
     "data": {
      "image/png": "[encoded data removed]",
      "text/plain": [
       "<Figure size 1000x600 with 1 Axes>"
      ]
     },
     "metadata": {},
     "output_type": "display_data"
    }
   ],
   "source": [
    "#Đảo ngược dữ liệu cho mô hình\n",
    "# df = df[::-1]\n",
    "\n",
    "figure=df['Price'].values\n",
    "plt.figure(figsize=(10,6))\n",
    "plt.plot(figure)\n",
    "plt.xlabel('Date')\n",
    "plt.ylabel('Price') \n",
    "plt.show()"
   ]
  },
  {
   "cell_type": "code",
   "execution_count": 53,
   "metadata": {},
   "outputs": [],
   "source": [
    "#Xây dựng mô hỉnh với Bayesian Dynamic Linear Model\n",
    "from pydlm import dlm, trend, seasonality, dynamic, autoReg, longSeason\n"
   ]
  },
  {
   "cell_type": "code",
   "execution_count": 54,
   "metadata": {},
   "outputs": [],
   "source": [
    "df = df.reset_index(drop=True)\n",
    " # Reset the index\n",
    "\n",
    "# Split the data into training, testing, and validation sets\n",
    "train_size = int(0.7 * len(df))\n",
    "test_size = int(0.2 * len(df))\n",
    "val_size = len(df) - train_size - test_size\n",
    "\n",
    "train_data = df[:train_size]\n",
    "test_data = df[train_size:train_size+test_size]\n",
    "val_data = df[train_size+test_size:]"
   ]
  },
  {
   "cell_type": "code",
   "execution_count": 149,
   "metadata": {},
   "outputs": [
    {
     "data": {
      "text/plain": [
       "['High', 'Low', 'Open']"
      ]
     },
     "execution_count": 149,
     "metadata": {},
     "output_type": "execute_result"
    }
   ],
   "source": [
    "#Tính toán độ tương quan để biết cột nào có ảnh hưởng tới cột Price nhất\n",
    "correlations = df.drop('Date', axis=1).corr()['Price']\n",
    "most_influential_columns = correlations.drop('Price').nlargest(3).index.tolist()\n",
    "most_influential_columns"
   ]
  },
  {
   "cell_type": "code",
   "execution_count": 151,
   "metadata": {},
   "outputs": [],
   "source": [
    "from pydlm import dlm, trend, seasonality\n",
    "\n",
    "# Tạo model DLM\n",
    "my_dlm = dlm(train_data['Price'])\n",
    "\n",
    "# Thêm trend component\n",
    "# my_dlm = my_dlm + trend(degree=1, name='trend', w=1.0)\n",
    "\n",
    "# Thêm seasonality component với chu kỳ 52 tuần\n",
    "# my_dlm = my_dlm + seasonality(period=52, name='season', w=1.0)\n",
    "\n",
    "\n",
    "#Tạo một danh sách các danh sách, trong đó mỗi phần tử là một giá trị của cột 'Open' trong DataFrame\n",
    "dynamic_features_Open = [[value] for value in df['Open'].values]\n",
    "#Lấy đúng size theo train_data\n",
    "train_dynamic_Open = dynamic_features_Open[:train_size]\n",
    "my_dlm = my_dlm + dynamic(features=train_dynamic_Open, name='dynamicOpen', discount=0.95)\n",
    "\n",
    "#Tạo một danh sách các danh sách, trong đó mỗi phần tử là một giá trị của cột 'High' trong DataFrame\n",
    "dynamic_features_High = [[value] for value in df['High'].values]\n",
    "#Lấy đúng size theo train_data\n",
    "train_dynamic_High = dynamic_features_High[:train_size]\n",
    "my_dlm = my_dlm + dynamic(features=train_dynamic_High, name='dynamicHigh', discount=0.95)\n",
    "\n",
    "#Tạo một danh sách các danh sách, trong đó mỗi phần tử là một giá trị của cột 'Low' trong DataFrame\n",
    "dynamic_features_Low = [[value] for value in df['Low'].values]\n",
    "#Lấy đúng size theo train_data\n",
    "train_dynamic_Low = dynamic_features_Low[:train_size]\n",
    "my_dlm = my_dlm + dynamic(features=train_dynamic_Low, name='dynamicLow', discount=0.95)\n",
    "\n",
    "# Thêm autoregressive component với độ lệch (degree) là 3\n",
    "my_dlm = my_dlm + autoReg(degree=3, discount=0.99, name='ar3', w=1e7)\n",
    "# #Tạo một danh sách các danh sách, trong đó mỗi phần tử là một giá trị của cột 'Vol.' trong DataFrame\n",
    "# dynamic_features_Vol = [[value] for value in df['Vol.'].values]\n",
    "# #Lấy đúng size theo train_data\n",
    "# train_dynamic_Vol = dynamic_features_Vol[:train_size]\n",
    "# my_dlm = my_dlm + dynamic(features=train_dynamic_Vol, name='dynamicVol', discount=0.95)\n",
    "\n",
    "# #Tạo một danh sách các danh sách, trong đó mỗi phần tử là một giá trị của cột 'Change' trong DataFrame\n",
    "# dynamic_features_Change = [[value] for value in df['Change %'].values]\n",
    "# #Lấy đúng size theo train_data\n",
    "# train_dynamic_Change = dynamic_features_Change[:train_size]\n",
    "# my_dlm = my_dlm + dynamic(features=train_dynamic_Change, name='dynamicChange', discount=0.95)\n",
    "\n",
    "\n",
    "# #Tạo một danh sách các danh sách, trong đó mỗi phần tử là một giá trị của cột 'High' trong DataFrame\n",
    "# dynamic_features_Price = [[value] for value in df['Price'].values]\n",
    "# #Lấy đúng size theo train_data\n",
    "# train_dynamic_Price = dynamic_features_Price[:train_size]\n",
    "# my_dlm = my_dlm + dynamic(features=train_dynamic_Price, name='dynamicPrice', discount=0.95)\n"
   ]
  },
  {
   "cell_type": "code",
   "execution_count": 152,
   "metadata": {},
   "outputs": [
    {
     "name": "stdout",
     "output_type": "stream",
     "text": [
      "Initializing models...\n",
      "Initialization finished.\n",
      "Starting forward filtering...\n"
     ]
    },
    {
     "name": "stdout",
     "output_type": "stream",
     "text": [
      "Forward filtering completed.\n",
      "Starting backward smoothing...\n",
      "Backward smoothing completed.\n"
     ]
    }
   ],
   "source": [
    "\n",
    "# Fit the DLM to the training data\n",
    "my_dlm.fit()\n"
   ]
  },
  {
   "cell_type": "code",
   "execution_count": 156,
   "metadata": {},
   "outputs": [],
   "source": [
    "# Tạo featureDict cho dự đoán\n",
    "featureDict = {\n",
    "    'dynamicOpen': train_dynamic_Open,\n",
    "    'dynamicHigh': train_dynamic_High,\n",
    "    'dynamicLow': train_dynamic_Low,\n",
    "    # 'dynamicVol': train_dynamic_Vol,\n",
    "    # 'dynamicChange': train_dynamic_Change\n",
    "}\n",
    "\n",
    "# featureDict = {\n",
    "#     'dynamicPrice': train_dynamic_Price,\n",
    "# }"
   ]
  },
  {
   "cell_type": "code",
   "execution_count": 157,
   "metadata": {},
   "outputs": [],
   "source": [
    "# print(len(train_dynamic_Change))\n",
    "# print(len(featureDict['dynamicOpen']))\n"
   ]
  },
  {
   "cell_type": "code",
   "execution_count": 158,
   "metadata": {},
   "outputs": [],
   "source": [
    "# Predict on validation set\n",
    "prediction = my_dlm.predictN(N=30, featureDict=featureDict)"
   ]
  },
  {
   "cell_type": "code",
   "execution_count": 159,
   "metadata": {},
   "outputs": [],
   "source": [
    "# Predict on validation data\n",
    "val_preds, val_vars = my_dlm.predictN(N=val_size, featureDict=featureDict)\n",
    "\n",
    "# Predict on test data\n",
    "test_preds, test_vars = my_dlm.predictN(N=test_size, featureDict=featureDict)\n",
    "# Predict on train data\n",
    "train_preds, train_vars = my_dlm.predictN(N=train_size, featureDict=featureDict)"
   ]
  },
  {
   "cell_type": "code",
   "execution_count": 160,
   "metadata": {},
   "outputs": [],
   "source": [
    "# Các giá trị thực tế cho validation, test và train data\n",
    "val_actual = val_data['Price'].values\n",
    "test_actual = test_data['Price'].values\n",
    "train_actual = train_data['Price'].values"
   ]
  },
  {
   "cell_type": "code",
   "execution_count": 161,
   "metadata": {},
   "outputs": [
    {
     "name": "stdout",
     "output_type": "stream",
     "text": [
      "Testing RMSE: 96.03052321987313\n",
      "Testing MSE: 9221.861389882592\n",
      "Testing MAE: 93.07980579408392\n",
      "Validation RMSE: 73.3069063184093\n",
      "Validation MSE: 5373.902513976038\n",
      "Validation MAE: 70.31463554316514\n"
     ]
    }
   ],
   "source": [
    "from sklearn.metrics import accuracy_score, precision_score, recall_score, f1_score, mean_squared_error, mean_absolute_error\n",
    "\n",
    "# Regression metrics\n",
    "test_rmse = np.sqrt(np.mean((test_preds - test_actual)**2))\n",
    "test_mse = mean_squared_error(test_actual, test_preds)\n",
    "test_mae = mean_absolute_error(test_actual, test_preds)\n",
    "\n",
    "valid_rmse = np.sqrt(np.mean((val_preds - val_actual)**2))\n",
    "valid_mse = mean_squared_error(val_actual, val_preds)\n",
    "valid_mae = mean_absolute_error(val_actual, val_preds)\n",
    "\n",
    "print('Testing RMSE:', test_rmse)\n",
    "print('Testing MSE:', test_mse)\n",
    "print('Testing MAE:', test_mae)\n",
    "\n",
    "print('Validation RMSE:', valid_rmse)\n",
    "print('Validation MSE:', valid_mse)\n",
    "print('Validation MAE:', valid_mae)"
   ]
  },
  {
   "cell_type": "code",
   "execution_count": 162,
   "metadata": {},
   "outputs": [],
   "source": [
    "# 6. Quá trình tạo index predict 30 ngày tiếp theo\n",
    "last_index =  df.index[-1]\n",
    "last_data = pd.RangeIndex(start=last_index, stop=last_index+30, step=1)"
   ]
  },
  {
   "cell_type": "code",
   "execution_count": 163,
   "metadata": {},
   "outputs": [
    {
     "name": "stdout",
     "output_type": "stream",
     "text": [
      "Predictions for the next 30 days:\n",
      "[60.01278588100203, 57.15719615922476, 48.371650490082594, 39.06671951992937, 35.37869312020569, 30.160683826004767, 26.26163805690204, 23.33383521994695, 20.712539094110713, 18.421852773973903, 16.723729219926486, 15.351548381717619, 14.098189689565729, 13.236053987850507, 12.601675774250868, 12.054801166155277, 11.626018542130108, 11.319472022439824, 10.964047504026814, 10.722525095214143, 10.982525390954192, 11.113133639380193, 11.067433856755532, 11.526894275942096, 11.68510672557195, 11.799536772879163, 12.018333823044618, 12.049742478495382, 12.218253568984732, 12.172326869144333]\n"
     ]
    }
   ],
   "source": [
    "# Dự đoán 30 ngày tiếp theo sau tập validation\n",
    "future_preds, future_vars = my_dlm.predictN(N=30, featureDict=featureDict)\n",
    "\n",
    "# In ra dự đoán cho 30 ngày tiếp theo\n",
    "print(\"Predictions for the next 30 days:\")\n",
    "print(future_preds)"
   ]
  },
  {
   "cell_type": "code",
   "execution_count": 164,
   "metadata": {},
   "outputs": [],
   "source": [
    "#Tạo một mảng chứa toàn bộ dữ liệu của tập train, validation và test\n",
    "allPreds = np.concatenate([train_preds,test_preds, val_preds])\n"
   ]
  },
  {
   "cell_type": "code",
   "execution_count": 165,
   "metadata": {},
   "outputs": [],
   "source": [
    "#Tạo mảng index tương ứng với tập allPreds\n",
    "days = np.arange(0, len(allPreds))\n"
   ]
  },
  {
   "cell_type": "code",
   "execution_count": 166,
   "metadata": {},
   "outputs": [
    {
     "data": {
      "image/png": "[encoded data removed]",
      "text/plain": [
       "<Figure size 1000x600 with 1 Axes>"
      ]
     },
     "metadata": {},
     "output_type": "display_data"
    }
   ],
   "source": [
    "#Vẽ hình\n",
    "plt.figure(figsize=(10, 6))\n",
    "plt.plot(train_data.index, train_data['Price'])\n",
    "plt.plot(test_data.index, test_data['Price'])\n",
    "plt.plot(days[len(train_data.index):len(train_data.index)+len(test_preds)], test_preds, label='Prediction')\n",
    "plt.plot(val_data.index, val_data['Price'])\n",
    "plt.plot(days[len(train_data.index)+len(test_preds):], val_preds, label='Validate')\n",
    "plt.plot(last_data,future_preds, label='Next30Day')\n",
    "\n",
    "#plt.plot(pred_df.index, pred_df['Price'], label='Predicted')\n",
    "plt.legend(['Train', 'Test', 'TestPred', 'Validate', 'ValidatePred', 'Next30Day'])\n",
    "plt.show()"
   ]
  }
 ],
 "metadata": {
  "kernelspec": {
   "display_name": "Python 3",
   "language": "python",
   "name": "python3"
  },
  "language_info": {
   "codemirror_mode": {
    "name": "ipython",
    "version": 3
   },
   "file_extension": ".py",
   "mimetype": "text/x-python",
   "name": "python",
   "nbconvert_exporter": "python",
   "pygments_lexer": "ipython3",
   "version": "3.9.13"
  },
  "orig_nbformat": 4
 },
 "nbformat": 4,
 "nbformat_minor": 2
}
