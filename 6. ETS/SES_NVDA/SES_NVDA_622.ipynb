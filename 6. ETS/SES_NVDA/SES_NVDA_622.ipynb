{
 "cells": [
  {
   "cell_type": "code",
   "execution_count": 1,
   "metadata": {},
   "outputs": [],
   "source": [
    "import pandas as pd\n",
    "import datetime\n",
    "import numpy as np\n",
    "import matplotlib.dates as mdates\n",
    "from sklearn.model_selection import train_test_split\n",
    "from statsmodels.tsa.api import SimpleExpSmoothing\n",
    "import matplotlib.pyplot as plt\n",
    "from sklearn.metrics import accuracy_score, precision_score, recall_score, f1_score, mean_squared_error, mean_absolute_error"
   ]
  },
  {
   "cell_type": "code",
   "execution_count": 2,
   "metadata": {},
   "outputs": [
    {
     "data": {
      "text/html": [
       "<div>\n",
       "<style scoped>\n",
       "    .dataframe tbody tr th:only-of-type {\n",
       "        vertical-align: middle;\n",
       "    }\n",
       "\n",
       "    .dataframe tbody tr th {\n",
       "        vertical-align: top;\n",
       "    }\n",
       "\n",
       "    .dataframe thead th {\n",
       "        text-align: right;\n",
       "    }\n",
       "</style>\n",
       "<table border=\"1\" class=\"dataframe\">\n",
       "  <thead>\n",
       "    <tr style=\"text-align: right;\">\n",
       "      <th></th>\n",
       "      <th>Date</th>\n",
       "      <th>Price</th>\n",
       "      <th>Open</th>\n",
       "      <th>High</th>\n",
       "      <th>Low</th>\n",
       "      <th>Vol.</th>\n",
       "      <th>Change %</th>\n",
       "    </tr>\n",
       "  </thead>\n",
       "  <tbody>\n",
       "    <tr>\n",
       "      <th>0</th>\n",
       "      <td>1/3/2017</td>\n",
       "      <td>25.50</td>\n",
       "      <td>26.10</td>\n",
       "      <td>26.59</td>\n",
       "      <td>24.84</td>\n",
       "      <td>150.20M</td>\n",
       "      <td>-4.42%</td>\n",
       "    </tr>\n",
       "    <tr>\n",
       "      <th>1</th>\n",
       "      <td>1/4/2017</td>\n",
       "      <td>26.10</td>\n",
       "      <td>25.85</td>\n",
       "      <td>26.38</td>\n",
       "      <td>25.38</td>\n",
       "      <td>119.92M</td>\n",
       "      <td>2.35%</td>\n",
       "    </tr>\n",
       "    <tr>\n",
       "      <th>2</th>\n",
       "      <td>1/5/2017</td>\n",
       "      <td>25.43</td>\n",
       "      <td>26.13</td>\n",
       "      <td>26.45</td>\n",
       "      <td>25.26</td>\n",
       "      <td>98.43M</td>\n",
       "      <td>-2.57%</td>\n",
       "    </tr>\n",
       "    <tr>\n",
       "      <th>3</th>\n",
       "      <td>1/6/2017</td>\n",
       "      <td>25.77</td>\n",
       "      <td>25.71</td>\n",
       "      <td>26.06</td>\n",
       "      <td>25.30</td>\n",
       "      <td>82.29M</td>\n",
       "      <td>1.34%</td>\n",
       "    </tr>\n",
       "    <tr>\n",
       "      <th>4</th>\n",
       "      <td>1/9/2017</td>\n",
       "      <td>26.82</td>\n",
       "      <td>25.88</td>\n",
       "      <td>27.00</td>\n",
       "      <td>25.88</td>\n",
       "      <td>91.62M</td>\n",
       "      <td>4.07%</td>\n",
       "    </tr>\n",
       "    <tr>\n",
       "      <th>...</th>\n",
       "      <td>...</td>\n",
       "      <td>...</td>\n",
       "      <td>...</td>\n",
       "      <td>...</td>\n",
       "      <td>...</td>\n",
       "      <td>...</td>\n",
       "      <td>...</td>\n",
       "    </tr>\n",
       "    <tr>\n",
       "      <th>1619</th>\n",
       "      <td>6/9/2023</td>\n",
       "      <td>387.70</td>\n",
       "      <td>390.37</td>\n",
       "      <td>397.11</td>\n",
       "      <td>385.67</td>\n",
       "      <td>42.77M</td>\n",
       "      <td>0.68%</td>\n",
       "    </tr>\n",
       "    <tr>\n",
       "      <th>1620</th>\n",
       "      <td>6/12/2023</td>\n",
       "      <td>394.82</td>\n",
       "      <td>392.00</td>\n",
       "      <td>395.30</td>\n",
       "      <td>386.18</td>\n",
       "      <td>38.44M</td>\n",
       "      <td>1.84%</td>\n",
       "    </tr>\n",
       "    <tr>\n",
       "      <th>1621</th>\n",
       "      <td>6/13/2023</td>\n",
       "      <td>410.22</td>\n",
       "      <td>401.86</td>\n",
       "      <td>411.01</td>\n",
       "      <td>397.40</td>\n",
       "      <td>60.77M</td>\n",
       "      <td>3.90%</td>\n",
       "    </tr>\n",
       "    <tr>\n",
       "      <th>1622</th>\n",
       "      <td>6/14/2023</td>\n",
       "      <td>429.97</td>\n",
       "      <td>408.24</td>\n",
       "      <td>430.00</td>\n",
       "      <td>405.52</td>\n",
       "      <td>72.94M</td>\n",
       "      <td>4.81%</td>\n",
       "    </tr>\n",
       "    <tr>\n",
       "      <th>1623</th>\n",
       "      <td>6/15/2023</td>\n",
       "      <td>426.53</td>\n",
       "      <td>426.02</td>\n",
       "      <td>432.89</td>\n",
       "      <td>421.47</td>\n",
       "      <td>56.67M</td>\n",
       "      <td>-0.80%</td>\n",
       "    </tr>\n",
       "  </tbody>\n",
       "</table>\n",
       "<p>1624 rows × 7 columns</p>\n",
       "</div>"
      ],
      "text/plain": [
       "           Date   Price    Open    High     Low     Vol. Change %\n",
       "0      1/3/2017   25.50   26.10   26.59   24.84  150.20M   -4.42%\n",
       "1      1/4/2017   26.10   25.85   26.38   25.38  119.92M    2.35%\n",
       "2      1/5/2017   25.43   26.13   26.45   25.26   98.43M   -2.57%\n",
       "3      1/6/2017   25.77   25.71   26.06   25.30   82.29M    1.34%\n",
       "4      1/9/2017   26.82   25.88   27.00   25.88   91.62M    4.07%\n",
       "...         ...     ...     ...     ...     ...      ...      ...\n",
       "1619   6/9/2023  387.70  390.37  397.11  385.67   42.77M    0.68%\n",
       "1620  6/12/2023  394.82  392.00  395.30  386.18   38.44M    1.84%\n",
       "1621  6/13/2023  410.22  401.86  411.01  397.40   60.77M    3.90%\n",
       "1622  6/14/2023  429.97  408.24  430.00  405.52   72.94M    4.81%\n",
       "1623  6/15/2023  426.53  426.02  432.89  421.47   56.67M   -0.80%\n",
       "\n",
       "[1624 rows x 7 columns]"
      ]
     },
     "execution_count": 2,
     "metadata": {},
     "output_type": "execute_result"
    }
   ],
   "source": [
    "df = pd.read_csv('../../Datasets/NVDA Historical Data.csv')\n",
    "df"
   ]
  },
  {
   "cell_type": "code",
   "execution_count": 3,
   "metadata": {},
   "outputs": [
    {
     "data": {
      "text/plain": [
       "<bound method DataFrame.info of            Date   Price    Open    High     Low     Vol. Change %\n",
       "0      1/3/2017   25.50   26.10   26.59   24.84  150.20M   -4.42%\n",
       "1      1/4/2017   26.10   25.85   26.38   25.38  119.92M    2.35%\n",
       "2      1/5/2017   25.43   26.13   26.45   25.26   98.43M   -2.57%\n",
       "3      1/6/2017   25.77   25.71   26.06   25.30   82.29M    1.34%\n",
       "4      1/9/2017   26.82   25.88   27.00   25.88   91.62M    4.07%\n",
       "...         ...     ...     ...     ...     ...      ...      ...\n",
       "1619   6/9/2023  387.70  390.37  397.11  385.67   42.77M    0.68%\n",
       "1620  6/12/2023  394.82  392.00  395.30  386.18   38.44M    1.84%\n",
       "1621  6/13/2023  410.22  401.86  411.01  397.40   60.77M    3.90%\n",
       "1622  6/14/2023  429.97  408.24  430.00  405.52   72.94M    4.81%\n",
       "1623  6/15/2023  426.53  426.02  432.89  421.47   56.67M   -0.80%\n",
       "\n",
       "[1624 rows x 7 columns]>"
      ]
     },
     "execution_count": 3,
     "metadata": {},
     "output_type": "execute_result"
    }
   ],
   "source": [
    "df.info"
   ]
  },
  {
   "cell_type": "code",
   "execution_count": 4,
   "metadata": {},
   "outputs": [],
   "source": [
    "# Convert the 'Date' column to datetime format\n",
    "df['Date'] = pd.to_datetime(df['Date'])\n",
    "\n",
    "# Set the 'Date' column as the index value\n",
    "df.set_index('Date', inplace=True)"
   ]
  },
  {
   "cell_type": "code",
   "execution_count": 5,
   "metadata": {},
   "outputs": [
    {
     "name": "stdout",
     "output_type": "stream",
     "text": [
      "DatetimeIndex(['2017-01-03', '2017-01-04', '2017-01-05', '2017-01-06',\n",
      "               '2017-01-09', '2017-01-10', '2017-01-11', '2017-01-12',\n",
      "               '2017-01-13', '2017-01-17',\n",
      "               ...\n",
      "               '2023-06-02', '2023-06-05', '2023-06-06', '2023-06-07',\n",
      "               '2023-06-08', '2023-06-09', '2023-06-12', '2023-06-13',\n",
      "               '2023-06-14', '2023-06-15'],\n",
      "              dtype='datetime64[ns]', name='Date', length=1624, freq=None)\n"
     ]
    }
   ],
   "source": [
    "print(df.index)"
   ]
  },
  {
   "cell_type": "code",
   "execution_count": 6,
   "metadata": {},
   "outputs": [],
   "source": [
    "df = df[['Price']]\n",
    "df = df.dropna() # Drop missing values\n",
    "# df = df.reset_index(drop=True) # Reset the index\n",
    "\n",
    "# Split the data into training, testing, and validation sets\n",
    "train_size = int(0.6 * len(df))\n",
    "test_size = int(0.2 * len(df))\n",
    "val_size = len(df) - train_size - test_size\n",
    "\n",
    "train_data = df[:train_size]\n",
    "test_data = df[train_size:train_size+test_size]\n",
    "val_data = df[train_size+test_size:]"
   ]
  },
  {
   "cell_type": "code",
   "execution_count": 7,
   "metadata": {},
   "outputs": [
    {
     "name": "stdout",
     "output_type": "stream",
     "text": [
      "Best alpha value: 0.9\n"
     ]
    },
    {
     "name": "stderr",
     "output_type": "stream",
     "text": [
      "C:\\Users\\dinht\\AppData\\Local\\Packages\\PythonSoftwareFoundation.Python.3.11_qbz5n2kfra8p0\\LocalCache\\local-packages\\Python311\\site-packages\\statsmodels\\tsa\\base\\tsa_model.py:471: ValueWarning: A date index has been provided, but it has no associated frequency information and so will be ignored when e.g. forecasting.\n",
      "  self._init_dates(dates, freq)\n",
      "C:\\Users\\dinht\\AppData\\Local\\Packages\\PythonSoftwareFoundation.Python.3.11_qbz5n2kfra8p0\\LocalCache\\local-packages\\Python311\\site-packages\\statsmodels\\tsa\\base\\tsa_model.py:834: ValueWarning: No supported index is available. Prediction results will be given with an integer index beginning at `start`.\n",
      "  return get_prediction_index(\n",
      "C:\\Users\\dinht\\AppData\\Local\\Packages\\PythonSoftwareFoundation.Python.3.11_qbz5n2kfra8p0\\LocalCache\\local-packages\\Python311\\site-packages\\statsmodels\\tsa\\base\\tsa_model.py:471: ValueWarning: A date index has been provided, but it has no associated frequency information and so will be ignored when e.g. forecasting.\n",
      "  self._init_dates(dates, freq)\n",
      "C:\\Users\\dinht\\AppData\\Local\\Packages\\PythonSoftwareFoundation.Python.3.11_qbz5n2kfra8p0\\LocalCache\\local-packages\\Python311\\site-packages\\statsmodels\\tsa\\base\\tsa_model.py:834: ValueWarning: No supported index is available. Prediction results will be given with an integer index beginning at `start`.\n",
      "  return get_prediction_index(\n",
      "C:\\Users\\dinht\\AppData\\Local\\Packages\\PythonSoftwareFoundation.Python.3.11_qbz5n2kfra8p0\\LocalCache\\local-packages\\Python311\\site-packages\\statsmodels\\tsa\\base\\tsa_model.py:471: ValueWarning: A date index has been provided, but it has no associated frequency information and so will be ignored when e.g. forecasting.\n",
      "  self._init_dates(dates, freq)\n",
      "C:\\Users\\dinht\\AppData\\Local\\Packages\\PythonSoftwareFoundation.Python.3.11_qbz5n2kfra8p0\\LocalCache\\local-packages\\Python311\\site-packages\\statsmodels\\tsa\\base\\tsa_model.py:834: ValueWarning: No supported index is available. Prediction results will be given with an integer index beginning at `start`.\n",
      "  return get_prediction_index(\n",
      "C:\\Users\\dinht\\AppData\\Local\\Packages\\PythonSoftwareFoundation.Python.3.11_qbz5n2kfra8p0\\LocalCache\\local-packages\\Python311\\site-packages\\statsmodels\\tsa\\base\\tsa_model.py:471: ValueWarning: A date index has been provided, but it has no associated frequency information and so will be ignored when e.g. forecasting.\n",
      "  self._init_dates(dates, freq)\n",
      "C:\\Users\\dinht\\AppData\\Local\\Packages\\PythonSoftwareFoundation.Python.3.11_qbz5n2kfra8p0\\LocalCache\\local-packages\\Python311\\site-packages\\statsmodels\\tsa\\base\\tsa_model.py:834: ValueWarning: No supported index is available. Prediction results will be given with an integer index beginning at `start`.\n",
      "  return get_prediction_index(\n",
      "C:\\Users\\dinht\\AppData\\Local\\Packages\\PythonSoftwareFoundation.Python.3.11_qbz5n2kfra8p0\\LocalCache\\local-packages\\Python311\\site-packages\\statsmodels\\tsa\\base\\tsa_model.py:471: ValueWarning: A date index has been provided, but it has no associated frequency information and so will be ignored when e.g. forecasting.\n",
      "  self._init_dates(dates, freq)\n",
      "C:\\Users\\dinht\\AppData\\Local\\Packages\\PythonSoftwareFoundation.Python.3.11_qbz5n2kfra8p0\\LocalCache\\local-packages\\Python311\\site-packages\\statsmodels\\tsa\\base\\tsa_model.py:834: ValueWarning: No supported index is available. Prediction results will be given with an integer index beginning at `start`.\n",
      "  return get_prediction_index(\n",
      "C:\\Users\\dinht\\AppData\\Local\\Packages\\PythonSoftwareFoundation.Python.3.11_qbz5n2kfra8p0\\LocalCache\\local-packages\\Python311\\site-packages\\statsmodels\\tsa\\base\\tsa_model.py:471: ValueWarning: A date index has been provided, but it has no associated frequency information and so will be ignored when e.g. forecasting.\n",
      "  self._init_dates(dates, freq)\n",
      "C:\\Users\\dinht\\AppData\\Local\\Packages\\PythonSoftwareFoundation.Python.3.11_qbz5n2kfra8p0\\LocalCache\\local-packages\\Python311\\site-packages\\statsmodels\\tsa\\base\\tsa_model.py:834: ValueWarning: No supported index is available. Prediction results will be given with an integer index beginning at `start`.\n",
      "  return get_prediction_index(\n",
      "C:\\Users\\dinht\\AppData\\Local\\Packages\\PythonSoftwareFoundation.Python.3.11_qbz5n2kfra8p0\\LocalCache\\local-packages\\Python311\\site-packages\\statsmodels\\tsa\\base\\tsa_model.py:471: ValueWarning: A date index has been provided, but it has no associated frequency information and so will be ignored when e.g. forecasting.\n",
      "  self._init_dates(dates, freq)\n",
      "C:\\Users\\dinht\\AppData\\Local\\Packages\\PythonSoftwareFoundation.Python.3.11_qbz5n2kfra8p0\\LocalCache\\local-packages\\Python311\\site-packages\\statsmodels\\tsa\\base\\tsa_model.py:834: ValueWarning: No supported index is available. Prediction results will be given with an integer index beginning at `start`.\n",
      "  return get_prediction_index(\n",
      "C:\\Users\\dinht\\AppData\\Local\\Packages\\PythonSoftwareFoundation.Python.3.11_qbz5n2kfra8p0\\LocalCache\\local-packages\\Python311\\site-packages\\statsmodels\\tsa\\base\\tsa_model.py:471: ValueWarning: A date index has been provided, but it has no associated frequency information and so will be ignored when e.g. forecasting.\n",
      "  self._init_dates(dates, freq)\n",
      "C:\\Users\\dinht\\AppData\\Local\\Packages\\PythonSoftwareFoundation.Python.3.11_qbz5n2kfra8p0\\LocalCache\\local-packages\\Python311\\site-packages\\statsmodels\\tsa\\base\\tsa_model.py:834: ValueWarning: No supported index is available. Prediction results will be given with an integer index beginning at `start`.\n",
      "  return get_prediction_index(\n",
      "C:\\Users\\dinht\\AppData\\Local\\Packages\\PythonSoftwareFoundation.Python.3.11_qbz5n2kfra8p0\\LocalCache\\local-packages\\Python311\\site-packages\\statsmodels\\tsa\\base\\tsa_model.py:471: ValueWarning: A date index has been provided, but it has no associated frequency information and so will be ignored when e.g. forecasting.\n",
      "  self._init_dates(dates, freq)\n",
      "C:\\Users\\dinht\\AppData\\Local\\Packages\\PythonSoftwareFoundation.Python.3.11_qbz5n2kfra8p0\\LocalCache\\local-packages\\Python311\\site-packages\\statsmodels\\tsa\\base\\tsa_model.py:834: ValueWarning: No supported index is available. Prediction results will be given with an integer index beginning at `start`.\n",
      "  return get_prediction_index(\n"
     ]
    }
   ],
   "source": [
    "# Train the SES model and tune alpha using the validation dataset\n",
    "best_alpha = None\n",
    "best_mse = np.inf\n",
    "for alpha in np.arange(0.1, 1.0, 0.1):\n",
    "    model = SimpleExpSmoothing(train_data['Price']).fit(smoothing_level=alpha, optimized=False)\n",
    "    y_pred = model.forecast(len(val_data))\n",
    "    mse = mean_squared_error(val_data['Price'], y_pred)\n",
    "    if mse < best_mse:\n",
    "        best_mse = mse\n",
    "        best_alpha = alpha\n",
    "\n",
    "print(\"Best alpha value:\", best_alpha)"
   ]
  },
  {
   "cell_type": "code",
   "execution_count": 8,
   "metadata": {},
   "outputs": [],
   "source": [
    "# Training on the train set and testing on the test set\n",
    "history = train_data.Price.tolist()\n",
    "y_pred = []\n",
    "ytest = np.array(test_data['Price'])\n",
    "\n",
    "for i in test_data.Price:\n",
    "  model = SimpleExpSmoothing(history)\n",
    "  model_fit = model.fit(smoothing_level = best_alpha)\n",
    "  prediction = model_fit.forecast()  \n",
    "  y_pred.append(prediction[0])\n",
    "  history.append(prediction[0])"
   ]
  },
  {
   "cell_type": "code",
   "execution_count": 9,
   "metadata": {},
   "outputs": [],
   "source": [
    "# Using the train set and the test set for training, then predicting on the validation set\n",
    "y_pred_val = []\n",
    "yval = np.array(val_data['Price'])\n",
    "\n",
    "for i in val_data.Price:\n",
    "  model = SimpleExpSmoothing(history)\n",
    "  model_fit = model.fit(smoothing_level = best_alpha)\n",
    "  prediction = model_fit.forecast()  \n",
    "  y_pred_val.append(prediction[0])\n",
    "  history.append(prediction[0])"
   ]
  },
  {
   "cell_type": "code",
   "execution_count": 10,
   "metadata": {},
   "outputs": [
    {
     "name": "stdout",
     "output_type": "stream",
     "text": [
      "Testing RMSE: 85.17272254391182\n",
      "Testing MAE: 62.7588774881455\n",
      "Testing MAPE: 26.270406534282692\n",
      "Validation RMSE: 95.56584087942713\n",
      "Validation MAE: 71.56908509676539\n",
      "Validation MAPE: 29.621130177759802\n"
     ]
    }
   ],
   "source": [
    "# 7. Đánh giá độ chính xác validate, test\n",
    "def mape(actual, predicted):\n",
    "    actual, predicted = np.array(actual), np.array(predicted)\n",
    "    return np.mean(np.abs((actual - predicted) / actual)) * 100\n",
    "\n",
    "# Regression metrics\n",
    "test_rmse = np.sqrt(np.mean((y_pred - ytest)**2))\n",
    "test_mse = mean_squared_error(ytest, y_pred)\n",
    "test_mae = mean_absolute_error(ytest, y_pred)\n",
    "test_mape = mape(ytest, y_pred)\n",
    "\n",
    "valid_rmse = np.sqrt(np.mean((y_pred_val - yval)**2))\n",
    "valid_mse = mean_squared_error(yval, y_pred_val)\n",
    "valid_mae = mean_absolute_error(yval, y_pred_val)\n",
    "valid_mape = mape(yval, y_pred_val)\n",
    "\n",
    "print('Testing RMSE:', test_rmse)\n",
    "# print('Testing MSE:', test_mse)\n",
    "print('Testing MAE:', test_mae)\n",
    "print(\"Testing MAPE:\", test_mape)\n",
    "\n",
    "print('Validation RMSE:', valid_rmse)\n",
    "# print('Validation MSE:', valid_mse)\n",
    "print('Validation MAE:', valid_mae)\n",
    "print(\"Validation MAPE:\", valid_mape)"
   ]
  },
  {
   "cell_type": "code",
   "execution_count": 11,
   "metadata": {},
   "outputs": [
    {
     "name": "stdout",
     "output_type": "stream",
     "text": [
      "Predicted prices for the next 30 days:\n",
      "[134.4756963220878, 134.4756963220878, 134.4756963220878, 134.4756963220878, 134.4756963220878, 134.4756963220878, 134.4756963220878, 134.4756963220878, 134.4756963220878, 134.4756963220878, 134.4756963220878, 134.4756963220878, 134.4756963220878, 134.4756963220878, 134.4756963220878, 134.4756963220878, 134.4756963220878, 134.4756963220878, 134.4756963220878, 134.4756963220878, 134.4756963220878, 134.4756963220878, 134.4756963220878, 134.4756963220878, 134.4756963220878, 134.4756963220878, 134.4756963220878, 134.4756963220878, 134.4756963220878, 134.4756963220878]\n"
     ]
    }
   ],
   "source": [
    "# The process of creating index predict next 30 days\n",
    "\n",
    "# Get the last date from the current index\n",
    "last_date = df.index[-1]\n",
    "\n",
    "# Add one day to the last date\n",
    "next_date = last_date + pd.DateOffset(days=1)\n",
    "\n",
    "# Create a list of indices starting from the next date for 30 days\n",
    "index_next_30_days = pd.date_range(start=next_date, periods=30).tolist()\n",
    "\n",
    "# Predict the closing prices for the next 30 days\n",
    "y_next_30_days = []\n",
    "\n",
    "for i in range(30):\n",
    "  model = SimpleExpSmoothing(history)\n",
    "  model_fit = model.fit(smoothing_level = best_alpha)\n",
    "  prediction = model_fit.forecast()  \n",
    "  y_next_30_days.append(prediction[0])\n",
    "  history.append(prediction[0])\n",
    "\n",
    "# Print the predicted closing prices for the next 30 days\n",
    "print('Predicted prices for the next 30 days:')\n",
    "print(y_next_30_days)"
   ]
  },
  {
   "cell_type": "code",
   "execution_count": 12,
   "metadata": {},
   "outputs": [
    {
     "name": "stdout",
     "output_type": "stream",
     "text": [
      "2023-06-15 00:00:00\n"
     ]
    }
   ],
   "source": [
    "print(last_date)"
   ]
  },
  {
   "cell_type": "code",
   "execution_count": 13,
   "metadata": {},
   "outputs": [
    {
     "data": {
      "image/png": "[encoded data removed]",
      "text/plain": [
       "<Figure size 1000x500 with 1 Axes>"
      ]
     },
     "metadata": {},
     "output_type": "display_data"
    }
   ],
   "source": [
    "# Drawing\n",
    "plt.figure(figsize=(10, 5))\n",
    "plt.plot(df.index[:train_size], train_data)\n",
    "plt.plot(df.index[train_size : train_size + test_size], test_data)\n",
    "plt.plot(df.index[train_size : train_size + test_size], y_pred)\n",
    "plt.plot(df.index[train_size + test_size :], y_pred_val)\n",
    "plt.plot(df.index[train_size + test_size :], val_data)\n",
    "plt.plot(index_next_30_days, y_next_30_days)\n",
    "plt.legend(['Train', 'Test', 'PredictTest', 'PredictValidate', 'Validate', 'Predict30Day'])\n",
    "\n",
    "plt.grid()\n",
    "# plt.savefig('SES_AMD_631.png')\n",
    "plt.show()"
   ]
  },
  {
   "cell_type": "code",
   "execution_count": 14,
   "metadata": {},
   "outputs": [
    {
     "name": "stdout",
     "output_type": "stream",
     "text": [
      "7254.392665542185\n"
     ]
    }
   ],
   "source": [
    "test_mse = mean_squared_error(test_data, y_pred)\n",
    "print(test_mse)"
   ]
  }
 ],
 "metadata": {
  "kernelspec": {
   "display_name": "Python 3",
   "language": "python",
   "name": "python3"
  },
  "language_info": {
   "codemirror_mode": {
    "name": "ipython",
    "version": 3
   },
   "file_extension": ".py",
   "mimetype": "text/x-python",
   "name": "python",
   "nbconvert_exporter": "python",
   "pygments_lexer": "ipython3",
   "version": "3.11.3"
  },
  "orig_nbformat": 4
 },
 "nbformat": 4,
 "nbformat_minor": 2
}
