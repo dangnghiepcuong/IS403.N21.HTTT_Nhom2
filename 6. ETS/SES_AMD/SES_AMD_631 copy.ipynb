{
 "cells": [
  {
   "cell_type": "code",
   "execution_count": 33,
   "metadata": {},
   "outputs": [],
   "source": [
    "import pandas as pd\n",
    "import datetime\n",
    "import numpy as np\n",
    "import matplotlib.dates as mdates\n",
    "from sklearn.model_selection import train_test_split\n",
    "from statsmodels.tsa.api import SimpleExpSmoothing\n",
    "import matplotlib.pyplot as plt\n",
    "from sklearn.metrics import accuracy_score, precision_score, recall_score, f1_score, mean_squared_error, mean_absolute_error"
   ]
  },
  {
   "cell_type": "code",
   "execution_count": 34,
   "metadata": {},
   "outputs": [
    {
     "data": {
      "text/html": [
       "<div>\n",
       "<style scoped>\n",
       "    .dataframe tbody tr th:only-of-type {\n",
       "        vertical-align: middle;\n",
       "    }\n",
       "\n",
       "    .dataframe tbody tr th {\n",
       "        vertical-align: top;\n",
       "    }\n",
       "\n",
       "    .dataframe thead th {\n",
       "        text-align: right;\n",
       "    }\n",
       "</style>\n",
       "<table border=\"1\" class=\"dataframe\">\n",
       "  <thead>\n",
       "    <tr style=\"text-align: right;\">\n",
       "      <th></th>\n",
       "      <th>Date</th>\n",
       "      <th>Price</th>\n",
       "      <th>Open</th>\n",
       "      <th>High</th>\n",
       "      <th>Low</th>\n",
       "      <th>Vol.</th>\n",
       "      <th>Change %</th>\n",
       "    </tr>\n",
       "  </thead>\n",
       "  <tbody>\n",
       "    <tr>\n",
       "      <th>0</th>\n",
       "      <td>1/3/2017</td>\n",
       "      <td>11.43</td>\n",
       "      <td>11.42</td>\n",
       "      <td>11.65</td>\n",
       "      <td>11.02</td>\n",
       "      <td>55.18M</td>\n",
       "      <td>0.79%</td>\n",
       "    </tr>\n",
       "    <tr>\n",
       "      <th>1</th>\n",
       "      <td>1/4/2017</td>\n",
       "      <td>11.43</td>\n",
       "      <td>11.45</td>\n",
       "      <td>11.52</td>\n",
       "      <td>11.23</td>\n",
       "      <td>40.78M</td>\n",
       "      <td>0.00%</td>\n",
       "    </tr>\n",
       "    <tr>\n",
       "      <th>2</th>\n",
       "      <td>1/5/2017</td>\n",
       "      <td>11.24</td>\n",
       "      <td>11.43</td>\n",
       "      <td>11.69</td>\n",
       "      <td>11.23</td>\n",
       "      <td>38.86M</td>\n",
       "      <td>-1.66%</td>\n",
       "    </tr>\n",
       "    <tr>\n",
       "      <th>3</th>\n",
       "      <td>1/6/2017</td>\n",
       "      <td>11.32</td>\n",
       "      <td>11.29</td>\n",
       "      <td>11.49</td>\n",
       "      <td>11.11</td>\n",
       "      <td>34.45M</td>\n",
       "      <td>0.71%</td>\n",
       "    </tr>\n",
       "    <tr>\n",
       "      <th>4</th>\n",
       "      <td>1/9/2017</td>\n",
       "      <td>11.49</td>\n",
       "      <td>11.37</td>\n",
       "      <td>11.64</td>\n",
       "      <td>11.31</td>\n",
       "      <td>37.30M</td>\n",
       "      <td>1.50%</td>\n",
       "    </tr>\n",
       "    <tr>\n",
       "      <th>...</th>\n",
       "      <td>...</td>\n",
       "      <td>...</td>\n",
       "      <td>...</td>\n",
       "      <td>...</td>\n",
       "      <td>...</td>\n",
       "      <td>...</td>\n",
       "      <td>...</td>\n",
       "    </tr>\n",
       "    <tr>\n",
       "      <th>1619</th>\n",
       "      <td>6/9/2023</td>\n",
       "      <td>124.92</td>\n",
       "      <td>123.57</td>\n",
       "      <td>127.25</td>\n",
       "      <td>123.55</td>\n",
       "      <td>75.11M</td>\n",
       "      <td>3.20%</td>\n",
       "    </tr>\n",
       "    <tr>\n",
       "      <th>1620</th>\n",
       "      <td>6/12/2023</td>\n",
       "      <td>129.19</td>\n",
       "      <td>128.52</td>\n",
       "      <td>130.48</td>\n",
       "      <td>126.40</td>\n",
       "      <td>85.22M</td>\n",
       "      <td>3.42%</td>\n",
       "    </tr>\n",
       "    <tr>\n",
       "      <th>1621</th>\n",
       "      <td>6/13/2023</td>\n",
       "      <td>124.53</td>\n",
       "      <td>132.32</td>\n",
       "      <td>132.83</td>\n",
       "      <td>122.45</td>\n",
       "      <td>131.67M</td>\n",
       "      <td>-3.61%</td>\n",
       "    </tr>\n",
       "    <tr>\n",
       "      <th>1622</th>\n",
       "      <td>6/14/2023</td>\n",
       "      <td>127.33</td>\n",
       "      <td>126.53</td>\n",
       "      <td>127.72</td>\n",
       "      <td>123.81</td>\n",
       "      <td>95.24M</td>\n",
       "      <td>2.25%</td>\n",
       "    </tr>\n",
       "    <tr>\n",
       "      <th>1623</th>\n",
       "      <td>6/15/2023</td>\n",
       "      <td>124.24</td>\n",
       "      <td>125.39</td>\n",
       "      <td>125.70</td>\n",
       "      <td>122.26</td>\n",
       "      <td>85.13M</td>\n",
       "      <td>-2.43%</td>\n",
       "    </tr>\n",
       "  </tbody>\n",
       "</table>\n",
       "<p>1624 rows × 7 columns</p>\n",
       "</div>"
      ],
      "text/plain": [
       "           Date   Price    Open    High     Low     Vol. Change %\n",
       "0      1/3/2017   11.43   11.42   11.65   11.02   55.18M    0.79%\n",
       "1      1/4/2017   11.43   11.45   11.52   11.23   40.78M    0.00%\n",
       "2      1/5/2017   11.24   11.43   11.69   11.23   38.86M   -1.66%\n",
       "3      1/6/2017   11.32   11.29   11.49   11.11   34.45M    0.71%\n",
       "4      1/9/2017   11.49   11.37   11.64   11.31   37.30M    1.50%\n",
       "...         ...     ...     ...     ...     ...      ...      ...\n",
       "1619   6/9/2023  124.92  123.57  127.25  123.55   75.11M    3.20%\n",
       "1620  6/12/2023  129.19  128.52  130.48  126.40   85.22M    3.42%\n",
       "1621  6/13/2023  124.53  132.32  132.83  122.45  131.67M   -3.61%\n",
       "1622  6/14/2023  127.33  126.53  127.72  123.81   95.24M    2.25%\n",
       "1623  6/15/2023  124.24  125.39  125.70  122.26   85.13M   -2.43%\n",
       "\n",
       "[1624 rows x 7 columns]"
      ]
     },
     "execution_count": 34,
     "metadata": {},
     "output_type": "execute_result"
    }
   ],
   "source": [
    "df = pd.read_csv('../../Datasets/AMD Historical Data.csv')\n",
    "df"
   ]
  },
  {
   "cell_type": "code",
   "execution_count": 35,
   "metadata": {},
   "outputs": [
    {
     "data": {
      "text/plain": [
       "<bound method DataFrame.info of            Date   Price    Open    High     Low     Vol. Change %\n",
       "0      1/3/2017   11.43   11.42   11.65   11.02   55.18M    0.79%\n",
       "1      1/4/2017   11.43   11.45   11.52   11.23   40.78M    0.00%\n",
       "2      1/5/2017   11.24   11.43   11.69   11.23   38.86M   -1.66%\n",
       "3      1/6/2017   11.32   11.29   11.49   11.11   34.45M    0.71%\n",
       "4      1/9/2017   11.49   11.37   11.64   11.31   37.30M    1.50%\n",
       "...         ...     ...     ...     ...     ...      ...      ...\n",
       "1619   6/9/2023  124.92  123.57  127.25  123.55   75.11M    3.20%\n",
       "1620  6/12/2023  129.19  128.52  130.48  126.40   85.22M    3.42%\n",
       "1621  6/13/2023  124.53  132.32  132.83  122.45  131.67M   -3.61%\n",
       "1622  6/14/2023  127.33  126.53  127.72  123.81   95.24M    2.25%\n",
       "1623  6/15/2023  124.24  125.39  125.70  122.26   85.13M   -2.43%\n",
       "\n",
       "[1624 rows x 7 columns]>"
      ]
     },
     "execution_count": 35,
     "metadata": {},
     "output_type": "execute_result"
    }
   ],
   "source": [
    "df.info"
   ]
  },
  {
   "cell_type": "code",
   "execution_count": 36,
   "metadata": {},
   "outputs": [],
   "source": [
    "# Convert the 'Date' column to datetime format\n",
    "df['Date'] = pd.to_datetime(df['Date'])\n",
    "\n",
    "# Set the 'Date' column as the index value\n",
    "df.set_index('Date', inplace=True)"
   ]
  },
  {
   "cell_type": "code",
   "execution_count": 37,
   "metadata": {},
   "outputs": [
    {
     "name": "stdout",
     "output_type": "stream",
     "text": [
      "DatetimeIndex(['2017-01-03', '2017-01-04', '2017-01-05', '2017-01-06',\n",
      "               '2017-01-09', '2017-01-10', '2017-01-11', '2017-01-12',\n",
      "               '2017-01-13', '2017-01-17',\n",
      "               ...\n",
      "               '2023-06-02', '2023-06-05', '2023-06-06', '2023-06-07',\n",
      "               '2023-06-08', '2023-06-09', '2023-06-12', '2023-06-13',\n",
      "               '2023-06-14', '2023-06-15'],\n",
      "              dtype='datetime64[ns]', name='Date', length=1624, freq=None)\n"
     ]
    }
   ],
   "source": [
    "print(df.index)"
   ]
  },
  {
   "cell_type": "code",
   "execution_count": 38,
   "metadata": {},
   "outputs": [],
   "source": [
    "df = df[['Price']]\n",
    "df = df.dropna() # Drop missing values\n",
    "# df = df.reset_index(drop=True) # Reset the index\n",
    "\n",
    "# Split the data into training, testing, and validation sets\n",
    "train_size = int(0.6 * len(df))\n",
    "test_size = int(0.3 * len(df))\n",
    "val_size = len(df) - train_size - test_size\n",
    "\n",
    "train_data = df[:train_size]\n",
    "test_data = df[train_size:train_size+test_size]\n",
    "val_data = df[train_size+test_size:]"
   ]
  },
  {
   "cell_type": "code",
   "execution_count": 39,
   "metadata": {},
   "outputs": [
    {
     "name": "stdout",
     "output_type": "stream",
     "text": [
      "Best alpha value: 0.9\n"
     ]
    },
    {
     "name": "stderr",
     "output_type": "stream",
     "text": [
      "C:\\Users\\dinht\\AppData\\Local\\Packages\\PythonSoftwareFoundation.Python.3.11_qbz5n2kfra8p0\\LocalCache\\local-packages\\Python311\\site-packages\\statsmodels\\tsa\\base\\tsa_model.py:471: ValueWarning: A date index has been provided, but it has no associated frequency information and so will be ignored when e.g. forecasting.\n",
      "  self._init_dates(dates, freq)\n",
      "C:\\Users\\dinht\\AppData\\Local\\Packages\\PythonSoftwareFoundation.Python.3.11_qbz5n2kfra8p0\\LocalCache\\local-packages\\Python311\\site-packages\\statsmodels\\tsa\\base\\tsa_model.py:834: ValueWarning: No supported index is available. Prediction results will be given with an integer index beginning at `start`.\n",
      "  return get_prediction_index(\n",
      "C:\\Users\\dinht\\AppData\\Local\\Packages\\PythonSoftwareFoundation.Python.3.11_qbz5n2kfra8p0\\LocalCache\\local-packages\\Python311\\site-packages\\statsmodels\\tsa\\base\\tsa_model.py:471: ValueWarning: A date index has been provided, but it has no associated frequency information and so will be ignored when e.g. forecasting.\n",
      "  self._init_dates(dates, freq)\n",
      "C:\\Users\\dinht\\AppData\\Local\\Packages\\PythonSoftwareFoundation.Python.3.11_qbz5n2kfra8p0\\LocalCache\\local-packages\\Python311\\site-packages\\statsmodels\\tsa\\base\\tsa_model.py:834: ValueWarning: No supported index is available. Prediction results will be given with an integer index beginning at `start`.\n",
      "  return get_prediction_index(\n",
      "C:\\Users\\dinht\\AppData\\Local\\Packages\\PythonSoftwareFoundation.Python.3.11_qbz5n2kfra8p0\\LocalCache\\local-packages\\Python311\\site-packages\\statsmodels\\tsa\\base\\tsa_model.py:471: ValueWarning: A date index has been provided, but it has no associated frequency information and so will be ignored when e.g. forecasting.\n",
      "  self._init_dates(dates, freq)\n",
      "C:\\Users\\dinht\\AppData\\Local\\Packages\\PythonSoftwareFoundation.Python.3.11_qbz5n2kfra8p0\\LocalCache\\local-packages\\Python311\\site-packages\\statsmodels\\tsa\\base\\tsa_model.py:834: ValueWarning: No supported index is available. Prediction results will be given with an integer index beginning at `start`.\n",
      "  return get_prediction_index(\n",
      "C:\\Users\\dinht\\AppData\\Local\\Packages\\PythonSoftwareFoundation.Python.3.11_qbz5n2kfra8p0\\LocalCache\\local-packages\\Python311\\site-packages\\statsmodels\\tsa\\base\\tsa_model.py:471: ValueWarning: A date index has been provided, but it has no associated frequency information and so will be ignored when e.g. forecasting.\n",
      "  self._init_dates(dates, freq)\n",
      "C:\\Users\\dinht\\AppData\\Local\\Packages\\PythonSoftwareFoundation.Python.3.11_qbz5n2kfra8p0\\LocalCache\\local-packages\\Python311\\site-packages\\statsmodels\\tsa\\base\\tsa_model.py:834: ValueWarning: No supported index is available. Prediction results will be given with an integer index beginning at `start`.\n",
      "  return get_prediction_index(\n",
      "C:\\Users\\dinht\\AppData\\Local\\Packages\\PythonSoftwareFoundation.Python.3.11_qbz5n2kfra8p0\\LocalCache\\local-packages\\Python311\\site-packages\\statsmodels\\tsa\\base\\tsa_model.py:471: ValueWarning: A date index has been provided, but it has no associated frequency information and so will be ignored when e.g. forecasting.\n",
      "  self._init_dates(dates, freq)\n",
      "C:\\Users\\dinht\\AppData\\Local\\Packages\\PythonSoftwareFoundation.Python.3.11_qbz5n2kfra8p0\\LocalCache\\local-packages\\Python311\\site-packages\\statsmodels\\tsa\\base\\tsa_model.py:834: ValueWarning: No supported index is available. Prediction results will be given with an integer index beginning at `start`.\n",
      "  return get_prediction_index(\n",
      "C:\\Users\\dinht\\AppData\\Local\\Packages\\PythonSoftwareFoundation.Python.3.11_qbz5n2kfra8p0\\LocalCache\\local-packages\\Python311\\site-packages\\statsmodels\\tsa\\base\\tsa_model.py:471: ValueWarning: A date index has been provided, but it has no associated frequency information and so will be ignored when e.g. forecasting.\n",
      "  self._init_dates(dates, freq)\n",
      "C:\\Users\\dinht\\AppData\\Local\\Packages\\PythonSoftwareFoundation.Python.3.11_qbz5n2kfra8p0\\LocalCache\\local-packages\\Python311\\site-packages\\statsmodels\\tsa\\base\\tsa_model.py:834: ValueWarning: No supported index is available. Prediction results will be given with an integer index beginning at `start`.\n",
      "  return get_prediction_index(\n",
      "C:\\Users\\dinht\\AppData\\Local\\Packages\\PythonSoftwareFoundation.Python.3.11_qbz5n2kfra8p0\\LocalCache\\local-packages\\Python311\\site-packages\\statsmodels\\tsa\\base\\tsa_model.py:471: ValueWarning: A date index has been provided, but it has no associated frequency information and so will be ignored when e.g. forecasting.\n",
      "  self._init_dates(dates, freq)\n",
      "C:\\Users\\dinht\\AppData\\Local\\Packages\\PythonSoftwareFoundation.Python.3.11_qbz5n2kfra8p0\\LocalCache\\local-packages\\Python311\\site-packages\\statsmodels\\tsa\\base\\tsa_model.py:834: ValueWarning: No supported index is available. Prediction results will be given with an integer index beginning at `start`.\n",
      "  return get_prediction_index(\n",
      "C:\\Users\\dinht\\AppData\\Local\\Packages\\PythonSoftwareFoundation.Python.3.11_qbz5n2kfra8p0\\LocalCache\\local-packages\\Python311\\site-packages\\statsmodels\\tsa\\base\\tsa_model.py:471: ValueWarning: A date index has been provided, but it has no associated frequency information and so will be ignored when e.g. forecasting.\n",
      "  self._init_dates(dates, freq)\n",
      "C:\\Users\\dinht\\AppData\\Local\\Packages\\PythonSoftwareFoundation.Python.3.11_qbz5n2kfra8p0\\LocalCache\\local-packages\\Python311\\site-packages\\statsmodels\\tsa\\base\\tsa_model.py:834: ValueWarning: No supported index is available. Prediction results will be given with an integer index beginning at `start`.\n",
      "  return get_prediction_index(\n",
      "C:\\Users\\dinht\\AppData\\Local\\Packages\\PythonSoftwareFoundation.Python.3.11_qbz5n2kfra8p0\\LocalCache\\local-packages\\Python311\\site-packages\\statsmodels\\tsa\\base\\tsa_model.py:471: ValueWarning: A date index has been provided, but it has no associated frequency information and so will be ignored when e.g. forecasting.\n",
      "  self._init_dates(dates, freq)\n",
      "C:\\Users\\dinht\\AppData\\Local\\Packages\\PythonSoftwareFoundation.Python.3.11_qbz5n2kfra8p0\\LocalCache\\local-packages\\Python311\\site-packages\\statsmodels\\tsa\\base\\tsa_model.py:834: ValueWarning: No supported index is available. Prediction results will be given with an integer index beginning at `start`.\n",
      "  return get_prediction_index(\n"
     ]
    }
   ],
   "source": [
    "# Train the SES model and tune alpha using the validation dataset\n",
    "best_alpha = None\n",
    "best_mse = np.inf\n",
    "for alpha in np.arange(0.1, 1.0, 0.1):\n",
    "    model = SimpleExpSmoothing(train_data['Price']).fit(smoothing_level=alpha, optimized=False)\n",
    "    y_pred = model.forecast(len(val_data))\n",
    "    mse = mean_squared_error(val_data['Price'], y_pred)\n",
    "    if mse < best_mse:\n",
    "        best_mse = mse\n",
    "        best_alpha = alpha\n",
    "\n",
    "print(\"Best alpha value:\", best_alpha)"
   ]
  },
  {
   "cell_type": "code",
   "execution_count": 40,
   "metadata": {},
   "outputs": [],
   "source": [
    "# Training on the train set and testing on the test set\n",
    "history = train_data.Price.tolist()\n",
    "y_pred = []\n",
    "ytest = np.array(test_data['Price'])\n",
    "\n",
    "for i in test_data.Price:\n",
    "  model = SimpleExpSmoothing(history)\n",
    "  model_fit = model.fit(smoothing_level = best_alpha)\n",
    "  prediction = model_fit.forecast()  \n",
    "  y_pred.append(prediction[0])\n",
    "  history.append(prediction[0])"
   ]
  },
  {
   "cell_type": "code",
   "execution_count": 41,
   "metadata": {},
   "outputs": [],
   "source": [
    "# Using the train set and the test set for training, then predicting on the validation set\n",
    "y_pred_val = []\n",
    "yval = np.array(val_data['Price'])\n",
    "\n",
    "for i in val_data.Price:\n",
    "  model = SimpleExpSmoothing(history)\n",
    "  model_fit = model.fit(smoothing_level = best_alpha)\n",
    "  prediction = model_fit.forecast()  \n",
    "  y_pred_val.append(prediction[0])\n",
    "  history.append(prediction[0])"
   ]
  },
  {
   "cell_type": "code",
   "execution_count": 42,
   "metadata": {},
   "outputs": [
    {
     "name": "stdout",
     "output_type": "stream",
     "text": [
      "Testing RMSE: 27.102931466143428\n",
      "Testing MAE: 19.587232669345898\n",
      "Validation RMSE: 17.6066268136344\n",
      "Validation MAE: 13.917787884448767\n"
     ]
    }
   ],
   "source": [
    "# 7. Đánh giá độ chính xác validate, test\n",
    "def mape(actual, predicted):\n",
    "    actual, predicted = np.array(actual), np.array(predicted)\n",
    "    return np.mean(np.abs((actual - predicted) / actual)) * 100\n",
    "\n",
    "# Regression metrics\n",
    "test_rmse = np.sqrt(np.mean((y_pred - ytest)**2))\n",
    "test_mse = mean_squared_error(ytest, y_pred)\n",
    "test_mae = mean_absolute_error(ytest, y_pred)\n",
    "test_mape = mape(ytest, y_pred)\n",
    "\n",
    "valid_rmse = np.sqrt(np.mean((y_pred_val - yval)**2))\n",
    "valid_mse = mean_squared_error(yval, y_pred_val)\n",
    "valid_mae = mean_absolute_error(yval, y_pred_val)\n",
    "valid_mape = mape(yval, y_pred_val)\n",
    "\n",
    "print('Testing RMSE:', test_rmse)\n",
    "# print('Testing MSE:', test_mse)\n",
    "print('Testing MAE:', test_mae)\n",
    "# print(\"Testing MAPE:\", test_mape)\n",
    "\n",
    "print('Validation RMSE:', valid_rmse)\n",
    "# print('Validation MSE:', valid_mse)\n",
    "print('Validation MAE:', valid_mae)\n",
    "# print(\"Validation MAPE:\", valid_mape)"
   ]
  },
  {
   "cell_type": "code",
   "execution_count": 43,
   "metadata": {},
   "outputs": [
    {
     "name": "stdout",
     "output_type": "stream",
     "text": [
      "Predicted prices for the next 30 days:\n",
      "[81.75647505504962, 81.75647505504962, 81.75647505504962, 81.75647505504962, 81.75647505504962, 81.75647505504962, 81.75647505504962, 81.75647505504962, 81.75647505504962, 81.75647505504962, 81.75647505504962, 81.75647505504962, 81.75647505504962, 81.75647505504962, 81.75647505504962, 81.75647505504962, 81.75647505504962, 81.75647505504962, 81.75647505504962, 81.75647505504962, 81.75647505504962, 81.75647505504962, 81.75647505504962, 81.75647505504962, 81.75647505504962, 81.75647505504962, 81.75647505504962, 81.75647505504962, 81.75647505504962, 81.75647505504962]\n"
     ]
    }
   ],
   "source": [
    "# The process of creating index predict next 30 days\n",
    "\n",
    "# Get the last date from the current index\n",
    "last_date = df.index[-1]\n",
    "\n",
    "# Add one day to the last date\n",
    "next_date = last_date + pd.DateOffset(days=1)\n",
    "\n",
    "# Create a list of indices starting from the next date for 30 days\n",
    "index_next_30_days = pd.date_range(start=next_date, periods=30).tolist()\n",
    "\n",
    "# Predict the closing prices for the next 30 days\n",
    "y_next_30_days = []\n",
    "\n",
    "for i in range(30):\n",
    "  model = SimpleExpSmoothing(history)\n",
    "  model_fit = model.fit(smoothing_level = best_alpha)\n",
    "  prediction = model_fit.forecast()  \n",
    "  y_next_30_days.append(prediction[0])\n",
    "  history.append(prediction[0])\n",
    "\n",
    "# Print the predicted closing prices for the next 30 days\n",
    "print('Predicted prices for the next 30 days:')\n",
    "print(y_next_30_days)"
   ]
  },
  {
   "cell_type": "code",
   "execution_count": 44,
   "metadata": {},
   "outputs": [
    {
     "name": "stdout",
     "output_type": "stream",
     "text": [
      "2023-06-15 00:00:00\n"
     ]
    }
   ],
   "source": [
    "print(last_date)"
   ]
  },
  {
   "cell_type": "code",
   "execution_count": 47,
   "metadata": {},
   "outputs": [
    {
     "data": {
      "image/png": "[encoded data removed]",
      "text/plain": [
       "<Figure size 1000x500 with 1 Axes>"
      ]
     },
     "metadata": {},
     "output_type": "display_data"
    }
   ],
   "source": [
    "# Drawing\n",
    "plt.figure(figsize=(10, 5))\n",
    "plt.plot(df.index[:train_size], train_data)\n",
    "plt.plot(df.index[train_size : train_size + test_size], test_data)\n",
    "plt.plot(df.index[train_size : train_size + test_size], y_pred)\n",
    "plt.plot(df.index[train_size + test_size :], y_pred_val)\n",
    "plt.plot(df.index[train_size + test_size :], val_data)\n",
    "plt.plot(index_next_30_days, y_next_30_days)\n",
    "plt.legend(['Train', 'Test', 'PredictTest', 'PredictValidate', 'Validate', 'Predict30Day'])\n",
    "\n",
    "plt.grid()\n",
    "# plt.savefig('SES_AMD_631.png')\n",
    "plt.show()"
   ]
  },
  {
   "cell_type": "code",
   "execution_count": 46,
   "metadata": {},
   "outputs": [
    {
     "name": "stdout",
     "output_type": "stream",
     "text": [
      "734.5688940584675\n"
     ]
    }
   ],
   "source": [
    "test_mse = mean_squared_error(test_data, y_pred)\n",
    "print(test_mse)"
   ]
  }
 ],
 "metadata": {
  "kernelspec": {
   "display_name": "Python 3",
   "language": "python",
   "name": "python3"
  },
  "language_info": {
   "codemirror_mode": {
    "name": "ipython",
    "version": 3
   },
   "file_extension": ".py",
   "mimetype": "text/x-python",
   "name": "python",
   "nbconvert_exporter": "python",
   "pygments_lexer": "ipython3",
   "version": "3.11.3"
  },
  "orig_nbformat": 4
 },
 "nbformat": 4,
 "nbformat_minor": 2
}
