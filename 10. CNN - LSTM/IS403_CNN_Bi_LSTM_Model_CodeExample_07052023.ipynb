{
  "cells": [
    {
      "cell_type": "code",
      "execution_count": 1,
      "metadata": {
        "colab": {
          "base_uri": "https://localhost:8080/"
        },
        "id": "FMDKda-XIUAK",
        "outputId": "bb6405e8-6784-4f52-9567-6a749efe644c"
      },
      "outputs": [],
      "source": [
        "# 1. Import thư viện cần thiết\n",
        "# from google.colab import drive\n",
        "# drive.mount('/content/drive')\n",
        "import numpy as np\n",
        "import pandas as pd\n",
        "import matplotlib.pyplot as plt\n",
        "from sklearn.preprocessing import MinMaxScaler\n",
        "from keras.models import Sequential\n",
        "from keras.layers import Dense, Dropout, LSTM, Conv1D, MaxPooling1D, Bidirectional"
      ]
    },
    {
      "cell_type": "code",
      "execution_count": 2,
      "metadata": {
        "colab": {
          "base_uri": "https://localhost:8080/"
        },
        "id": "1F5nW2_HDmoP",
        "outputId": "9ceeb9bb-718d-4e4c-9274-e278cdaaa905"
      },
      "outputs": [],
      "source": [
        "# from google.colab import drive\n",
        "# drive.mount('/content/drive')"
      ]
    },
    {
      "cell_type": "code",
      "execution_count": 3,
      "metadata": {
        "id": "aRm9GQ8KJJ5N"
      },
      "outputs": [],
      "source": [
        "# 2. Đọc file csv và gắng index với giá Close\n",
        "# df = pd.read_csv('/content/drive/MyDrive/StockData/AAPL_stock_data.csv')\n",
        "df = pd.read_csv('../Datasets/INTC Historical Data.csv')\n",
        "df1=df.reset_index()['Price']"
      ]
    },
    {
      "cell_type": "code",
      "execution_count": 4,
      "metadata": {
        "id": "RdVpDho2JgL5"
      },
      "outputs": [],
      "source": [
        "# 3. Scaler data\n",
        "scaler=MinMaxScaler(feature_range=(0,1))\n",
        "df1=scaler.fit_transform(np.array(df1).reshape(-1,1))"
      ]
    },
    {
      "cell_type": "code",
      "execution_count": 5,
      "metadata": {
        "id": "B5JXpenzJoR3"
      },
      "outputs": [],
      "source": [
        "# 4. Chia train test\n",
        "train_size = int(0.6 * len(df1))\n",
        "test_size = int(0.2 * len(df1))\n",
        "val_size = len(df1) - train_size - test_size\n",
        "\n",
        "train_data = df1[:train_size]\n",
        "test_data = df1[train_size:train_size+test_size]\n",
        "val_data = df1[train_size+test_size:]"
      ]
    },
    {
      "cell_type": "code",
      "execution_count": 6,
      "metadata": {
        "id": "yJfmuBORLSfC"
      },
      "outputs": [],
      "source": [
        "# 5. Hàm Create Dataset\n",
        "import numpy\n",
        "# convert an array of values into a dataset matrix\n",
        "def create_dataset(dataset, time_step=1):\n",
        "\tdataX, dataY = [], []\n",
        "\tfor i in range(len(dataset)-time_step-1):\n",
        "\t\ta = dataset[i:(i+time_step), 0]   ###i=0, X=0,1,2,3-----99   Y=100 \n",
        "\t\tdataX.append(a)\n",
        "\t\tdataY.append(dataset[i + time_step, 0])\n",
        "\treturn numpy.array(dataX), numpy.array(dataY)"
      ]
    },
    {
      "cell_type": "code",
      "execution_count": 7,
      "metadata": {
        "id": "e81cKq03LXFB"
      },
      "outputs": [],
      "source": [
        "#6. Reshape into X=t,t+1,t+2..t+99 and Y=t+100\n",
        "\n",
        "time_step = 100\n",
        "X_train, y_train = create_dataset(train_data, time_step)\n",
        "X_val, yval = create_dataset(val_data, time_step)\n",
        "X_test, ytest = create_dataset(test_data, time_step)"
      ]
    },
    {
      "cell_type": "code",
      "execution_count": 8,
      "metadata": {
        "id": "RdBVfku7O2qb"
      },
      "outputs": [],
      "source": [
        "# 7. Reshape input to be [samples, time steps, features] which is required for LSTM\n",
        "X_train =X_train.reshape(X_train.shape[0],X_train.shape[1] , 1)\n",
        "X_test = X_test.reshape(X_test.shape[0],X_test.shape[1] , 1)\n",
        "X_val = X_val.reshape(X_val.shape[0],X_val.shape[1] , 1)"
      ]
    },
    {
      "cell_type": "code",
      "execution_count": 9,
      "metadata": {
        "colab": {
          "base_uri": "https://localhost:8080/"
        },
        "id": "sSfxrE7BO9vX",
        "outputId": "4c8c878e-7330-45c2-e191-6042b040d111"
      },
      "outputs": [],
      "source": [
        "# 8. Define LSTM Model\n",
        "# Define the model\n",
        "model = Sequential()\n",
        "\n",
        "# Add a 1D convolutional layer\n",
        "model.add(Conv1D(filters=64, kernel_size=3, activation='relu', input_shape=(100,1)))\n",
        "\n",
        "# Add a max pooling layer\n",
        "model.add(MaxPooling1D(pool_size=2))\n",
        "\n",
        "# Add another 1D convolutional layer\n",
        "model.add(Conv1D(filters=32, kernel_size=3, activation='relu'))\n",
        "\n",
        "# Add a bidirectional LSTM layer\n",
        "model.add(Bidirectional(LSTM(100, activation='relu')))\n",
        "\n",
        "# Add a dense output layer\n",
        "model.add(Dense(1))\n",
        "model.compile(loss='mean_squared_error',optimizer='adam')"
      ]
    },
    {
      "cell_type": "code",
      "execution_count": 10,
      "metadata": {
        "colab": {
          "base_uri": "https://localhost:8080/"
        },
        "id": "zgfeujZSPEKr",
        "outputId": "e8a09bb2-a1a3-468e-bb91-ed6187a8f4e3"
      },
      "outputs": [
        {
          "name": "stdout",
          "output_type": "stream",
          "text": [
            "Epoch 1/100\n",
            "17/17 [==============================] - 3s 71ms/step - loss: 0.1155 - val_loss: 0.0176\n",
            "Epoch 2/100\n",
            "17/17 [==============================] - 1s 58ms/step - loss: 0.0128 - val_loss: 0.0270\n",
            "Epoch 3/100\n",
            "17/17 [==============================] - 1s 57ms/step - loss: 0.0099 - val_loss: 0.0288\n",
            "Epoch 4/100\n",
            "17/17 [==============================] - 1s 59ms/step - loss: 0.0091 - val_loss: 0.0234\n",
            "Epoch 5/100\n",
            "17/17 [==============================] - 1s 60ms/step - loss: 0.0080 - val_loss: 0.0176\n",
            "Epoch 6/100\n",
            "17/17 [==============================] - 1s 60ms/step - loss: 0.0071 - val_loss: 0.0116\n",
            "Epoch 7/100\n",
            "17/17 [==============================] - 1s 60ms/step - loss: 0.0069 - val_loss: 0.0123\n",
            "Epoch 8/100\n",
            "17/17 [==============================] - 1s 65ms/step - loss: 0.0062 - val_loss: 0.0120\n",
            "Epoch 9/100\n",
            "17/17 [==============================] - 1s 66ms/step - loss: 0.0053 - val_loss: 0.0138\n",
            "Epoch 10/100\n",
            "17/17 [==============================] - 1s 64ms/step - loss: 0.0052 - val_loss: 0.0095\n",
            "Epoch 11/100\n",
            "17/17 [==============================] - 1s 64ms/step - loss: 0.0046 - val_loss: 0.0090\n",
            "Epoch 12/100\n",
            "17/17 [==============================] - 1s 62ms/step - loss: 0.0045 - val_loss: 0.0082\n",
            "Epoch 13/100\n",
            "17/17 [==============================] - 1s 60ms/step - loss: 0.0044 - val_loss: 0.0070\n",
            "Epoch 14/100\n",
            "17/17 [==============================] - 1s 60ms/step - loss: 0.0041 - val_loss: 0.0049\n",
            "Epoch 15/100\n",
            "17/17 [==============================] - 1s 61ms/step - loss: 0.0051 - val_loss: 0.0077\n",
            "Epoch 16/100\n",
            "17/17 [==============================] - 1s 63ms/step - loss: 0.0039 - val_loss: 0.0053\n",
            "Epoch 17/100\n",
            "17/17 [==============================] - 1s 61ms/step - loss: 0.0037 - val_loss: 0.0052\n",
            "Epoch 18/100\n",
            "17/17 [==============================] - 1s 61ms/step - loss: 0.0034 - val_loss: 0.0053\n",
            "Epoch 19/100\n",
            "17/17 [==============================] - 1s 62ms/step - loss: 0.0033 - val_loss: 0.0062\n",
            "Epoch 20/100\n",
            "17/17 [==============================] - 1s 61ms/step - loss: 0.0032 - val_loss: 0.0043\n",
            "Epoch 21/100\n",
            "17/17 [==============================] - 1s 63ms/step - loss: 0.0030 - val_loss: 0.0037\n",
            "Epoch 22/100\n",
            "17/17 [==============================] - 1s 65ms/step - loss: 0.0031 - val_loss: 0.0034\n",
            "Epoch 23/100\n",
            "17/17 [==============================] - 1s 65ms/step - loss: 0.0028 - val_loss: 0.0039\n",
            "Epoch 24/100\n",
            "17/17 [==============================] - 1s 63ms/step - loss: 0.0027 - val_loss: 0.0035\n",
            "Epoch 25/100\n",
            "17/17 [==============================] - 1s 63ms/step - loss: 0.0028 - val_loss: 0.0031\n",
            "Epoch 26/100\n",
            "17/17 [==============================] - 1s 66ms/step - loss: 0.0024 - val_loss: 0.0028\n",
            "Epoch 27/100\n",
            "17/17 [==============================] - 1s 65ms/step - loss: 0.0025 - val_loss: 0.0027\n",
            "Epoch 28/100\n",
            "17/17 [==============================] - 1s 63ms/step - loss: 0.0026 - val_loss: 0.0034\n",
            "Epoch 29/100\n",
            "17/17 [==============================] - 1s 63ms/step - loss: 0.0022 - val_loss: 0.0031\n",
            "Epoch 30/100\n",
            "17/17 [==============================] - 1s 64ms/step - loss: 0.0021 - val_loss: 0.0029\n",
            "Epoch 31/100\n",
            "17/17 [==============================] - 1s 63ms/step - loss: 0.0021 - val_loss: 0.0047\n",
            "Epoch 32/100\n",
            "17/17 [==============================] - 1s 66ms/step - loss: 0.0031 - val_loss: 0.0025\n",
            "Epoch 33/100\n",
            "17/17 [==============================] - 1s 64ms/step - loss: 0.0022 - val_loss: 0.0038\n",
            "Epoch 34/100\n",
            "17/17 [==============================] - 1s 66ms/step - loss: 0.0020 - val_loss: 0.0026\n",
            "Epoch 35/100\n",
            "17/17 [==============================] - 1s 63ms/step - loss: 0.0018 - val_loss: 0.0024\n",
            "Epoch 36/100\n",
            "17/17 [==============================] - 1s 65ms/step - loss: 0.0018 - val_loss: 0.0032\n",
            "Epoch 37/100\n",
            "17/17 [==============================] - 1s 64ms/step - loss: 0.0017 - val_loss: 0.0022\n",
            "Epoch 38/100\n",
            "17/17 [==============================] - 1s 64ms/step - loss: 0.0017 - val_loss: 0.0021\n",
            "Epoch 39/100\n",
            "17/17 [==============================] - 1s 64ms/step - loss: 0.0019 - val_loss: 0.0020\n",
            "Epoch 40/100\n",
            "17/17 [==============================] - 1s 63ms/step - loss: 0.0016 - val_loss: 0.0025\n",
            "Epoch 41/100\n",
            "17/17 [==============================] - 1s 62ms/step - loss: 0.0015 - val_loss: 0.0027\n",
            "Epoch 42/100\n",
            "17/17 [==============================] - 1s 62ms/step - loss: 0.0015 - val_loss: 0.0023\n",
            "Epoch 43/100\n",
            "17/17 [==============================] - 1s 67ms/step - loss: 0.0014 - val_loss: 0.0020\n",
            "Epoch 44/100\n",
            "17/17 [==============================] - 1s 65ms/step - loss: 0.0019 - val_loss: 0.0019\n",
            "Epoch 45/100\n",
            "17/17 [==============================] - 1s 64ms/step - loss: 0.0014 - val_loss: 0.0025\n",
            "Epoch 46/100\n",
            "17/17 [==============================] - 1s 62ms/step - loss: 0.0013 - val_loss: 0.0019\n",
            "Epoch 47/100\n",
            "17/17 [==============================] - 1s 64ms/step - loss: 0.0012 - val_loss: 0.0017\n",
            "Epoch 48/100\n",
            "17/17 [==============================] - 1s 63ms/step - loss: 0.0012 - val_loss: 0.0017\n",
            "Epoch 49/100\n",
            "17/17 [==============================] - 1s 64ms/step - loss: 0.0012 - val_loss: 0.0017\n",
            "Epoch 50/100\n",
            "17/17 [==============================] - 1s 65ms/step - loss: 0.0016 - val_loss: 0.0019\n",
            "Epoch 51/100\n",
            "17/17 [==============================] - 1s 64ms/step - loss: 0.0011 - val_loss: 0.0019\n",
            "Epoch 52/100\n",
            "17/17 [==============================] - 1s 62ms/step - loss: 0.0010 - val_loss: 0.0016\n",
            "Epoch 53/100\n",
            "17/17 [==============================] - 1s 66ms/step - loss: 0.0011 - val_loss: 0.0014\n",
            "Epoch 54/100\n",
            "17/17 [==============================] - 1s 64ms/step - loss: 0.0011 - val_loss: 0.0015\n",
            "Epoch 55/100\n",
            "17/17 [==============================] - 1s 65ms/step - loss: 0.0011 - val_loss: 0.0040\n",
            "Epoch 56/100\n",
            "17/17 [==============================] - 1s 64ms/step - loss: 0.0025 - val_loss: 0.0021\n",
            "Epoch 57/100\n",
            "17/17 [==============================] - 1s 65ms/step - loss: 0.0012 - val_loss: 0.0024\n",
            "Epoch 58/100\n",
            "17/17 [==============================] - 1s 64ms/step - loss: 0.0011 - val_loss: 0.0018\n",
            "Epoch 59/100\n",
            "17/17 [==============================] - 1s 63ms/step - loss: 0.0011 - val_loss: 0.0014\n",
            "Epoch 60/100\n",
            "17/17 [==============================] - 1s 65ms/step - loss: 0.0012 - val_loss: 0.0015\n",
            "Epoch 61/100\n",
            "17/17 [==============================] - 1s 65ms/step - loss: 0.0010 - val_loss: 0.0015\n",
            "Epoch 62/100\n",
            "17/17 [==============================] - 1s 65ms/step - loss: 9.5009e-04 - val_loss: 0.0017\n",
            "Epoch 63/100\n",
            "17/17 [==============================] - 1s 64ms/step - loss: 9.5911e-04 - val_loss: 0.0020\n",
            "Epoch 64/100\n",
            "17/17 [==============================] - 1s 66ms/step - loss: 0.0011 - val_loss: 0.0015\n",
            "Epoch 65/100\n",
            "17/17 [==============================] - 1s 65ms/step - loss: 8.9998e-04 - val_loss: 0.0014\n",
            "Epoch 66/100\n",
            "17/17 [==============================] - 1s 64ms/step - loss: 0.0013 - val_loss: 0.0013\n",
            "Epoch 67/100\n",
            "17/17 [==============================] - 1s 62ms/step - loss: 0.0011 - val_loss: 0.0014\n",
            "Epoch 68/100\n",
            "17/17 [==============================] - 1s 65ms/step - loss: 8.8280e-04 - val_loss: 0.0015\n",
            "Epoch 69/100\n",
            "17/17 [==============================] - 1s 64ms/step - loss: 8.7148e-04 - val_loss: 0.0016\n",
            "Epoch 70/100\n",
            "17/17 [==============================] - 1s 65ms/step - loss: 8.7450e-04 - val_loss: 0.0015\n",
            "Epoch 71/100\n",
            "17/17 [==============================] - 1s 65ms/step - loss: 9.2046e-04 - val_loss: 0.0013\n",
            "Epoch 72/100\n",
            "17/17 [==============================] - 1s 66ms/step - loss: 0.0011 - val_loss: 0.0012\n",
            "Epoch 73/100\n",
            "17/17 [==============================] - 1s 65ms/step - loss: 9.0228e-04 - val_loss: 0.0014\n",
            "Epoch 74/100\n",
            "17/17 [==============================] - 1s 64ms/step - loss: 8.5651e-04 - val_loss: 0.0012\n",
            "Epoch 75/100\n",
            "17/17 [==============================] - 1s 66ms/step - loss: 8.9967e-04 - val_loss: 0.0013\n",
            "Epoch 76/100\n",
            "17/17 [==============================] - 1s 66ms/step - loss: 9.6800e-04 - val_loss: 0.0016\n",
            "Epoch 77/100\n",
            "17/17 [==============================] - 1s 65ms/step - loss: 8.6071e-04 - val_loss: 0.0015\n",
            "Epoch 78/100\n",
            "17/17 [==============================] - 1s 64ms/step - loss: 8.5028e-04 - val_loss: 0.0013\n",
            "Epoch 79/100\n",
            "17/17 [==============================] - 1s 63ms/step - loss: 8.5384e-04 - val_loss: 0.0016\n",
            "Epoch 80/100\n",
            "17/17 [==============================] - 1s 62ms/step - loss: 9.4122e-04 - val_loss: 0.0012\n",
            "Epoch 81/100\n",
            "17/17 [==============================] - 1s 66ms/step - loss: 8.4221e-04 - val_loss: 0.0011\n",
            "Epoch 82/100\n",
            "17/17 [==============================] - 1s 65ms/step - loss: 8.7941e-04 - val_loss: 0.0012\n",
            "Epoch 83/100\n",
            "17/17 [==============================] - 1s 65ms/step - loss: 8.3258e-04 - val_loss: 0.0013\n",
            "Epoch 84/100\n",
            "17/17 [==============================] - 1s 65ms/step - loss: 9.0133e-04 - val_loss: 0.0011\n",
            "Epoch 85/100\n",
            "17/17 [==============================] - 1s 64ms/step - loss: 0.0010 - val_loss: 0.0011\n",
            "Epoch 86/100\n",
            "17/17 [==============================] - 1s 63ms/step - loss: 9.1315e-04 - val_loss: 0.0011\n",
            "Epoch 87/100\n",
            "17/17 [==============================] - 1s 64ms/step - loss: 8.6036e-04 - val_loss: 0.0026\n",
            "Epoch 88/100\n",
            "17/17 [==============================] - 1s 63ms/step - loss: 0.0032 - val_loss: 0.0013\n",
            "Epoch 89/100\n",
            "17/17 [==============================] - 1s 63ms/step - loss: 0.0010 - val_loss: 0.0014\n",
            "Epoch 90/100\n",
            "17/17 [==============================] - 1s 64ms/step - loss: 8.9810e-04 - val_loss: 0.0027\n",
            "Epoch 91/100\n",
            "17/17 [==============================] - 1s 64ms/step - loss: 0.0015 - val_loss: 0.0013\n",
            "Epoch 92/100\n",
            "17/17 [==============================] - 1s 62ms/step - loss: 8.9567e-04 - val_loss: 0.0013\n",
            "Epoch 93/100\n",
            "17/17 [==============================] - 1s 64ms/step - loss: 8.5614e-04 - val_loss: 0.0012\n",
            "Epoch 94/100\n",
            "17/17 [==============================] - 1s 62ms/step - loss: 8.2844e-04 - val_loss: 0.0013\n",
            "Epoch 95/100\n",
            "17/17 [==============================] - 1s 63ms/step - loss: 8.2442e-04 - val_loss: 0.0012\n",
            "Epoch 96/100\n",
            "17/17 [==============================] - 1s 63ms/step - loss: 8.5438e-04 - val_loss: 0.0013\n",
            "Epoch 97/100\n",
            "17/17 [==============================] - 1s 64ms/step - loss: 8.1941e-04 - val_loss: 0.0011\n",
            "Epoch 98/100\n",
            "17/17 [==============================] - 1s 62ms/step - loss: 8.8964e-04 - val_loss: 0.0012\n",
            "Epoch 99/100\n",
            "17/17 [==============================] - 1s 64ms/step - loss: 8.0049e-04 - val_loss: 0.0013\n",
            "Epoch 100/100\n",
            "17/17 [==============================] - 1s 63ms/step - loss: 8.2282e-04 - val_loss: 0.0012\n"
          ]
        },
        {
          "data": {
            "text/plain": [
              "<keras.callbacks.History at 0x236220d5db0>"
            ]
          },
          "execution_count": 10,
          "metadata": {},
          "output_type": "execute_result"
        }
      ],
      "source": [
        "# 9. Fit mô hình với dữ liệu train\n",
        "model.fit(X_train,y_train,validation_data=(X_test,ytest),epochs=100,batch_size=64,verbose=1)"
      ]
    },
    {
      "cell_type": "code",
      "execution_count": 11,
      "metadata": {
        "colab": {
          "base_uri": "https://localhost:8080/"
        },
        "id": "Rxx_KQSkQpBG",
        "outputId": "33382994-4fcd-44d8-e718-f2d9eedee428"
      },
      "outputs": [
        {
          "name": "stdout",
          "output_type": "stream",
          "text": [
            "33/33 [==============================] - 0s 8ms/step\n",
            "7/7 [==============================] - 0s 9ms/step\n",
            "2/2 [==============================] - 0s 9ms/step\n"
          ]
        }
      ],
      "source": [
        "# 10. Dự báo dữ liệu test, val\n",
        "train_predict=model.predict(X_train)\n",
        "y_pred=model.predict(X_test)\n",
        "y_pred_val=model.predict(X_val)"
      ]
    },
    {
      "cell_type": "code",
      "execution_count": 12,
      "metadata": {
        "id": "5rwTN10LQ7rj"
      },
      "outputs": [],
      "source": [
        "# 11. Chuẩn hóa dữ liệu y_pred, y_pred_val\n",
        "train_predict=scaler.inverse_transform(train_predict)\n",
        "y_pred=scaler.inverse_transform(y_pred)\n",
        "y_pred_val=scaler.inverse_transform(y_pred_val)"
      ]
    },
    {
      "cell_type": "code",
      "execution_count": 13,
      "metadata": {
        "colab": {
          "base_uri": "https://localhost:8080/"
        },
        "id": "wu_9j94kRonD",
        "outputId": "85717632-b3e0-4016-d4bc-158e774431e7"
      },
      "outputs": [
        {
          "name": "stdout",
          "output_type": "stream",
          "text": [
            "Validation RMSE: 30.680251690542203\n",
            "Testing RMSE: 44.10226309897206\n"
          ]
        }
      ],
      "source": [
        "# 12. Đánh giá độ chính xác thuật toán bằng RMSE\n",
        "valid_rmse = np.sqrt(np.mean((y_pred_val - yval)**2))\n",
        "test_rmse = np.sqrt(np.mean((y_pred - ytest)**2))\n",
        "print('Validation RMSE:', valid_rmse)\n",
        "print('Testing RMSE:', test_rmse)"
      ]
    },
    {
      "cell_type": "code",
      "execution_count": 14,
      "metadata": {
        "colab": {
          "base_uri": "https://localhost:8080/"
        },
        "id": "izQZ1iQyYl6N",
        "outputId": "708db3a0-3183-4f99-dae0-92c27479c105"
      },
      "outputs": [
        {
          "name": "stdout",
          "output_type": "stream",
          "text": [
            "0 day input [0.04200138 0.06380537 0.06105118 0.08790452 0.10121643 0.10420014\n",
            " 0.11361028 0.12370897 0.11957769 0.10787239 0.08974065 0.08078953\n",
            " 0.09915079 0.12324994 0.11521689 0.11016755 0.11911866 0.07482213\n",
            " 0.0700023  0.07711728 0.09570806 0.12141382 0.12439752 0.08698646\n",
            " 0.09524902 0.07665825 0.06495295 0.06655956 0.08377324 0.08583888\n",
            " 0.09065871 0.07574019 0.06219876 0.02662382 0.0130824  0.01629562\n",
            " 0.00550838 0.         0.00068855 0.00986918 0.02983704 0.03442736\n",
            " 0.02501721 0.01445949 0.0247877  0.03534542 0.05324765 0.04705072\n",
            " 0.07137939 0.08056002 0.1211843  0.11269222 0.0977737  0.0817076\n",
            " 0.07413358 0.09478999 0.10236401 0.09823273 0.1007574  0.15193941\n",
            " 0.1650218  0.17833372 0.18338306 0.18820289 0.18200597 0.18154694\n",
            " 0.17489098 0.17098921 0.16341519 0.16593987 0.16043149 0.16616938\n",
            " 0.1590544  0.14344733 0.13679137 0.12393849 0.10924948 0.09134726\n",
            " 0.09524902 0.1138398  0.14138168 0.12393849 0.11177416 0.13197154\n",
            " 0.14551297 0.13977507 0.13472573 0.11934818 0.11636447 0.09088823\n",
            " 0.09295387 0.1124627  0.09915079 0.09111774 0.10970852 0.11544641\n",
            " 0.12347946 0.10580675 0.09410145 0.05737893 0.09410145]\n"
          ]
        },
        {
          "ename": "ValueError",
          "evalue": "cannot reshape array of size 101 into shape (1,100,1)",
          "output_type": "error",
          "traceback": [
            "\u001b[1;31m---------------------------------------------------------------------------\u001b[0m",
            "\u001b[1;31mValueError\u001b[0m                                Traceback (most recent call last)",
            "Cell \u001b[1;32mIn[14], line 20\u001b[0m\n\u001b[0;32m     18\u001b[0m \u001b[39mprint\u001b[39m(\u001b[39m\"\u001b[39m\u001b[39m{}\u001b[39;00m\u001b[39m day input \u001b[39m\u001b[39m{}\u001b[39;00m\u001b[39m\"\u001b[39m\u001b[39m.\u001b[39mformat(i,x_input))\n\u001b[0;32m     19\u001b[0m x_input\u001b[39m=\u001b[39mx_input\u001b[39m.\u001b[39mreshape(\u001b[39m1\u001b[39m,\u001b[39m-\u001b[39m\u001b[39m1\u001b[39m)\n\u001b[1;32m---> 20\u001b[0m x_input \u001b[39m=\u001b[39m x_input\u001b[39m.\u001b[39;49mreshape((\u001b[39m1\u001b[39;49m, n_steps, \u001b[39m1\u001b[39;49m))\n\u001b[0;32m     21\u001b[0m \u001b[39m#print(x_input)\u001b[39;00m\n\u001b[0;32m     22\u001b[0m yhat \u001b[39m=\u001b[39m model\u001b[39m.\u001b[39mpredict(x_input, verbose\u001b[39m=\u001b[39m\u001b[39m0\u001b[39m)\n",
            "\u001b[1;31mValueError\u001b[0m: cannot reshape array of size 101 into shape (1,100,1)"
          ]
        }
      ],
      "source": [
        "# 13. Dự báo 30 ngày tiếp theo\n",
        "x_input=val_data[60:].reshape(1,-1)\n",
        "x_input.shape\n",
        "\n",
        "temp_input=list(x_input)\n",
        "temp_input=temp_input[0].tolist()\n",
        "\n",
        "from numpy import array\n",
        "\n",
        "lst_output=[]\n",
        "n_steps=100\n",
        "i=0\n",
        "while(i<30):\n",
        "    \n",
        "    if(len(temp_input)>100):\n",
        "        #print(temp_input)\n",
        "        x_input=np.array(temp_input[1:])\n",
        "        print(\"{} day input {}\".format(i,x_input))\n",
        "        x_input=x_input.reshape(1,-1)\n",
        "        x_input = x_input.reshape((1, n_steps, 1))\n",
        "        #print(x_input)\n",
        "        yhat = model.predict(x_input, verbose=0)\n",
        "        print(\"{} day output {}\".format(i,yhat))\n",
        "        temp_input.extend(yhat[0].tolist())\n",
        "        temp_input=temp_input[1:]\n",
        "        #print(temp_input)\n",
        "        lst_output.extend(yhat.tolist())\n",
        "        i=i+1\n",
        "    else:\n",
        "        x_input = x_input.reshape((1, n_steps,1))\n",
        "        yhat = model.predict(x_input, verbose=0)\n",
        "        print(yhat[0])\n",
        "        temp_input.extend(yhat[0].tolist())\n",
        "        print(len(temp_input))\n",
        "        lst_output.extend(yhat.tolist())\n",
        "        i=i+1\n"
      ]
    },
    {
      "cell_type": "code",
      "execution_count": null,
      "metadata": {
        "colab": {
          "base_uri": "https://localhost:8080/",
          "height": 430
        },
        "id": "KSa_mX51a654",
        "outputId": "bd1bd651-ed48-43b5-9b38-6417215e18c4"
      },
      "outputs": [
        {
          "data": {
            "image/png": "[encoded data removed]",
            "text/plain": [
              "<Figure size 640x480 with 1 Axes>"
            ]
          },
          "metadata": {},
          "output_type": "display_data"
        }
      ],
      "source": [
        "# 14.Vẽ hình\n",
        "\n",
        "train_data_index = pd.RangeIndex(start=0, stop=train_size, step=1)\n",
        "plt.plot(scaler.inverse_transform(train_data))\n",
        "test_data_index = pd.RangeIndex(start=train_size, stop=train_size+test_size, step=1)\n",
        "plt.plot(test_data_index,scaler.inverse_transform(test_data))\n",
        "test_data_index = pd.RangeIndex(start=train_size+101, stop=train_size+test_size, step=1)\n",
        "plt.plot(test_data_index,(y_pred))\n",
        "val_data_index = pd.RangeIndex(start=train_size+test_size, stop=train_size+test_size+val_size, step=1)\n",
        "plt.plot(val_data_index,scaler.inverse_transform(val_data))\n",
        "val_data_index = pd.RangeIndex(start=train_size+test_size+101, stop=train_size+test_size+val_size, step=1)\n",
        "plt.plot(val_data_index,y_pred_val)\n",
        "prediect_data_index = pd.RangeIndex(start=len(df1)-1, stop=len(df1)+29, step=1)\n",
        "plt.plot(prediect_data_index,scaler.inverse_transform(lst_output))\n",
        "plt.legend(['Train','Test','Predict','Validate','ValidatePred','Predict30days'])\n",
        "plt.show()"
      ]
    }
  ],
  "metadata": {
    "accelerator": "GPU",
    "colab": {
      "gpuType": "A100",
      "machine_shape": "hm",
      "provenance": []
    },
    "gpuClass": "standard",
    "kernelspec": {
      "display_name": "Python 3",
      "name": "python3"
    },
    "language_info": {
      "codemirror_mode": {
        "name": "ipython",
        "version": 3
      },
      "file_extension": ".py",
      "mimetype": "text/x-python",
      "name": "python",
      "nbconvert_exporter": "python",
      "pygments_lexer": "ipython3",
      "version": "3.10.10"
    }
  },
  "nbformat": 4,
  "nbformat_minor": 0
}
