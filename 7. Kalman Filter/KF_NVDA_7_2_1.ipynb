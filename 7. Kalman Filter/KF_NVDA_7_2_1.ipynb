{
  "cells": [
    {
      "cell_type": "code",
      "source": [
        "pip install pykalman"
      ],
      "metadata": {
        "colab": {
          "base_uri": "https://localhost:8080/"
        },
        "id": "Pnn2fSc71rsY",
        "outputId": "96872045-9baa-4b0b-c166-d72ecd12e62e"
      },
      "execution_count": 2,
      "outputs": [
        {
          "output_type": "stream",
          "name": "stdout",
          "text": [
            "Looking in indexes: https://pypi.org/simple, https://us-python.pkg.dev/colab-wheels/public/simple/\n",
            "Collecting pykalman\n",
            "  Downloading pykalman-0.9.5.tar.gz (228 kB)\n",
            "\u001b[2K     \u001b[90m━━━━━━━━━━━━━━━━━━━━━━━━━━━━━━━━━━━━━━━\u001b[0m \u001b[32m228.9/228.9 kB\u001b[0m \u001b[31m5.6 MB/s\u001b[0m eta \u001b[36m0:00:00\u001b[0m\n",
            "\u001b[?25h  Preparing metadata (setup.py) ... \u001b[?25l\u001b[?25hdone\n",
            "Building wheels for collected packages: pykalman\n",
            "  Building wheel for pykalman (setup.py) ... \u001b[?25l\u001b[?25hdone\n",
            "  Created wheel for pykalman: filename=pykalman-0.9.5-py3-none-any.whl size=48442 sha256=eabc8eff3feb65066528ecad53c9f665c77970eb80c76c2cd93743efad588444\n",
            "  Stored in directory: /root/.cache/pip/wheels/76/33/ef/5f332226e13a5089c6dd4b01cc2bcb59491d18f955fa2d3807\n",
            "Successfully built pykalman\n",
            "Installing collected packages: pykalman\n",
            "Successfully installed pykalman-0.9.5\n"
          ]
        }
      ]
    },
    {
      "cell_type": "code",
      "source": [
        "from google.colab import drive\n",
        "drive.mount('/content/drive')"
      ],
      "metadata": {
        "colab": {
          "base_uri": "https://localhost:8080/"
        },
        "id": "e2PAKJ5G1eMA",
        "outputId": "7867b6bb-50bb-4fa8-a336-8a8ca5825480"
      },
      "execution_count": 3,
      "outputs": [
        {
          "output_type": "stream",
          "name": "stdout",
          "text": [
            "Drive already mounted at /content/drive; to attempt to forcibly remount, call drive.mount(\"/content/drive\", force_remount=True).\n"
          ]
        }
      ]
    },
    {
      "cell_type": "code",
      "execution_count": 4,
      "metadata": {
        "id": "ggvNdyd_1ZIA"
      },
      "outputs": [],
      "source": [
        "import numpy as np # linear algebra\n",
        "import pandas as pd # data processing, CSV file I/O (e.g. pd.read_csv)\n",
        "import matplotlib.pyplot as plt\n",
        "from sklearn.decomposition import PCA\n",
        "import seaborn as sns\n",
        "from datetime import datetime as dt, timedelta as td\n",
        "from pykalman import KalmanFilter\n",
        "from sklearn.metrics import mean_absolute_error\n",
        "sns.set()"
      ]
    },
    {
      "cell_type": "code",
      "execution_count": 5,
      "metadata": {
        "id": "Xj2NnM4L1ZIE"
      },
      "outputs": [],
      "source": [
        "# 2. Đọc file csv và gắng index với giá Price\n",
        "df = pd.read_csv('/content/drive/MyDrive/Kalman Filter/NVDA Historical Data.csv')\n",
        "df1=df.reset_index()['Price']"
      ]
    },
    {
      "cell_type": "code",
      "execution_count": 6,
      "metadata": {
        "id": "NE20fwwB1ZIF"
      },
      "outputs": [],
      "source": [
        "# 4. Chia train test\n",
        "train_size = int(0.7 * len(df1))\n",
        "test_size = int(0.2 * len(df1))\n",
        "val_size = len(df1) - train_size - test_size\n",
        "\n",
        "train_data = df1[:train_size]\n",
        "test_data = df1[train_size:train_size+test_size]\n",
        "val_data = df1[train_size+test_size:]"
      ]
    },
    {
      "cell_type": "code",
      "source": [
        "train_data_matrix = np.array(train_data).reshape(-1, 1)\n",
        "test_data_matrix = np.array(test_data).reshape(-1, 1)\n",
        "val_data_matrix = np.array(val_data).reshape(-1, 1)"
      ],
      "metadata": {
        "id": "BHKGTZePKrAF"
      },
      "execution_count": 7,
      "outputs": []
    },
    {
      "cell_type": "code",
      "execution_count": 8,
      "metadata": {
        "id": "hd7kWNZ21ZIG"
      },
      "outputs": [],
      "source": [
        "# Xây dựng mô hình Kalman\n",
        "# kf = KalmanFilter(k_endog=1, k_states=1)\n",
        "kf = KalmanFilter(n_dim_obs=1, n_dim_state=1, initial_state_mean=train_data_matrix[0],\n",
        "                  initial_state_covariance=np.eye(1),\n",
        "                  transition_matrices=np.eye(1),\n",
        "                  observation_matrices=np.eye(1),\n",
        "                  observation_covariance=np.eye(1),\n",
        "                  transition_covariance=np.eye(1))\n",
        "\n",
        "# kf = KalmanFilter(initial_state_mean=train_data[0],\n",
        "#                   initial_state_covariance=1,\n",
        "#                   observation_covariance=1,\n",
        "#                   transition_covariance=0.01)"
      ]
    },
    {
      "cell_type": "code",
      "source": [
        "# Huấn luyện mô hình Kalman trên tập dữ liệu huấn luyện\n",
        "kf.em(train_data_matrix, n_iter=10)"
      ],
      "metadata": {
        "colab": {
          "base_uri": "https://localhost:8080/"
        },
        "id": "fMPm4JwwIli9",
        "outputId": "903c0074-5657-471f-c64d-41b0b6d315c8"
      },
      "execution_count": 9,
      "outputs": [
        {
          "output_type": "execute_result",
          "data": {
            "text/plain": [
              "<pykalman.standard.KalmanFilter at 0x7fa86bc84910>"
            ]
          },
          "metadata": {},
          "execution_count": 9
        }
      ]
    },
    {
      "cell_type": "code",
      "source": [
        "# Dự đoán trên tập kiểm tra và tập validation\n",
        "# train_pred, train_cov = kf.filter(train_data_matrix)\n",
        "test_pred, test_cov = kf.filter(test_data_matrix)\n",
        "val_pred, val_cov = kf.filter(val_data_matrix)"
      ],
      "metadata": {
        "id": "V6gmcQW8Io12"
      },
      "execution_count": 10,
      "outputs": []
    },
    {
      "cell_type": "code",
      "source": [
        "# Đánh giá độ chính xác thuật toán bằng RMSE, MAE\n",
        "valid_rmse = np.sqrt(np.mean((val_pred - val_data_matrix)**2))\n",
        "test_rmse = np.sqrt(np.mean((test_pred - test_data_matrix)**2))\n",
        "\n",
        "valid_mae = mean_absolute_error(val_data_matrix, val_pred)\n",
        "test_mae = mean_absolute_error(test_data_matrix, test_pred)\n",
        "\n",
        "print('Validation RMSE:', valid_rmse)\n",
        "print('Validation MAE:', valid_mae)\n",
        "\n",
        "print('Testing RMSE:', test_rmse)\n",
        "print('Testing MAE:', test_mae)"
      ],
      "metadata": {
        "colab": {
          "base_uri": "https://localhost:8080/"
        },
        "id": "Z9-YMRK5Ij9m",
        "outputId": "143b7ace-9091-48bd-97a1-6a1e095ef600"
      },
      "execution_count": 11,
      "outputs": [
        {
          "output_type": "stream",
          "name": "stdout",
          "text": [
            "Validation RMSE: 8.098172015092292\n",
            "Validation MAE: 1.815034021379318\n",
            "Testing RMSE: 8.86265671422931\n",
            "Testing MAE: 1.792208478724467\n"
          ]
        }
      ]
    },
    {
      "cell_type": "code",
      "source": [
        "# Dự đoán giá cổ phiếu của 30 ngày tiếp theo\n",
        "last_observation = val_data_matrix[-1]\n",
        "predicted_means, predicted_covs = kf.filter(np.repeat(last_observation, 30, axis=0))\n",
        "\n",
        "# Trích xuất giá dự đoán từ các trạng thái dự báo\n",
        "predicted_prices = predicted_means.flatten()"
      ],
      "metadata": {
        "id": "dGzAvoautyyt"
      },
      "execution_count": 12,
      "outputs": []
    },
    {
      "cell_type": "code",
      "source": [
        "last_observation"
      ],
      "metadata": {
        "colab": {
          "base_uri": "https://localhost:8080/"
        },
        "id": "aJDy6mqTxgDr",
        "outputId": "e721419c-6e6b-4239-8319-d503a6cfa00a"
      },
      "execution_count": 13,
      "outputs": [
        {
          "output_type": "execute_result",
          "data": {
            "text/plain": [
              "array([389.46])"
            ]
          },
          "metadata": {},
          "execution_count": 13
        }
      ]
    },
    {
      "cell_type": "code",
      "source": [
        "predicted_prices"
      ],
      "metadata": {
        "colab": {
          "base_uri": "https://localhost:8080/"
        },
        "id": "BvCGUAGYu_it",
        "outputId": "3a77a4df-9487-4bfa-ce02-4fe221fd6edc"
      },
      "execution_count": 14,
      "outputs": [
        {
          "output_type": "execute_result",
          "data": {
            "text/plain": [
              "array([ 53.11126633, 314.80562264, 375.12511606, 386.72319662,\n",
              "       388.93760138, 389.36028577, 389.44096679, 389.45636699,\n",
              "       389.45930654, 389.45986763, 389.45997473, 389.45999518,\n",
              "       389.45999908, 389.45999982, 389.45999997, 389.45999999,\n",
              "       389.46      , 389.46      , 389.46      , 389.46      ,\n",
              "       389.46      , 389.46      , 389.46      , 389.46      ,\n",
              "       389.46      , 389.46      , 389.46      , 389.46      ,\n",
              "       389.46      , 389.46      ])"
            ]
          },
          "metadata": {},
          "execution_count": 14
        }
      ]
    },
    {
      "cell_type": "code",
      "source": [
        "# 14.Vẽ hình\n",
        "print('Validation RMSE:', valid_rmse)\n",
        "print('Validation MAE:', valid_mae)\n",
        "\n",
        "print('Testing RMSE:', test_rmse)\n",
        "print('Testing MAE:', test_mae)\n",
        "train_data_index = pd.RangeIndex(start=0, stop=train_size, step=1)\n",
        "plt.plot(train_data)\n",
        "\n",
        "test_data_index = pd.RangeIndex(start=train_size, stop=train_size+test_size, step=1)\n",
        "plt.plot(test_data_index,test_data)\n",
        "\n",
        "test_data_index = pd.RangeIndex(start=train_size, stop=train_size+test_size, step=1)\n",
        "plt.plot(test_data_index,test_pred)\n",
        "\n",
        "val_data_index = pd.RangeIndex(start=train_size+test_size, stop=train_size+test_size+val_size, step=1)\n",
        "plt.plot(val_data_index,val_data)\n",
        "\n",
        "val_data_index = pd.RangeIndex(start=train_size+test_size, stop=train_size+test_size+val_size, step=1)\n",
        "plt.plot(val_data_index,val_pred)\n",
        "\n",
        "prediect_data_index = pd.RangeIndex(start=len(df1)-1, stop=len(df1)+29, step=1)\n",
        "plt.plot(prediect_data_index,predicted_prices)\n",
        "\n",
        "plt.legend(['Train','Test','Predict','Validate','ValidatePred','Predict30days'])\n",
        "plt.show()"
      ],
      "metadata": {
        "colab": {
          "base_uri": "https://localhost:8080/",
          "height": 503
        },
        "id": "fUamJE3VPwwy",
        "outputId": "1a0a82a8-4812-4e18-fb4d-21fc02a5cc81"
      },
      "execution_count": 15,
      "outputs": [
        {
          "output_type": "stream",
          "name": "stdout",
          "text": [
            "Validation RMSE: 8.098172015092292\n",
            "Validation MAE: 1.815034021379318\n",
            "Testing RMSE: 8.86265671422931\n",
            "Testing MAE: 1.792208478724467\n"
          ]
        },
        {
          "output_type": "display_data",
          "data": {
            "text/plain": [
              "<Figure size 640x480 with 1 Axes>"
            ],
            "image/png": "[encoded data removed]"
          },
          "metadata": {}
        }
      ]
    },
    {
      "cell_type": "markdown",
      "source": [
        "Giá trị của predicted_prices có xu hướng chạy về giá trị cuối cùng trong tập validation (last_observation) là do tính chất của mô hình Kalman Filter.\n",
        "\n",
        "Kalman Filter là một mô hình dự đoán trạng thái, nghĩa là nó dự đoán giá trị của một biến không quan sát được (trạng thái) dựa trên các biến quan sát được (giá cổ phiếu) và các thông tin thêm về quá trình chuyển động của biến không quan sát được đó. Trong quá trình dự đoán, Kalman Filter sử dụng các thông tin về trạng thái trước đó để cập nhật và dự đoán trạng thái hiện tại.\n",
        "\n",
        "Khi dự đoán giá cổ phiếu của 30 ngày tiếp theo, mô hình Kalman Filter sẽ sử dụng giá trị cuối cùng trong tập validation (last_observation) làm giá trị ban đầu và tính toán kì vọng của giá cổ phiếutrong 30 ngày tiếp theo dựa trên mô hình Kalman Filter đã được huấn luyện trên tập train và các thông tin về quá trình chuyển động của giá cổ phiếu.\n",
        "\n",
        "Do đó, nếu giá trị cuối cùng trong tập validation là giá trị gần với trung bình của giá cổ phiếu trong tập train, thì các giá trị dự đoán của Kalman Filter trong 30 ngày tiếp theo sẽ có xu hướng chạy về giá trị cuối cùng trong tập validation. Điều này là do mô hình Kalman Filter cần thời gian để thích nghi với các thay đổi của quá trình chuyển động của giá cổ phiếu, và giá trị cuối cùng trong tập validation có thể được coi như một giá trị ước tính tốt nhất cho giá trị ban đầu của mô hình Kalman Filter."
      ],
      "metadata": {
        "id": "YxlaRQb4z9WK"
      }
    }
  ],
  "metadata": {
    "kernelspec": {
      "display_name": "Python 3",
      "language": "python",
      "name": "python3"
    },
    "language_info": {
      "codemirror_mode": {
        "name": "ipython",
        "version": 3
      },
      "file_extension": ".py",
      "mimetype": "text/x-python",
      "name": "python",
      "nbconvert_exporter": "python",
      "pygments_lexer": "ipython3",
      "version": "3.11.3"
    },
    "orig_nbformat": 4,
    "colab": {
      "provenance": []
    }
  },
  "nbformat": 4,
  "nbformat_minor": 0
}