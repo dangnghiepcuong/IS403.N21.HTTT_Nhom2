{
  "cells": [
    {
      "cell_type": "code",
      "execution_count": 1,
      "metadata": {
        "colab": {
          "base_uri": "https://localhost:8080/"
        },
        "id": "0j3OnoRrzDJJ",
        "outputId": "9317f5ad-4182-4054-c917-a0dd72a08922"
      },
      "outputs": [
        {
          "output_type": "stream",
          "name": "stdout",
          "text": [
            "Drive already mounted at /content/drive; to attempt to forcibly remount, call drive.mount(\"/content/drive\", force_remount=True).\n"
          ]
        }
      ],
      "source": [
        "from google.colab import drive\n",
        "drive.mount('/content/drive')"
      ]
    },
    {
      "cell_type": "markdown",
      "source": [
        "# 1. Import thư viện cần thiết"
      ],
      "metadata": {
        "id": "FthzMWPijOGI"
      }
    },
    {
      "cell_type": "code",
      "execution_count": 2,
      "metadata": {
        "id": "FMDKda-XIUAK"
      },
      "outputs": [],
      "source": [
        "import numpy as np\n",
        "import pandas as pd\n",
        "import matplotlib.pyplot as plt\n",
        "from sklearn.preprocessing import MinMaxScaler\n",
        "from keras.models import Sequential\n",
        "from keras.layers import Dense, GRU\n",
        "from sklearn.metrics import mean_absolute_error\n"
      ]
    },
    {
      "cell_type": "markdown",
      "source": [
        "# 2. Đọc file csv và gắng index với giá Close"
      ],
      "metadata": {
        "id": "aIzAfBVZjMpH"
      }
    },
    {
      "cell_type": "code",
      "execution_count": 3,
      "metadata": {
        "colab": {
          "base_uri": "https://localhost:8080/"
        },
        "id": "aRm9GQ8KJJ5N",
        "outputId": "0f87302a-c48f-48fb-e9bf-f04297d33285"
      },
      "outputs": [
        {
          "output_type": "execute_result",
          "data": {
            "text/plain": [
              "1624"
            ]
          },
          "metadata": {},
          "execution_count": 3
        }
      ],
      "source": [
        "df = pd.read_csv('/content/drive/MyDrive/Colab Notebooks/Data_Analyst/Datasets/AMD Historical Data.csv')\n",
        "df1=df.reset_index()['Price']\n",
        "len(df)"
      ]
    },
    {
      "cell_type": "markdown",
      "source": [
        "# 3.Scaler data"
      ],
      "metadata": {
        "id": "aZTCMdxajKyu"
      }
    },
    {
      "cell_type": "code",
      "execution_count": 4,
      "metadata": {
        "id": "RdVpDho2JgL5"
      },
      "outputs": [],
      "source": [
        "scaler=MinMaxScaler(feature_range=(0,1))\n",
        "df1=scaler.fit_transform(np.array(df1).reshape(-1,1))"
      ]
    },
    {
      "cell_type": "markdown",
      "source": [
        "# 4. Chia train test"
      ],
      "metadata": {
        "id": "1HL8HC-djJTF"
      }
    },
    {
      "cell_type": "code",
      "execution_count": 5,
      "metadata": {
        "id": "B5JXpenzJoR3"
      },
      "outputs": [],
      "source": [
        "train_size = int(0.7 * len(df1))\n",
        "test_size = int(0.2 * len(df1))\n",
        "val_size = len(df1) - train_size - test_size\n",
        "\n",
        "train_data = df1[:train_size]\n",
        "test_data = df1[train_size:train_size+test_size]\n",
        "val_data = df1[train_size+test_size:]"
      ]
    },
    {
      "cell_type": "code",
      "execution_count": 6,
      "metadata": {
        "colab": {
          "base_uri": "https://localhost:8080/"
        },
        "id": "DxxtN4dAzszU",
        "outputId": "3650eba2-3527-4ce3-de98-a3106c1ac753"
      },
      "outputs": [
        {
          "output_type": "stream",
          "name": "stdout",
          "text": [
            "1136 324 164\n"
          ]
        }
      ],
      "source": [
        "print(train_size, test_size, val_size)"
      ]
    },
    {
      "cell_type": "markdown",
      "source": [
        "# 5.Hàm Create Dataset"
      ],
      "metadata": {
        "id": "Y_thHQcWjHwI"
      }
    },
    {
      "cell_type": "code",
      "source": [
        "# 5. Hàm Create Dataset\n",
        "import numpy\n",
        "# convert an array of values into a dataset matrix\n",
        "def create_dataset(dataset, time_step=1):\n",
        "\tdataX, dataY = [], []\n",
        "\tfor i in range(len(dataset)-time_step):\n",
        "\t\ta = dataset[i:(i+time_step), 0]   ###i=0, X=0,1,2,3-----99   Y=100\n",
        "\t\tdataX.append(a)\n",
        "\t\tdataY.append(dataset[i + time_step, 0])\n",
        "\treturn numpy.array(dataX), numpy.array(dataY)"
      ],
      "metadata": {
        "id": "XoWxn4r_jnJ-"
      },
      "execution_count": 7,
      "outputs": []
    },
    {
      "cell_type": "code",
      "execution_count": 8,
      "metadata": {
        "id": "yJfmuBORLSfC"
      },
      "outputs": [],
      "source": [
        "# import numpy\n",
        "# # convert an array of values into a dataset matrix\n",
        "# def create_dataset(dataset, time_step=1):\n",
        "# \tdataX, dataY = [], []\n",
        "# \tfor i in range(len(dataset)-time_step-1):\n",
        "# \t\ta = dataset[i:(i+time_step), 0]   ###i=0, X=0,1,2,3-----99   Y=100\n",
        "# \t\tdataX.append(a)\n",
        "# \t\tdataY.append(dataset[i + time_step, 0])\n",
        "# \treturn numpy.array(dataX), numpy.array(dataY)"
      ]
    },
    {
      "cell_type": "markdown",
      "source": [
        "#6.Reshape into X=t,t+1,t+2..t+99 and Y=t+100"
      ],
      "metadata": {
        "id": "SrozGSHwjFur"
      }
    },
    {
      "cell_type": "code",
      "source": [
        "#6. Reshape into X=t,t+1,t+2..t+99 and Y=t+100\n",
        "time_step = 100\n",
        "X, y = create_dataset(df1, time_step)\n",
        "\n",
        "X_train = X[:train_size-100]\n",
        "X_test = X[train_size-100:train_size-100+test_size]\n",
        "X_val = X[train_size-100+test_size:]\n",
        "\n",
        "y_train = y[:train_size-100]\n",
        "ytest = y[train_size-100:train_size-100+test_size]\n",
        "yval = y[train_size+test_size-100:]"
      ],
      "metadata": {
        "id": "_fFsNvyakn3a"
      },
      "execution_count": 9,
      "outputs": []
    },
    {
      "cell_type": "code",
      "execution_count": 10,
      "metadata": {
        "id": "e81cKq03LXFB"
      },
      "outputs": [],
      "source": [
        "# time_step = 100\n",
        "# X_train, y_train = create_dataset(train_data, time_step)\n",
        "# X_val, yval = create_dataset(val_data, time_step)\n",
        "# X_test, ytest = create_dataset(test_data, time_step)"
      ]
    },
    {
      "cell_type": "markdown",
      "source": [
        "# 7. Reshape input to be [samples, time steps, features] which is required for LSTM"
      ],
      "metadata": {
        "id": "tVQeTl6-jDq7"
      }
    },
    {
      "cell_type": "code",
      "execution_count": 11,
      "metadata": {
        "id": "RdBVfku7O2qb"
      },
      "outputs": [],
      "source": [
        "X_train =X_train.reshape(X_train.shape[0],X_train.shape[1] , 1)\n",
        "X_test = X_test.reshape(X_test.shape[0],X_test.shape[1] , 1)\n",
        "X_val = X_val.reshape(X_val.shape[0],X_val.shape[1] , 1)"
      ]
    },
    {
      "cell_type": "markdown",
      "source": [
        "# 8. Define GRU Model"
      ],
      "metadata": {
        "id": "AsApbD63jAGx"
      }
    },
    {
      "cell_type": "code",
      "execution_count": 12,
      "metadata": {
        "id": "sSfxrE7BO9vX"
      },
      "outputs": [],
      "source": [
        "model = Sequential()\n",
        "model.add(GRU(64, input_shape=(time_step, 1)))\n",
        "model.add(Dense(1))\n",
        "model.compile(optimizer='adam', loss='mean_squared_error')"
      ]
    },
    {
      "cell_type": "markdown",
      "source": [
        "# 9. Fit mô hình với dữ liệu train"
      ],
      "metadata": {
        "id": "AxvWSkzGi7LA"
      }
    },
    {
      "cell_type": "code",
      "execution_count": 13,
      "metadata": {
        "colab": {
          "base_uri": "https://localhost:8080/"
        },
        "id": "zgfeujZSPEKr",
        "outputId": "bbf3c5ea-5053-4bce-f583-df43a37626d0"
      },
      "outputs": [
        {
          "output_type": "stream",
          "name": "stdout",
          "text": [
            "Epoch 1/100\n",
            "17/17 [==============================] - 6s 138ms/step - loss: 0.0285 - val_loss: 0.0154\n",
            "Epoch 2/100\n",
            "17/17 [==============================] - 1s 68ms/step - loss: 0.0055 - val_loss: 0.0113\n",
            "Epoch 3/100\n",
            "17/17 [==============================] - 1s 88ms/step - loss: 6.4539e-04 - val_loss: 0.0038\n",
            "Epoch 4/100\n",
            "17/17 [==============================] - 1s 70ms/step - loss: 3.1547e-04 - val_loss: 0.0018\n",
            "Epoch 5/100\n",
            "17/17 [==============================] - 1s 84ms/step - loss: 2.2618e-04 - val_loss: 0.0015\n",
            "Epoch 6/100\n",
            "17/17 [==============================] - 2s 94ms/step - loss: 2.0431e-04 - val_loss: 0.0015\n",
            "Epoch 7/100\n",
            "17/17 [==============================] - 2s 115ms/step - loss: 1.9916e-04 - val_loss: 0.0015\n",
            "Epoch 8/100\n",
            "17/17 [==============================] - 2s 94ms/step - loss: 1.9809e-04 - val_loss: 0.0015\n",
            "Epoch 9/100\n",
            "17/17 [==============================] - 1s 79ms/step - loss: 1.9424e-04 - val_loss: 0.0013\n",
            "Epoch 10/100\n",
            "17/17 [==============================] - 1s 39ms/step - loss: 1.8988e-04 - val_loss: 0.0013\n",
            "Epoch 11/100\n",
            "17/17 [==============================] - 1s 38ms/step - loss: 1.8683e-04 - val_loss: 0.0013\n",
            "Epoch 12/100\n",
            "17/17 [==============================] - 1s 38ms/step - loss: 1.8695e-04 - val_loss: 0.0012\n",
            "Epoch 13/100\n",
            "17/17 [==============================] - 1s 39ms/step - loss: 1.8283e-04 - val_loss: 0.0012\n",
            "Epoch 14/100\n",
            "17/17 [==============================] - 1s 38ms/step - loss: 1.7924e-04 - val_loss: 0.0012\n",
            "Epoch 15/100\n",
            "17/17 [==============================] - 1s 37ms/step - loss: 1.9736e-04 - val_loss: 0.0012\n",
            "Epoch 16/100\n",
            "17/17 [==============================] - 1s 38ms/step - loss: 1.9624e-04 - val_loss: 0.0011\n",
            "Epoch 17/100\n",
            "17/17 [==============================] - 1s 37ms/step - loss: 1.7656e-04 - val_loss: 0.0011\n",
            "Epoch 18/100\n",
            "17/17 [==============================] - 1s 37ms/step - loss: 1.6905e-04 - val_loss: 0.0011\n",
            "Epoch 19/100\n",
            "17/17 [==============================] - 1s 37ms/step - loss: 1.6929e-04 - val_loss: 0.0011\n",
            "Epoch 20/100\n",
            "17/17 [==============================] - 1s 37ms/step - loss: 1.6381e-04 - val_loss: 0.0011\n",
            "Epoch 21/100\n",
            "17/17 [==============================] - 1s 38ms/step - loss: 1.6660e-04 - val_loss: 0.0011\n",
            "Epoch 22/100\n",
            "17/17 [==============================] - 1s 40ms/step - loss: 1.6019e-04 - val_loss: 0.0010\n",
            "Epoch 23/100\n",
            "17/17 [==============================] - 1s 58ms/step - loss: 1.6295e-04 - val_loss: 0.0010\n",
            "Epoch 24/100\n",
            "17/17 [==============================] - 1s 60ms/step - loss: 1.6027e-04 - val_loss: 0.0010\n",
            "Epoch 25/100\n",
            "17/17 [==============================] - 1s 63ms/step - loss: 1.5810e-04 - val_loss: 0.0010\n",
            "Epoch 26/100\n",
            "17/17 [==============================] - 1s 49ms/step - loss: 1.5559e-04 - val_loss: 9.8731e-04\n",
            "Epoch 27/100\n",
            "17/17 [==============================] - 1s 38ms/step - loss: 1.5211e-04 - val_loss: 9.8143e-04\n",
            "Epoch 28/100\n",
            "17/17 [==============================] - 1s 37ms/step - loss: 1.6160e-04 - val_loss: 9.7287e-04\n",
            "Epoch 29/100\n",
            "17/17 [==============================] - 1s 38ms/step - loss: 1.4951e-04 - val_loss: 9.5766e-04\n",
            "Epoch 30/100\n",
            "17/17 [==============================] - 1s 37ms/step - loss: 1.4616e-04 - val_loss: 9.5782e-04\n",
            "Epoch 31/100\n",
            "17/17 [==============================] - 1s 37ms/step - loss: 1.4556e-04 - val_loss: 9.4118e-04\n",
            "Epoch 32/100\n",
            "17/17 [==============================] - 1s 37ms/step - loss: 1.4930e-04 - val_loss: 0.0011\n",
            "Epoch 33/100\n",
            "17/17 [==============================] - 1s 38ms/step - loss: 1.4987e-04 - val_loss: 9.2538e-04\n",
            "Epoch 34/100\n",
            "17/17 [==============================] - 1s 37ms/step - loss: 1.4599e-04 - val_loss: 9.2022e-04\n",
            "Epoch 35/100\n",
            "17/17 [==============================] - 1s 38ms/step - loss: 1.4267e-04 - val_loss: 9.1988e-04\n",
            "Epoch 36/100\n",
            "17/17 [==============================] - 1s 39ms/step - loss: 1.3860e-04 - val_loss: 9.6922e-04\n",
            "Epoch 37/100\n",
            "17/17 [==============================] - 1s 38ms/step - loss: 1.4428e-04 - val_loss: 9.2842e-04\n",
            "Epoch 38/100\n",
            "17/17 [==============================] - 1s 38ms/step - loss: 1.4376e-04 - val_loss: 9.0266e-04\n",
            "Epoch 39/100\n",
            "17/17 [==============================] - 1s 40ms/step - loss: 1.4125e-04 - val_loss: 9.0111e-04\n",
            "Epoch 40/100\n",
            "17/17 [==============================] - 1s 39ms/step - loss: 1.3617e-04 - val_loss: 9.5613e-04\n",
            "Epoch 41/100\n",
            "17/17 [==============================] - 1s 37ms/step - loss: 1.4873e-04 - val_loss: 9.4655e-04\n",
            "Epoch 42/100\n",
            "17/17 [==============================] - 1s 59ms/step - loss: 1.5559e-04 - val_loss: 8.7545e-04\n",
            "Epoch 43/100\n",
            "17/17 [==============================] - 1s 60ms/step - loss: 1.3382e-04 - val_loss: 8.6531e-04\n",
            "Epoch 44/100\n",
            "17/17 [==============================] - 1s 57ms/step - loss: 1.3105e-04 - val_loss: 8.8499e-04\n",
            "Epoch 45/100\n",
            "17/17 [==============================] - 1s 56ms/step - loss: 1.2991e-04 - val_loss: 8.6208e-04\n",
            "Epoch 46/100\n",
            "17/17 [==============================] - 1s 36ms/step - loss: 1.2878e-04 - val_loss: 9.0630e-04\n",
            "Epoch 47/100\n",
            "17/17 [==============================] - 1s 38ms/step - loss: 1.2854e-04 - val_loss: 8.4405e-04\n",
            "Epoch 48/100\n",
            "17/17 [==============================] - 1s 37ms/step - loss: 1.3127e-04 - val_loss: 8.5057e-04\n",
            "Epoch 49/100\n",
            "17/17 [==============================] - 1s 38ms/step - loss: 1.2680e-04 - val_loss: 8.7089e-04\n",
            "Epoch 50/100\n",
            "17/17 [==============================] - 1s 39ms/step - loss: 1.2755e-04 - val_loss: 8.4076e-04\n",
            "Epoch 51/100\n",
            "17/17 [==============================] - 1s 40ms/step - loss: 1.2711e-04 - val_loss: 9.0157e-04\n",
            "Epoch 52/100\n",
            "17/17 [==============================] - 1s 38ms/step - loss: 1.2598e-04 - val_loss: 8.6570e-04\n",
            "Epoch 53/100\n",
            "17/17 [==============================] - 1s 37ms/step - loss: 1.3681e-04 - val_loss: 8.5462e-04\n",
            "Epoch 54/100\n",
            "17/17 [==============================] - 1s 37ms/step - loss: 1.2534e-04 - val_loss: 8.9089e-04\n",
            "Epoch 55/100\n",
            "17/17 [==============================] - 1s 38ms/step - loss: 1.2726e-04 - val_loss: 8.1535e-04\n",
            "Epoch 56/100\n",
            "17/17 [==============================] - 1s 37ms/step - loss: 1.2418e-04 - val_loss: 8.5846e-04\n",
            "Epoch 57/100\n",
            "17/17 [==============================] - 1s 37ms/step - loss: 1.2377e-04 - val_loss: 8.8702e-04\n",
            "Epoch 58/100\n",
            "17/17 [==============================] - 1s 38ms/step - loss: 1.2462e-04 - val_loss: 8.2012e-04\n",
            "Epoch 59/100\n",
            "17/17 [==============================] - 1s 38ms/step - loss: 1.3357e-04 - val_loss: 0.0010\n",
            "Epoch 60/100\n",
            "17/17 [==============================] - 1s 37ms/step - loss: 1.2436e-04 - val_loss: 8.1547e-04\n",
            "Epoch 61/100\n",
            "17/17 [==============================] - 1s 51ms/step - loss: 1.2258e-04 - val_loss: 7.9434e-04\n",
            "Epoch 62/100\n",
            "17/17 [==============================] - 1s 59ms/step - loss: 1.2255e-04 - val_loss: 8.2156e-04\n",
            "Epoch 63/100\n",
            "17/17 [==============================] - 1s 59ms/step - loss: 1.2171e-04 - val_loss: 7.8737e-04\n",
            "Epoch 64/100\n",
            "17/17 [==============================] - 1s 63ms/step - loss: 1.2021e-04 - val_loss: 8.6852e-04\n",
            "Epoch 65/100\n",
            "17/17 [==============================] - 1s 42ms/step - loss: 1.2024e-04 - val_loss: 8.2055e-04\n",
            "Epoch 66/100\n",
            "17/17 [==============================] - 1s 38ms/step - loss: 1.2069e-04 - val_loss: 8.2339e-04\n",
            "Epoch 67/100\n",
            "17/17 [==============================] - 1s 38ms/step - loss: 1.2894e-04 - val_loss: 8.0643e-04\n",
            "Epoch 68/100\n",
            "17/17 [==============================] - 1s 38ms/step - loss: 1.1806e-04 - val_loss: 7.9559e-04\n",
            "Epoch 69/100\n",
            "17/17 [==============================] - 1s 37ms/step - loss: 1.2251e-04 - val_loss: 8.0418e-04\n",
            "Epoch 70/100\n",
            "17/17 [==============================] - 1s 37ms/step - loss: 1.1782e-04 - val_loss: 8.6938e-04\n",
            "Epoch 71/100\n",
            "17/17 [==============================] - 1s 37ms/step - loss: 1.2317e-04 - val_loss: 7.6706e-04\n",
            "Epoch 72/100\n",
            "17/17 [==============================] - 1s 37ms/step - loss: 1.1734e-04 - val_loss: 8.1731e-04\n",
            "Epoch 73/100\n",
            "17/17 [==============================] - 1s 38ms/step - loss: 1.1658e-04 - val_loss: 7.9070e-04\n",
            "Epoch 74/100\n",
            "17/17 [==============================] - 1s 37ms/step - loss: 1.1517e-04 - val_loss: 7.8831e-04\n",
            "Epoch 75/100\n",
            "17/17 [==============================] - 1s 38ms/step - loss: 1.1759e-04 - val_loss: 8.0844e-04\n",
            "Epoch 76/100\n",
            "17/17 [==============================] - 1s 37ms/step - loss: 1.1520e-04 - val_loss: 7.9083e-04\n",
            "Epoch 77/100\n",
            "17/17 [==============================] - 1s 38ms/step - loss: 1.1465e-04 - val_loss: 7.9907e-04\n",
            "Epoch 78/100\n",
            "17/17 [==============================] - 1s 38ms/step - loss: 1.1358e-04 - val_loss: 7.5341e-04\n",
            "Epoch 79/100\n",
            "17/17 [==============================] - 1s 37ms/step - loss: 1.1448e-04 - val_loss: 8.1038e-04\n",
            "Epoch 80/100\n",
            "17/17 [==============================] - 1s 43ms/step - loss: 1.1176e-04 - val_loss: 8.5118e-04\n",
            "Epoch 81/100\n",
            "17/17 [==============================] - 1s 58ms/step - loss: 1.1879e-04 - val_loss: 7.5497e-04\n",
            "Epoch 82/100\n",
            "17/17 [==============================] - 1s 60ms/step - loss: 1.1206e-04 - val_loss: 8.1904e-04\n",
            "Epoch 83/100\n",
            "17/17 [==============================] - 1s 57ms/step - loss: 1.1264e-04 - val_loss: 8.4866e-04\n",
            "Epoch 84/100\n",
            "17/17 [==============================] - 1s 51ms/step - loss: 1.1533e-04 - val_loss: 7.4659e-04\n",
            "Epoch 85/100\n",
            "17/17 [==============================] - 1s 38ms/step - loss: 1.1001e-04 - val_loss: 7.9792e-04\n",
            "Epoch 86/100\n",
            "17/17 [==============================] - 1s 38ms/step - loss: 1.1162e-04 - val_loss: 7.4224e-04\n",
            "Epoch 87/100\n",
            "17/17 [==============================] - 1s 38ms/step - loss: 1.0929e-04 - val_loss: 8.1045e-04\n",
            "Epoch 88/100\n",
            "17/17 [==============================] - 1s 38ms/step - loss: 1.1000e-04 - val_loss: 7.3880e-04\n",
            "Epoch 89/100\n",
            "17/17 [==============================] - 1s 38ms/step - loss: 1.1332e-04 - val_loss: 7.6310e-04\n",
            "Epoch 90/100\n",
            "17/17 [==============================] - 1s 37ms/step - loss: 1.1071e-04 - val_loss: 7.6565e-04\n",
            "Epoch 91/100\n",
            "17/17 [==============================] - 1s 37ms/step - loss: 1.1891e-04 - val_loss: 8.8213e-04\n",
            "Epoch 92/100\n",
            "17/17 [==============================] - 1s 38ms/step - loss: 1.2468e-04 - val_loss: 7.3044e-04\n",
            "Epoch 93/100\n",
            "17/17 [==============================] - 1s 37ms/step - loss: 1.1893e-04 - val_loss: 8.2138e-04\n",
            "Epoch 94/100\n",
            "17/17 [==============================] - 1s 38ms/step - loss: 1.1121e-04 - val_loss: 7.2788e-04\n",
            "Epoch 95/100\n",
            "17/17 [==============================] - 1s 38ms/step - loss: 1.1259e-04 - val_loss: 7.5434e-04\n",
            "Epoch 96/100\n",
            "17/17 [==============================] - 1s 37ms/step - loss: 1.0818e-04 - val_loss: 7.4291e-04\n",
            "Epoch 97/100\n",
            "17/17 [==============================] - 1s 37ms/step - loss: 1.1438e-04 - val_loss: 8.5138e-04\n",
            "Epoch 98/100\n",
            "17/17 [==============================] - 1s 39ms/step - loss: 1.1325e-04 - val_loss: 7.2170e-04\n",
            "Epoch 99/100\n",
            "17/17 [==============================] - 1s 38ms/step - loss: 1.0869e-04 - val_loss: 8.0317e-04\n",
            "Epoch 100/100\n",
            "17/17 [==============================] - 1s 57ms/step - loss: 1.0736e-04 - val_loss: 7.2187e-04\n"
          ]
        },
        {
          "output_type": "execute_result",
          "data": {
            "text/plain": [
              "<keras.callbacks.History at 0x7f1cf91c9ff0>"
            ]
          },
          "metadata": {},
          "execution_count": 13
        }
      ],
      "source": [
        "model.fit(X_train,y_train,validation_data=(X_test,ytest),epochs=100,batch_size=64,verbose=1)"
      ]
    },
    {
      "cell_type": "markdown",
      "source": [
        "# 10.Dự báo dữ liệu test, val"
      ],
      "metadata": {
        "id": "4uussh2Ii4aa"
      }
    },
    {
      "cell_type": "code",
      "execution_count": 14,
      "metadata": {
        "colab": {
          "base_uri": "https://localhost:8080/"
        },
        "id": "Rxx_KQSkQpBG",
        "outputId": "4c87caa6-462f-41cc-b9f3-9030cb31ee3d"
      },
      "outputs": [
        {
          "output_type": "stream",
          "name": "stdout",
          "text": [
            "33/33 [==============================] - 1s 7ms/step\n",
            "11/11 [==============================] - 0s 8ms/step\n",
            "6/6 [==============================] - 0s 8ms/step\n"
          ]
        }
      ],
      "source": [
        "train_predict=model.predict(X_train)\n",
        "y_pred=model.predict(X_test)\n",
        "y_pred_val=model.predict(X_val)"
      ]
    },
    {
      "cell_type": "markdown",
      "source": [
        "# 11. Chuẩn hóa dữ liệu y_pred, y_pred_val\n"
      ],
      "metadata": {
        "id": "5NDh1YGWi1yB"
      }
    },
    {
      "cell_type": "code",
      "execution_count": 15,
      "metadata": {
        "id": "5rwTN10LQ7rj"
      },
      "outputs": [],
      "source": [
        "train_predict=scaler.inverse_transform(train_predict)\n",
        "y_pred=scaler.inverse_transform(y_pred)\n",
        "y_pred_val=scaler.inverse_transform(y_pred_val)"
      ]
    },
    {
      "cell_type": "markdown",
      "source": [
        "# 12. Đánh giá độ chính xác thuật toán bằng RMSE, MAE"
      ],
      "metadata": {
        "id": "qgINqDCEY_Dr"
      }
    },
    {
      "cell_type": "code",
      "source": [
        "valid_rmse = np.sqrt(np.mean((y_pred_val - yval)**2))\n",
        "test_rmse = np.sqrt(np.mean((y_pred - ytest)**2))\n",
        "\n",
        "valid_mae = mean_absolute_error(yval, y_pred_val)\n",
        "test_mae = mean_absolute_error(ytest, y_pred)\n",
        "\n",
        "print('Validation RMSE:', valid_rmse)\n",
        "print('Validation MAE:', valid_mae)\n",
        "\n",
        "print('Testing RMSE:', test_rmse)\n",
        "print('Testing MAE:', test_mae)"
      ],
      "metadata": {
        "colab": {
          "base_uri": "https://localhost:8080/"
        },
        "id": "i2kShPJHYlIZ",
        "outputId": "e2690563-d5b7-4e74-af4f-443878c4d5e3"
      },
      "execution_count": 16,
      "outputs": [
        {
          "output_type": "stream",
          "name": "stdout",
          "text": [
            "Validation RMSE: 84.75164808610798\n",
            "Validation MAE: 83.0411271986548\n",
            "Testing RMSE: 106.7586372892307\n",
            "Testing MAE: 104.50360008006488\n"
          ]
        }
      ]
    },
    {
      "cell_type": "markdown",
      "source": [
        "# 13. Dự báo 30 ngày tiếp theo"
      ],
      "metadata": {
        "id": "jNaUVxSlY55q"
      }
    },
    {
      "cell_type": "code",
      "source": [
        "# 13. Dự báo 30 ngày tiếp theo\n",
        "n_steps=time_step\n",
        "x_input=val_data[-n_steps:].reshape(1,-1)\n",
        "x_input.shape\n",
        "\n",
        "temp_input=list(x_input)\n",
        "temp_input=temp_input[0].tolist()\n",
        "\n",
        "from numpy import array\n",
        "\n",
        "lst_output=[]\n",
        "\n",
        "i=0\n",
        "while(i<30):\n",
        "\n",
        "    if(len(temp_input)>n_steps):\n",
        "        #print(temp_input)\n",
        "        x_input=np.array(temp_input[1:])\n",
        "        print(\"{} day input {}\".format(i,x_input))\n",
        "        x_input=x_input.reshape(1,-1)\n",
        "        x_input = x_input.reshape((1, n_steps, 1))\n",
        "        #print(x_input)\n",
        "        yhat = model.predict(x_input, verbose=0)\n",
        "        print(\"{} day output {}\".format(i,yhat))\n",
        "        temp_input.extend(yhat[0].tolist())\n",
        "        temp_input=temp_input[1:]\n",
        "        #print(temp_input)\n",
        "        lst_output.extend(yhat.tolist())\n",
        "        i=i+1\n",
        "    else:\n",
        "        x_input = x_input.reshape((1, n_steps,1))\n",
        "        yhat = model.predict(x_input, verbose=0)\n",
        "        print(yhat[0])\n",
        "        temp_input.extend(yhat[0].tolist())\n",
        "        print(len(temp_input))\n",
        "        lst_output.extend(yhat.tolist())\n",
        "        i=i+1"
      ],
      "metadata": {
        "id": "hlyfzIkTo_Ql"
      },
      "execution_count": null,
      "outputs": []
    },
    {
      "cell_type": "code",
      "execution_count": 18,
      "metadata": {
        "id": "izQZ1iQyYl6N"
      },
      "outputs": [],
      "source": [
        "# x_input=val_data[60:].reshape(1,-1)\n",
        "# x_input.shape\n",
        "\n",
        "# temp_input=list(x_input)\n",
        "# temp_input=temp_input[0].tolist()\n",
        "\n",
        "# from numpy import array\n",
        "\n",
        "# lst_output=[]\n",
        "# n_steps = 103\n",
        "# i=0\n",
        "# while(i<30):\n",
        "\n",
        "#     if(len(temp_input)>100):\n",
        "#         #print(temp_input)\n",
        "#         x_input=np.array(temp_input[1:])\n",
        "#         print(\"{} day input {}\".format(i,x_input))\n",
        "#         x_input=x_input.reshape(1,-1)\n",
        "#         x_input = x_input.reshape((1, n_steps, 1))\n",
        "#         #print(x_input)\n",
        "#         yhat = model.predict(x_input, verbose=0)\n",
        "#         print(\"{} day output {}\".format(i,yhat))\n",
        "#         temp_input.extend(yhat[0].tolist())\n",
        "#         temp_input=temp_input[1:]\n",
        "#         #print(temp_input)\n",
        "#         lst_output.extend(yhat.tolist())\n",
        "#         i=i+1\n",
        "#     else:\n",
        "#         x_input = x_input.reshape((1, n_steps,1))\n",
        "#         yhat = model.predict(x_input, verbose=0)\n",
        "#         print(yhat[0])\n",
        "#         temp_input.extend(yhat[0].tolist())\n",
        "#         print(len(temp_input))\n",
        "#         lst_output.extend(yhat.tolist())\n",
        "#         i=i+1\n"
      ]
    },
    {
      "cell_type": "code",
      "execution_count": 19,
      "metadata": {
        "colab": {
          "base_uri": "https://localhost:8080/"
        },
        "id": "w2La9bAz7n_4",
        "outputId": "08988aa2-0b45-4ef8-94bf-e3f984578d15"
      },
      "outputs": [
        {
          "output_type": "execute_result",
          "data": {
            "text/plain": [
              "(1, 100, 1)"
            ]
          },
          "metadata": {},
          "execution_count": 19
        }
      ],
      "source": [
        "x_input.shape"
      ]
    },
    {
      "cell_type": "markdown",
      "source": [
        "# 14.Vẽ hình"
      ],
      "metadata": {
        "id": "M4iMT_npYzRv"
      }
    },
    {
      "cell_type": "code",
      "source": [
        "# 14.Vẽ hình\n",
        "print('Validation RMSE:', valid_rmse)\n",
        "print('Validation MAE:', valid_mae)\n",
        "\n",
        "print('Testing RMSE:', test_rmse)\n",
        "print('Testing MAE:', test_mae)\n",
        "\n",
        "train_data_index = pd.RangeIndex(start=0, stop=train_size, step=1)\n",
        "plt.plot(scaler.inverse_transform(train_data))\n",
        "\n",
        "test_data_index = pd.RangeIndex(start=train_size, stop=train_size+test_size, step=1)\n",
        "plt.plot(test_data_index,scaler.inverse_transform(test_data))\n",
        "\n",
        "test_data_index = pd.RangeIndex(start=train_size, stop=train_size+test_size, step=1)\n",
        "plt.plot(test_data_index,(y_pred))\n",
        "\n",
        "val_data_index = pd.RangeIndex(start=train_size+test_size, stop=train_size+test_size+val_size, step=1)\n",
        "plt.plot(val_data_index,scaler.inverse_transform(val_data))\n",
        "\n",
        "val_data_index = pd.RangeIndex(start=train_size+test_size, stop=train_size+test_size+val_size, step=1)\n",
        "plt.plot(val_data_index,y_pred_val)\n",
        "\n",
        "prediect_data_index = pd.RangeIndex(start=len(df1)-1, stop=len(df1)+29, step=1)\n",
        "plt.plot(prediect_data_index,scaler.inverse_transform(lst_output))\n",
        "\n",
        "plt.legend(['Train','Test','Predict','Validate','ValidatePred','Predict30days'])\n",
        "plt.show()\n",
        "# print(lst_output)"
      ],
      "metadata": {
        "colab": {
          "base_uri": "https://localhost:8080/",
          "height": 503
        },
        "id": "-5pFU_oIk6W6",
        "outputId": "6c80262c-66b6-4759-e1a1-0feaa3bbf0a4"
      },
      "execution_count": 20,
      "outputs": [
        {
          "output_type": "stream",
          "name": "stdout",
          "text": [
            "Validation RMSE: 84.75164808610798\n",
            "Validation MAE: 83.0411271986548\n",
            "Testing RMSE: 106.7586372892307\n",
            "Testing MAE: 104.50360008006488\n"
          ]
        },
        {
          "output_type": "display_data",
          "data": {
            "text/plain": [
              "<Figure size 640x480 with 1 Axes>"
            ],
            "image/png": "[encoded data removed]"
          },
          "metadata": {}
        }
      ]
    },
    {
      "cell_type": "code",
      "execution_count": 21,
      "metadata": {
        "id": "KSa_mX51a654"
      },
      "outputs": [],
      "source": [
        "# train_data_index = pd.RangeIndex(start=0, stop=train_size, step=1)\n",
        "# plt.plot(scaler.inverse_transform(train_data))\n",
        "# test_data_index = pd.RangeIndex(start=train_size, stop=train_size+test_size, step=1)\n",
        "# plt.plot(test_data_index,scaler.inverse_transform(test_data))\n",
        "# test_data_index = pd.RangeIndex(start=train_size+101, stop=train_size+test_size, step=1)\n",
        "# plt.plot(test_data_index,(y_pred))\n",
        "# val_data_index = pd.RangeIndex(start=train_size+test_size, stop=train_size+test_size+val_size, step=1)\n",
        "# plt.plot(val_data_index,scaler.inverse_transform(val_data))\n",
        "# val_data_index = pd.RangeIndex(start=train_size+test_size+101, stop=train_size+test_size+val_size, step=1)\n",
        "# plt.plot(val_data_index,y_pred_val)\n",
        "# prediect_data_index = pd.RangeIndex(start=len(df1)-1, stop=len(df1)+29, step=1)\n",
        "# plt.plot(prediect_data_index,scaler.inverse_transform(lst_output))\n",
        "# plt.legend(['Train','Test','Predict','Validate','ValidatePred','Predict30days'])\n",
        "# plt.show()"
      ]
    },
    {
      "cell_type": "markdown",
      "source": [
        "# 15.Vẽ hình Predict 30 days\n"
      ],
      "metadata": {
        "id": "xLYTQRIGlplv"
      }
    },
    {
      "cell_type": "code",
      "source": [
        "prediect_data_index = pd.RangeIndex(start=0, stop=30, step=1)\n",
        "plt.plot(prediect_data_index,scaler.inverse_transform(lst_output))\n",
        "\n",
        "plt.legend(['Predict30days'])\n",
        "plt.show()"
      ],
      "metadata": {
        "colab": {
          "base_uri": "https://localhost:8080/",
          "height": 430
        },
        "id": "Pdf8O6ByX5Xp",
        "outputId": "637a3bed-2489-4256-f995-e8cc0fd751de"
      },
      "execution_count": 22,
      "outputs": [
        {
          "output_type": "display_data",
          "data": {
            "text/plain": [
              "<Figure size 640x480 with 1 Axes>"
            ],
            "image/png": "[encoded data removed]"
          },
          "metadata": {}
        }
      ]
    },
    {
      "cell_type": "code",
      "source": [
        "scaler.inverse_transform(lst_output)[:30, 0]\n"
      ],
      "metadata": {
        "colab": {
          "base_uri": "https://localhost:8080/"
        },
        "id": "Tj47Hneylx3e",
        "outputId": "8268dffc-0452-41a0-d24a-608771cc460c"
      },
      "execution_count": 23,
      "outputs": [
        {
          "output_type": "execute_result",
          "data": {
            "text/plain": [
              "array([124.43237765, 123.70266695, 123.07334574, 122.46846569,\n",
              "       121.87832663, 121.2989504 , 120.73039149, 120.17287697,\n",
              "       119.62679739, 119.09237981, 118.5698967 , 118.0594934 ,\n",
              "       117.56125164, 117.07521683, 116.60144347, 116.13985891,\n",
              "       115.69043588, 115.25308357, 114.82765666, 114.41404615,\n",
              "       114.01205224, 113.62158408, 113.24234196, 112.87415332,\n",
              "       112.51679108, 112.17006451, 111.83369206, 111.50744666,\n",
              "       111.19108307, 110.88435608])"
            ]
          },
          "metadata": {},
          "execution_count": 23
        }
      ]
    }
  ],
  "metadata": {
    "colab": {
      "provenance": [],
      "toc_visible": true
    },
    "kernelspec": {
      "display_name": "Python 3",
      "name": "python3"
    },
    "language_info": {
      "name": "python"
    }
  },
  "nbformat": 4,
  "nbformat_minor": 0
}